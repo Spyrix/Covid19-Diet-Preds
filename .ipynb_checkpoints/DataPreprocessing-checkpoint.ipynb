{
 "cells": [
  {
   "cell_type": "markdown",
   "id": "following-bloom",
   "metadata": {},
   "source": [
    "<h1>Data Preprocessing Notebook for Covid Food Project</h1>"
   ]
  },
  {
   "cell_type": "code",
   "execution_count": null,
   "id": "higher-newton",
   "metadata": {},
   "outputs": [],
   "source": []
  }
 ],
 "metadata": {
  "kernelspec": {
   "display_name": "Python 3",
   "language": "python",
   "name": "python3"
  },
  "language_info": {
   "codemirror_mode": {
    "name": "ipython",
    "version": 3
   },
   "file_extension": ".py",
   "mimetype": "text/x-python",
   "name": "python",
   "nbconvert_exporter": "python",
   "pygments_lexer": "ipython3",
   "version": "3.8.5"
  }
 },
 "nbformat": 4,
 "nbformat_minor": 5
}
