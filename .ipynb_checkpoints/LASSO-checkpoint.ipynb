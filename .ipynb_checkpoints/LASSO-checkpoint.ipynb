{
 "cells": [
  {
   "cell_type": "code",
   "execution_count": 20,
   "id": "settled-narrow",
   "metadata": {},
   "outputs": [],
   "source": [
    "#import stuff\n",
    "import numpy as np\n",
    "import pandas as pd\n",
    "import matplotlib.pyplot as plt\n",
    "from sklearn.model_selection import cross_val_score\n",
    "from sklearn.model_selection import train_test_split\n",
    "from sklearn import linear_model"
   ]
  },
  {
   "cell_type": "code",
   "execution_count": 21,
   "id": "defined-smoke",
   "metadata": {},
   "outputs": [],
   "source": [
    "#import cleaned up datasets\n",
    "protein_df = pd.read_csv(\"data/data_clean/protein_data_clean.csv\")\n",
    "kg_df = pd.read_csv(\"data/data_clean/kg_data_clean.csv\")\n",
    "kcal_df = pd.read_csv(\"data/data_clean/kcal_data_clean.csv\")\n",
    "fat_df = pd.read_csv(\"data/data_clean/fat_data_clean.csv\")"
   ]
  },
  {
   "cell_type": "markdown",
   "id": "residential-frank",
   "metadata": {},
   "source": [
    "<h3>\n",
    "I want to figure out what the lambda best value to penalize our model is for LASSO, for each dataset set.\n",
    "I will also print out the weight vector, so we can determine what features LASSO determines are actually important.\n",
    "</h3>"
   ]
  },
  {
   "cell_type": "code",
   "execution_count": 77,
   "id": "pretty-sequence",
   "metadata": {
    "scrolled": true
   },
   "outputs": [],
   "source": [
    "def loop_lasso(X_train, X_test, y_train, y_test, x):\n",
    "    best_a = 1\n",
    "    best_score = 0\n",
    "    for a in range (1,11):\n",
    "        Lreg = linear_model.Lasso(alpha = a)\n",
    "        Lreg.fit(X_train, y_train)\n",
    "        score = cross_val_score(Lreg, X_test, y_test, cv=5)\n",
    "        if(np.average(score)>best_score):\n",
    "            best_score=np.average(score)\n",
    "            best_a = a  \n",
    "    print(\"Best score :\",best_score)\n",
    "    #Get the best model's coefs\n",
    "    Lreg = linear_model.Lasso(alpha = best_a)\n",
    "    Lreg.fit(X_train, y_train)\n",
    "    print(\"Weight coefficients:\")\n",
    "    for c in range(1,len(Lreg.coef_)):\n",
    "        if(Lreg.coef_[c]>0.0):\n",
    "            print(x.columns[c],\":\",Lreg.coef_[c])\n",
    "    print('\\n')"
   ]
  },
  {
   "cell_type": "code",
   "execution_count": 78,
   "id": "signed-silence",
   "metadata": {},
   "outputs": [],
   "source": [
    "def LASSO(df):\n",
    "    x = df.drop(['Country', 'Population','Active','Recovered','Deaths','Confirmed','Undernourished'],axis=1)\n",
    "    print(\"Confirmed:\")\n",
    "    #confirmed\n",
    "    y = df.iloc[:,26].values\n",
    "    X_train, X_test, y_train, y_test = train_test_split(x, y, test_size = 0.2, random_state = 0)\n",
    "    loop_lasso(X_train, X_test, y_train, y_test, x)\n",
    "    print(\"Deaths:\")\n",
    "    #deaths\n",
    "    y = df.iloc[:,27].values\n",
    "    X_train, X_test, y_train, y_test = train_test_split(x, y, test_size = 0.2, random_state = 0)\n",
    "    loop_lasso(X_train, X_test, y_train, y_test, x)\n",
    "    print(\"Recovered:\")\n",
    "    #recovered\n",
    "    y = df.iloc[:,28].values\n",
    "    X_train, X_test, y_train, y_test = train_test_split(x, y, test_size = 0.2, random_state = 0)\n",
    "    loop_lasso(X_train, X_test, y_train, y_test, x)"
   ]
  },
  {
   "cell_type": "code",
   "execution_count": 79,
   "id": "intellectual-africa",
   "metadata": {},
   "outputs": [
    {
     "name": "stdout",
     "output_type": "stream",
     "text": [
      "Confirmed:\n",
      "Best score : 0.3275263394890625\n",
      "Weight coefficients:\n",
      "Animal Products_p : 0.049813757170649856\n",
      "Milk - Excluding Butter_p : 0.09725088024365224\n",
      "Obesity : 0.06875321896586162\n",
      "\n",
      "\n",
      "Deaths:\n",
      "Best score : 0\n",
      "Weight coefficients:\n",
      "\n",
      "\n",
      "Recovered:\n",
      "Best score : 0\n",
      "Weight coefficients:\n",
      "Animal Products_p : 0.028958341065788762\n",
      "Milk - Excluding Butter_p : 0.07166492041246687\n",
      "Obesity : 0.06008530975303411\n",
      "\n",
      "\n"
     ]
    }
   ],
   "source": [
    "LASSO(protein_df)"
   ]
  },
  {
   "cell_type": "code",
   "execution_count": 80,
   "id": "extended-choir",
   "metadata": {},
   "outputs": [
    {
     "name": "stdout",
     "output_type": "stream",
     "text": [
      "Confirmed:\n",
      "Best score : 0.19010576800059031\n",
      "Weight coefficients:\n",
      "Animal Products_f : 0.0626877750076944\n",
      "Obesity : 0.09050490057040118\n",
      "\n",
      "\n",
      "Deaths:\n",
      "Best score : 0\n",
      "Weight coefficients:\n",
      "\n",
      "\n",
      "Recovered:\n",
      "Best score : 0.241071722280587\n",
      "Weight coefficients:\n",
      "Animal Products_f : 0.032963674992145225\n",
      "Animal fats_f : 0.002868039477184876\n",
      "Obesity : 0.07353367053634427\n",
      "\n",
      "\n"
     ]
    }
   ],
   "source": [
    "LASSO(fat_df)"
   ]
  },
  {
   "cell_type": "code",
   "execution_count": 81,
   "id": "standard-sharing",
   "metadata": {},
   "outputs": [
    {
     "name": "stdout",
     "output_type": "stream",
     "text": [
      "Confirmed:\n",
      "Best score : 0.2582225788481021\n",
      "Weight coefficients:\n",
      "Animal Products_kg : 0.048450037807465846\n",
      "Milk - Excluding Butter_kg : 0.011007300179176855\n",
      "Obesity : 0.07579652130270749\n",
      "\n",
      "\n",
      "Deaths:\n",
      "Best score : 0\n",
      "Weight coefficients:\n",
      "\n",
      "\n",
      "Recovered:\n",
      "Best score : 0\n",
      "Weight coefficients:\n",
      "Animal Products_kg : 0.030349927359223584\n",
      "Milk - Excluding Butter_kg : 0.03320575317494299\n",
      "Obesity : 0.07165533491604104\n",
      "\n",
      "\n"
     ]
    }
   ],
   "source": [
    "LASSO(kg_df)"
   ]
  },
  {
   "cell_type": "code",
   "execution_count": null,
   "id": "better-raising",
   "metadata": {},
   "outputs": [],
   "source": []
  },
  {
   "cell_type": "code",
   "execution_count": null,
   "id": "excellent-creativity",
   "metadata": {},
   "outputs": [],
   "source": []
  }
 ],
 "metadata": {
  "kernelspec": {
   "display_name": "Python 3",
   "language": "python",
   "name": "python3"
  },
  "language_info": {
   "codemirror_mode": {
    "name": "ipython",
    "version": 3
   },
   "file_extension": ".py",
   "mimetype": "text/x-python",
   "name": "python",
   "nbconvert_exporter": "python",
   "pygments_lexer": "ipython3",
   "version": "3.8.5"
  }
 },
 "nbformat": 4,
 "nbformat_minor": 5
}
