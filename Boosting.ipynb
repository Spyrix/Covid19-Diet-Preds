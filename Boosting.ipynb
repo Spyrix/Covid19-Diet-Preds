{
 "cells": [
  {
   "cell_type": "code",
   "execution_count": 1,
   "metadata": {},
   "outputs": [],
   "source": [
    "import numpy as np\n",
    "import pandas as pd\n",
    "\n",
    "from sklearn.model_selection import train_test_split\n",
    "from sklearn.model_selection import GridSearchCV\n",
    "from sklearn.model_selection import KFold\n",
    "\n",
    "from sklearn.model_selection import cross_val_score\n",
    "from sklearn.metrics import mean_squared_error\n",
    "\n",
    "from sklearn.preprocessing import StandardScaler, MinMaxScaler\n",
    "\n",
    "from xgboost import XGBRegressor\n",
    "import matplotlib.pyplot as plt"
   ]
  },
  {
   "cell_type": "markdown",
   "metadata": {},
   "source": [
    "### Importing data"
   ]
  },
  {
   "cell_type": "code",
   "execution_count": 80,
   "metadata": {},
   "outputs": [],
   "source": [
    "fat_df = pd.read_csv('data/data_clean/fat_data_clean.csv')\n",
    "kcal_df = pd.read_csv('data/data_clean/kcal_data_clean.csv')\n",
    "kg_df = pd.read_csv('data/data_clean/kg_data_clean.csv')\n",
    "protein_df = pd.read_csv('data/data_clean/protein_data_clean.csv')"
   ]
  },
  {
   "cell_type": "markdown",
   "metadata": {},
   "source": [
    "## Identifying Multicollinearity in Data"
   ]
  },
  {
   "cell_type": "code",
   "execution_count": 64,
   "metadata": {},
   "outputs": [],
   "source": [
    "import statsmodels.api as sm\n",
    "from statsmodels.stats.outliers_influence import variance_inflation_factor"
   ]
  },
  {
   "cell_type": "code",
   "execution_count": 65,
   "metadata": {},
   "outputs": [],
   "source": [
    "# Using fat_df just as preliminary dataset to identify multicollinearity\n",
    "fat_df = fat_df.drop(['Country'], axis=1)\n",
    "\n",
    "X = fat_df.iloc[:, :-6]\n",
    "X_col = X.copy()\n",
    "X = MinMaxScaler().fit_transform(X)\n",
    "y = fat_df['Deaths']\n",
    "\n",
    "\n",
    "vif_data = pd.DataFrame()\n",
    "vif_data[\"feature\"] = X_col.columns"
   ]
  },
  {
   "cell_type": "code",
   "execution_count": 66,
   "metadata": {},
   "outputs": [],
   "source": [
    "# Training-test split\n",
    "X_train, X_test, y_train, y_test = train_test_split(X, y, test_size = 0.20, random_state = 5)\n",
    "\n",
    "# Initial results\n",
    "# calculating VIF for each feature\n",
    "vif_data[\"VIF\"] = [variance_inflation_factor(X, i)\n",
    "                          for i in range(len(X_col.columns))]"
   ]
  },
  {
   "cell_type": "code",
   "execution_count": 67,
   "metadata": {},
   "outputs": [
    {
     "data": {
      "text/html": [
       "<div>\n",
       "<style scoped>\n",
       "    .dataframe tbody tr th:only-of-type {\n",
       "        vertical-align: middle;\n",
       "    }\n",
       "\n",
       "    .dataframe tbody tr th {\n",
       "        vertical-align: top;\n",
       "    }\n",
       "\n",
       "    .dataframe thead th {\n",
       "        text-align: right;\n",
       "    }\n",
       "</style>\n",
       "<table border=\"1\" class=\"dataframe\">\n",
       "  <thead>\n",
       "    <tr style=\"text-align: right;\">\n",
       "      <th></th>\n",
       "      <th>feature</th>\n",
       "      <th>VIF</th>\n",
       "    </tr>\n",
       "  </thead>\n",
       "  <tbody>\n",
       "    <tr>\n",
       "      <th>18</th>\n",
       "      <td>Sugar &amp; Sweeteners_f</td>\n",
       "      <td>1.894525e+00</td>\n",
       "    </tr>\n",
       "    <tr>\n",
       "      <th>3</th>\n",
       "      <td>Aquatic Products, Other_f</td>\n",
       "      <td>3.423765e+00</td>\n",
       "    </tr>\n",
       "    <tr>\n",
       "      <th>0</th>\n",
       "      <td>Alcoholic Beverages_f</td>\n",
       "      <td>3.743534e+00</td>\n",
       "    </tr>\n",
       "    <tr>\n",
       "      <th>23</th>\n",
       "      <td>Obesity</td>\n",
       "      <td>8.263887e+00</td>\n",
       "    </tr>\n",
       "    <tr>\n",
       "      <th>17</th>\n",
       "      <td>Sugar Crops_f</td>\n",
       "      <td>1.079844e+01</td>\n",
       "    </tr>\n",
       "    <tr>\n",
       "      <th>9</th>\n",
       "      <td>Miscellaneous_f</td>\n",
       "      <td>1.321336e+02</td>\n",
       "    </tr>\n",
       "    <tr>\n",
       "      <th>11</th>\n",
       "      <td>Offals_f</td>\n",
       "      <td>1.421459e+03</td>\n",
       "    </tr>\n",
       "    <tr>\n",
       "      <th>22</th>\n",
       "      <td>Vegetables_f</td>\n",
       "      <td>2.050995e+03</td>\n",
       "    </tr>\n",
       "    <tr>\n",
       "      <th>15</th>\n",
       "      <td>Starchy Roots_f</td>\n",
       "      <td>3.085332e+03</td>\n",
       "    </tr>\n",
       "    <tr>\n",
       "      <th>13</th>\n",
       "      <td>Pulses_f</td>\n",
       "      <td>3.408131e+03</td>\n",
       "    </tr>\n",
       "    <tr>\n",
       "      <th>14</th>\n",
       "      <td>Spices_f</td>\n",
       "      <td>4.802095e+03</td>\n",
       "    </tr>\n",
       "    <tr>\n",
       "      <th>16</th>\n",
       "      <td>Stimulants_f</td>\n",
       "      <td>1.520102e+04</td>\n",
       "    </tr>\n",
       "    <tr>\n",
       "      <th>7</th>\n",
       "      <td>Fruits - Excluding Wine_f</td>\n",
       "      <td>1.642369e+04</td>\n",
       "    </tr>\n",
       "    <tr>\n",
       "      <th>19</th>\n",
       "      <td>Treenuts_f</td>\n",
       "      <td>1.990075e+04</td>\n",
       "    </tr>\n",
       "    <tr>\n",
       "      <th>5</th>\n",
       "      <td>Eggs_f</td>\n",
       "      <td>4.827359e+04</td>\n",
       "    </tr>\n",
       "    <tr>\n",
       "      <th>6</th>\n",
       "      <td>Fish, Seafood_f</td>\n",
       "      <td>5.867606e+04</td>\n",
       "    </tr>\n",
       "    <tr>\n",
       "      <th>4</th>\n",
       "      <td>Cereals - Excluding Beer_f</td>\n",
       "      <td>3.666972e+05</td>\n",
       "    </tr>\n",
       "    <tr>\n",
       "      <th>12</th>\n",
       "      <td>Oilcrops_f</td>\n",
       "      <td>4.716865e+05</td>\n",
       "    </tr>\n",
       "    <tr>\n",
       "      <th>2</th>\n",
       "      <td>Animal fats_f</td>\n",
       "      <td>1.110426e+06</td>\n",
       "    </tr>\n",
       "    <tr>\n",
       "      <th>10</th>\n",
       "      <td>Milk - Excluding Butter_f</td>\n",
       "      <td>1.427736e+06</td>\n",
       "    </tr>\n",
       "    <tr>\n",
       "      <th>8</th>\n",
       "      <td>Meat_f</td>\n",
       "      <td>3.684705e+06</td>\n",
       "    </tr>\n",
       "    <tr>\n",
       "      <th>21</th>\n",
       "      <td>Vegetable Oils_f</td>\n",
       "      <td>3.925570e+06</td>\n",
       "    </tr>\n",
       "    <tr>\n",
       "      <th>20</th>\n",
       "      <td>Vegetal Products_f</td>\n",
       "      <td>8.602909e+06</td>\n",
       "    </tr>\n",
       "    <tr>\n",
       "      <th>1</th>\n",
       "      <td>Animal Products_f</td>\n",
       "      <td>1.597918e+07</td>\n",
       "    </tr>\n",
       "  </tbody>\n",
       "</table>\n",
       "</div>"
      ],
      "text/plain": [
       "                       feature           VIF\n",
       "18        Sugar & Sweeteners_f  1.894525e+00\n",
       "3    Aquatic Products, Other_f  3.423765e+00\n",
       "0        Alcoholic Beverages_f  3.743534e+00\n",
       "23                     Obesity  8.263887e+00\n",
       "17               Sugar Crops_f  1.079844e+01\n",
       "9              Miscellaneous_f  1.321336e+02\n",
       "11                    Offals_f  1.421459e+03\n",
       "22                Vegetables_f  2.050995e+03\n",
       "15             Starchy Roots_f  3.085332e+03\n",
       "13                    Pulses_f  3.408131e+03\n",
       "14                    Spices_f  4.802095e+03\n",
       "16                Stimulants_f  1.520102e+04\n",
       "7    Fruits - Excluding Wine_f  1.642369e+04\n",
       "19                  Treenuts_f  1.990075e+04\n",
       "5                       Eggs_f  4.827359e+04\n",
       "6              Fish, Seafood_f  5.867606e+04\n",
       "4   Cereals - Excluding Beer_f  3.666972e+05\n",
       "12                  Oilcrops_f  4.716865e+05\n",
       "2                Animal fats_f  1.110426e+06\n",
       "10   Milk - Excluding Butter_f  1.427736e+06\n",
       "8                       Meat_f  3.684705e+06\n",
       "21            Vegetable Oils_f  3.925570e+06\n",
       "20          Vegetal Products_f  8.602909e+06\n",
       "1            Animal Products_f  1.597918e+07"
      ]
     },
     "execution_count": 67,
     "metadata": {},
     "output_type": "execute_result"
    }
   ],
   "source": [
    "#Identified that:\n",
    "# - Vegetable Oil is highly correlative with Vegetable Products attribute\n",
    "# - Milk and Animal Fats might correlate and fit with Animal Products\n",
    "vif_data.sort_values('VIF')"
   ]
  },
  {
   "cell_type": "markdown",
   "metadata": {},
   "source": [
    "## Using XGBoost for Feature Importance"
   ]
  },
  {
   "cell_type": "markdown",
   "metadata": {},
   "source": [
    "### Using Food Supply in Kcal dataset"
   ]
  },
  {
   "cell_type": "code",
   "execution_count": 68,
   "metadata": {},
   "outputs": [
    {
     "data": {
      "text/html": [
       "<div>\n",
       "<style scoped>\n",
       "    .dataframe tbody tr th:only-of-type {\n",
       "        vertical-align: middle;\n",
       "    }\n",
       "\n",
       "    .dataframe tbody tr th {\n",
       "        vertical-align: top;\n",
       "    }\n",
       "\n",
       "    .dataframe thead th {\n",
       "        text-align: right;\n",
       "    }\n",
       "</style>\n",
       "<table border=\"1\" class=\"dataframe\">\n",
       "  <thead>\n",
       "    <tr style=\"text-align: right;\">\n",
       "      <th></th>\n",
       "      <th>Vegetal Products_kcal</th>\n",
       "      <th>Fish, Seafood_kcal</th>\n",
       "      <th>Spices_kcal</th>\n",
       "      <th>Offals_kcal</th>\n",
       "      <th>Vegetables_kcal</th>\n",
       "      <th>Animal Products_kcal</th>\n",
       "      <th>Alcoholic Beverages_kcal</th>\n",
       "      <th>Sugar &amp; Sweeteners_kcal</th>\n",
       "      <th>Confirmed</th>\n",
       "      <th>Deaths</th>\n",
       "      <th>Recovered</th>\n",
       "    </tr>\n",
       "  </thead>\n",
       "  <tbody>\n",
       "    <tr>\n",
       "      <th>count</th>\n",
       "      <td>164.000000</td>\n",
       "      <td>164.000000</td>\n",
       "      <td>164.000000</td>\n",
       "      <td>164.000000</td>\n",
       "      <td>164.000000</td>\n",
       "      <td>164.000000</td>\n",
       "      <td>164.000000</td>\n",
       "      <td>164.000000</td>\n",
       "      <td>164.000000</td>\n",
       "      <td>164.000000</td>\n",
       "      <td>164.000000</td>\n",
       "    </tr>\n",
       "    <tr>\n",
       "      <th>mean</th>\n",
       "      <td>40.741763</td>\n",
       "      <td>0.607802</td>\n",
       "      <td>0.186888</td>\n",
       "      <td>0.142634</td>\n",
       "      <td>1.082252</td>\n",
       "      <td>9.259680</td>\n",
       "      <td>1.341392</td>\n",
       "      <td>4.866630</td>\n",
       "      <td>2.021972</td>\n",
       "      <td>0.039370</td>\n",
       "      <td>1.452356</td>\n",
       "    </tr>\n",
       "    <tr>\n",
       "      <th>std</th>\n",
       "      <td>4.766396</td>\n",
       "      <td>0.549763</td>\n",
       "      <td>0.239864</td>\n",
       "      <td>0.110741</td>\n",
       "      <td>0.653259</td>\n",
       "      <td>4.766646</td>\n",
       "      <td>1.068834</td>\n",
       "      <td>2.120514</td>\n",
       "      <td>2.360454</td>\n",
       "      <td>0.048718</td>\n",
       "      <td>1.927617</td>\n",
       "    </tr>\n",
       "    <tr>\n",
       "      <th>min</th>\n",
       "      <td>27.708900</td>\n",
       "      <td>0.000000</td>\n",
       "      <td>0.000000</td>\n",
       "      <td>0.000000</td>\n",
       "      <td>0.095700</td>\n",
       "      <td>1.623700</td>\n",
       "      <td>0.000000</td>\n",
       "      <td>0.678600</td>\n",
       "      <td>0.000312</td>\n",
       "      <td>0.000000</td>\n",
       "      <td>0.000000</td>\n",
       "    </tr>\n",
       "    <tr>\n",
       "      <th>25%</th>\n",
       "      <td>36.841775</td>\n",
       "      <td>0.237500</td>\n",
       "      <td>0.037625</td>\n",
       "      <td>0.078475</td>\n",
       "      <td>0.602000</td>\n",
       "      <td>5.031950</td>\n",
       "      <td>0.388900</td>\n",
       "      <td>3.435525</td>\n",
       "      <td>0.140976</td>\n",
       "      <td>0.002013</td>\n",
       "      <td>0.099107</td>\n",
       "    </tr>\n",
       "    <tr>\n",
       "      <th>50%</th>\n",
       "      <td>41.062700</td>\n",
       "      <td>0.466750</td>\n",
       "      <td>0.087350</td>\n",
       "      <td>0.118250</td>\n",
       "      <td>1.001300</td>\n",
       "      <td>8.933250</td>\n",
       "      <td>1.244600</td>\n",
       "      <td>4.793350</td>\n",
       "      <td>1.011570</td>\n",
       "      <td>0.011998</td>\n",
       "      <td>0.475402</td>\n",
       "    </tr>\n",
       "    <tr>\n",
       "      <th>75%</th>\n",
       "      <td>44.985600</td>\n",
       "      <td>0.861950</td>\n",
       "      <td>0.233800</td>\n",
       "      <td>0.179025</td>\n",
       "      <td>1.349850</td>\n",
       "      <td>13.160125</td>\n",
       "      <td>2.042250</td>\n",
       "      <td>6.383900</td>\n",
       "      <td>3.487069</td>\n",
       "      <td>0.069503</td>\n",
       "      <td>2.622874</td>\n",
       "    </tr>\n",
       "    <tr>\n",
       "      <th>max</th>\n",
       "      <td>48.386400</td>\n",
       "      <td>4.418300</td>\n",
       "      <td>1.220200</td>\n",
       "      <td>0.801500</td>\n",
       "      <td>3.352400</td>\n",
       "      <td>22.291100</td>\n",
       "      <td>5.157400</td>\n",
       "      <td>9.549200</td>\n",
       "      <td>10.408199</td>\n",
       "      <td>0.185428</td>\n",
       "      <td>9.039871</td>\n",
       "    </tr>\n",
       "  </tbody>\n",
       "</table>\n",
       "</div>"
      ],
      "text/plain": [
       "       Vegetal Products_kcal  Fish, Seafood_kcal  Spices_kcal  Offals_kcal  \\\n",
       "count             164.000000          164.000000   164.000000   164.000000   \n",
       "mean               40.741763            0.607802     0.186888     0.142634   \n",
       "std                 4.766396            0.549763     0.239864     0.110741   \n",
       "min                27.708900            0.000000     0.000000     0.000000   \n",
       "25%                36.841775            0.237500     0.037625     0.078475   \n",
       "50%                41.062700            0.466750     0.087350     0.118250   \n",
       "75%                44.985600            0.861950     0.233800     0.179025   \n",
       "max                48.386400            4.418300     1.220200     0.801500   \n",
       "\n",
       "       Vegetables_kcal  Animal Products_kcal  Alcoholic Beverages_kcal  \\\n",
       "count       164.000000            164.000000                164.000000   \n",
       "mean          1.082252              9.259680                  1.341392   \n",
       "std           0.653259              4.766646                  1.068834   \n",
       "min           0.095700              1.623700                  0.000000   \n",
       "25%           0.602000              5.031950                  0.388900   \n",
       "50%           1.001300              8.933250                  1.244600   \n",
       "75%           1.349850             13.160125                  2.042250   \n",
       "max           3.352400             22.291100                  5.157400   \n",
       "\n",
       "       Sugar & Sweeteners_kcal   Confirmed      Deaths   Recovered  \n",
       "count               164.000000  164.000000  164.000000  164.000000  \n",
       "mean                  4.866630    2.021972    0.039370    1.452356  \n",
       "std                   2.120514    2.360454    0.048718    1.927617  \n",
       "min                   0.678600    0.000312    0.000000    0.000000  \n",
       "25%                   3.435525    0.140976    0.002013    0.099107  \n",
       "50%                   4.793350    1.011570    0.011998    0.475402  \n",
       "75%                   6.383900    3.487069    0.069503    2.622874  \n",
       "max                   9.549200   10.408199    0.185428    9.039871  "
      ]
     },
     "execution_count": 68,
     "metadata": {},
     "output_type": "execute_result"
    }
   ],
   "source": [
    "# Removing Country column due to it being categorical and not providing much information\n",
    "kcal_df = kcal_df[['Vegetal Products_kcal', 'Fish, Seafood_kcal', 'Spices_kcal', \n",
    "                   'Offals_kcal', 'Vegetables_kcal','Animal Products_kcal',\n",
    "                   'Alcoholic Beverages_kcal','Sugar & Sweeteners_kcal','Confirmed','Deaths', 'Recovered']]\n",
    "\n",
    "#kcal_df = kcal_df.drop(['Country', 'Obesity'], axis=1)\n",
    "kcal_df.describe()"
   ]
  },
  {
   "cell_type": "markdown",
   "metadata": {},
   "source": [
    "##### Feature Importance for Confirmed Attribute"
   ]
  },
  {
   "cell_type": "code",
   "execution_count": 69,
   "metadata": {},
   "outputs": [],
   "source": [
    "# Dividing the data between X and y of interest\n",
    "X = kcal_df.drop(['Confirmed','Deaths', 'Recovered'], axis=1)\n",
    "# X_col = X.copy()\n",
    "# X = MinMaxScaler().fit_transform(X)\n",
    "y = kcal_df['Confirmed'] "
   ]
  },
  {
   "cell_type": "code",
   "execution_count": 70,
   "metadata": {},
   "outputs": [
    {
     "name": "stdout",
     "output_type": "stream",
     "text": [
      "MSE: 3.367706643000562 (1.3230440169986173)\n",
      "RMSE: 1.8001744300399944 (0.35648094539644654)\n",
      "MAE: 1.2743582639731765 (0.24306872740535615)\n"
     ]
    }
   ],
   "source": [
    "# Training-test split\n",
    "X_train, X_test, y_train, y_test = train_test_split(X, y, test_size=0.10, random_state=42)\n",
    "\n",
    "# Training split using K-Fold for cross_val\n",
    "kfold = KFold(n_splits=10)\n",
    "\n",
    "# Parameter grid for XGBoost\n",
    "params = {'gamma': [0.5, 1, 1.5, 2, 5],\n",
    "          'max_depth': [3, 4, 5], \n",
    "          'min_child_weight': [1, 2, 5, 10]\n",
    "         }\n",
    "\n",
    "# Create XGBoost model instance\n",
    "xgb = XGBRegressor()\n",
    "\n",
    "# Create GridSearch instance\n",
    "xgb_gs = GridSearchCV(xgb, param_grid=params)\n",
    "xgb_gs.fit(X, y)\n",
    "\n",
    "# Metrics and Cross Validation of model\n",
    "mse = cross_val_score(xgb_gs, X, y, scoring='neg_mean_squared_error', cv=kfold)\n",
    "rmse = cross_val_score(xgb_gs, X, y, scoring='neg_root_mean_squared_error', cv=kfold)\n",
    "mae = cross_val_score(xgb_gs, X, y, scoring='neg_mean_absolute_error', cv=kfold)\n",
    "r2 = cross_val_score(xgb_gs, X, y, scoring='r2', cv=kfold)\n",
    "\n",
    "print(f\"MSE: {-mse.mean()} ({mse.std()})\")\n",
    "print(f\"RMSE: {-rmse.mean()} ({rmse.std()})\")\n",
    "print(f\"MAE: {-mae.mean()} ({mae.std()})\")"
   ]
  },
  {
   "cell_type": "code",
   "execution_count": 71,
   "metadata": {},
   "outputs": [
    {
     "name": "stdout",
     "output_type": "stream",
     "text": [
      "\n",
      "Feature Importances:\n",
      "    0.3171 - Alcoholic Beverages_f\n",
      "    0.1021 - Animal Products_f\n",
      "    0.1030 - Animal fats_f\n",
      "    0.0877 - Aquatic Products, Other_f\n",
      "    0.1187 - Cereals - Excluding Beer_f\n",
      "    0.0000 - Eggs_f\n",
      "    0.1481 - Fish, Seafood_f\n",
      "    0.1234 - Fruits - Excluding Wine_f\n"
     ]
    },
    {
     "data": {
      "image/png": "[encoded data removed]",
      "text/plain": [
       "<Figure size 432x288 with 1 Axes>"
      ]
     },
     "metadata": {
      "needs_background": "light"
     },
     "output_type": "display_data"
    }
   ],
   "source": [
    "# Get Feature Importance from model\n",
    "importance = xgb_gs.best_estimator_.feature_importances_\n",
    "\n",
    "\n",
    "print(\"\\nFeature Importances:\")\n",
    "for item in zip(X_col.columns, xgb_gs.best_estimator_.feature_importances_):\n",
    "    print(\"{1:10.4f} - {0}\".format(item[0],item[1]))\n",
    "\n",
    "# Plot feature importance\n",
    "feat_importance = zip(X_col.columns, importance)\n",
    "feat_importance = sorted([x for x in feat_importance], key = lambda x: x[1], reverse=True)\n",
    "\n",
    "plt.bar(*zip(*feat_importance))\n",
    "plt.xticks(rotation=90)\n",
    "plt.show()"
   ]
  },
  {
   "cell_type": "markdown",
   "metadata": {},
   "source": [
    "##### Feature Importance for Deaths Attribute"
   ]
  },
  {
   "cell_type": "code",
   "execution_count": 72,
   "metadata": {},
   "outputs": [],
   "source": [
    "# Dividing the data between X and y of interest\n",
    "X = kcal_df.drop(['Confirmed','Deaths', 'Recovered'], axis=1)\n",
    "# X = kcal_df.iloc[:, :-6]\n",
    "# X_col = X.copy()\n",
    "\n",
    "# Scaled data values by a scale of 100 so XGBoost can learn effectively (issues with small data values)\n",
    "# Did this since we are only using model for feature importance (would not do for prediction model)\n",
    "y = kcal_df['Deaths']*100"
   ]
  },
  {
   "cell_type": "code",
   "execution_count": 73,
   "metadata": {},
   "outputs": [
    {
     "name": "stdout",
     "output_type": "stream",
     "text": [
      "MSE: 15.942378150245451 (5.500874531264631)\n",
      "RMSE: 3.9265880044448607 (0.7240751298002003)\n",
      "MAE: 2.9253019524086175 (0.5580505066460781)\n"
     ]
    }
   ],
   "source": [
    "# Training-test split\n",
    "X_train, X_test, y_train, y_test = train_test_split(X, y, test_size=0.10, random_state=42)\n",
    "\n",
    "# Training split using K-Fold for cross_val\n",
    "kfold = KFold(n_splits=10)\n",
    "\n",
    "# Parameter grid for XGBoost\n",
    "params = {'gamma': [0.5, 1, 1.5, 2, 5],\n",
    "          'max_depth': [3, 4, 5],\n",
    "          'min_child_weight': [1, 2, 5, 10]\n",
    "         }\n",
    "\n",
    "# Create XGBoost model instance\n",
    "xgb = XGBRegressor()\n",
    "\n",
    "# Create GridSearch instance\n",
    "xgb_gs = GridSearchCV(xgb, param_grid=params)\n",
    "xgb_gs.fit(X, y)\n",
    "\n",
    "# Metrics and Cross Validation of model\n",
    "mse = cross_val_score(xgb_gs, X, y, scoring='neg_mean_squared_error', cv=kfold)\n",
    "rmse = cross_val_score(xgb_gs, X, y, scoring='neg_root_mean_squared_error', cv=kfold)\n",
    "mae = cross_val_score(xgb_gs, X, y, scoring='neg_mean_absolute_error', cv=kfold)\n",
    "r2 = cross_val_score(xgb_gs, X, y, scoring='r2', cv=kfold)\n",
    "\n",
    "print(f\"MSE: {-mse.mean()} ({mse.std()})\")\n",
    "print(f\"RMSE: {-rmse.mean()} ({rmse.std()})\")\n",
    "print(f\"MAE: {-mae.mean()} ({mae.std()})\")"
   ]
  },
  {
   "cell_type": "code",
   "execution_count": 74,
   "metadata": {},
   "outputs": [
    {
     "name": "stdout",
     "output_type": "stream",
     "text": [
      "\n",
      "Feature Importances:\n",
      "    0.3015 - Alcoholic Beverages_f\n",
      "    0.1858 - Animal Products_f\n",
      "    0.1134 - Animal fats_f\n",
      "    0.0864 - Aquatic Products, Other_f\n",
      "    0.0720 - Cereals - Excluding Beer_f\n",
      "    0.0949 - Eggs_f\n",
      "    0.0931 - Fish, Seafood_f\n",
      "    0.0530 - Fruits - Excluding Wine_f\n"
     ]
    },
    {
     "data": {
      "image/png": "[encoded data removed]",
      "text/plain": [
       "<Figure size 432x288 with 1 Axes>"
      ]
     },
     "metadata": {
      "needs_background": "light"
     },
     "output_type": "display_data"
    }
   ],
   "source": [
    "# Get Feature Importance from model\n",
    "importance = xgb_gs.best_estimator_.feature_importances_\n",
    "\n",
    "\n",
    "print(\"\\nFeature Importances:\")\n",
    "for item in zip(X_col.columns, xgb_gs.best_estimator_.feature_importances_):\n",
    "    print(\"{1:10.4f} - {0}\".format(item[0],item[1]))\n",
    "\n",
    "# Plot feature importance\n",
    "feat_importance = zip(X_col.columns, importance)\n",
    "feat_importance = sorted([x for x in feat_importance], key = lambda x: x[1], reverse=True)\n",
    "\n",
    "plt.bar(*zip(*feat_importance))\n",
    "plt.xticks(rotation=90)\n",
    "plt.show()"
   ]
  },
  {
   "cell_type": "markdown",
   "metadata": {},
   "source": [
    "##### Feature Importance for Recovered Attribute"
   ]
  },
  {
   "cell_type": "code",
   "execution_count": 75,
   "metadata": {},
   "outputs": [
    {
     "data": {
      "text/plain": [
       "count    164.000000\n",
       "mean       1.452356\n",
       "std        1.927617\n",
       "min        0.000000\n",
       "25%        0.099107\n",
       "50%        0.475402\n",
       "75%        2.622874\n",
       "max        9.039871\n",
       "Name: Recovered, dtype: float64"
      ]
     },
     "execution_count": 75,
     "metadata": {},
     "output_type": "execute_result"
    }
   ],
   "source": [
    "# Dividing the data between X and y of interest\n",
    "X = kcal_df.drop(['Confirmed','Deaths', 'Recovered'], axis=1)\n",
    "# X = kcal_df.iloc[:, :-6]\n",
    "# X_col = X.copy()\n",
    "# X = MinMaxScaler().fit_transform(X)\n",
    "y = kcal_df['Recovered']\n",
    "y.describe()"
   ]
  },
  {
   "cell_type": "code",
   "execution_count": 76,
   "metadata": {},
   "outputs": [
    {
     "name": "stdout",
     "output_type": "stream",
     "text": [
      "MSE: 3.176099250415303 (1.1498478562618872)\n",
      "RMSE: 1.7501231728914959 (0.3364047118033671)\n",
      "MAE: 1.2074455990257897 (0.22435487397951662)\n"
     ]
    }
   ],
   "source": [
    "# Training-test split\n",
    "X_train, X_test, y_train, y_test = train_test_split(X, y, test_size=0.10, random_state=42)\n",
    "# Training split using K-Fold for cross_val\n",
    "kfold = KFold(n_splits=10)\n",
    "\n",
    "# Parameter grid for XGBoost\n",
    "params = {'gamma': [0.5, 1, 1.5, 2, 5]\n",
    "#           'max_depth': [3, 4, 5]\n",
    "#           'min_child_weight': [1, 2, 5, 10]\n",
    "         }\n",
    "\n",
    "# Create XGBoost model instance\n",
    "xgb = XGBRegressor()\n",
    "\n",
    "# Create GridSearch instance\n",
    "xgb_gs = GridSearchCV(xgb, param_grid=params)\n",
    "xgb_gs.fit(X, y)\n",
    "\n",
    "# Metrics and Cross Validation of model\n",
    "mse = cross_val_score(xgb_gs, X, y, scoring='neg_mean_squared_error', cv=kfold)\n",
    "rmse = cross_val_score(xgb_gs, X, y, scoring='neg_root_mean_squared_error', cv=kfold)\n",
    "mae = cross_val_score(xgb_gs, X, y, scoring='neg_mean_absolute_error', cv=kfold)\n",
    "r2 = cross_val_score(xgb_gs, X, y, scoring='r2', cv=kfold)\n",
    "\n",
    "print(f\"MSE: {-mse.mean()} ({mse.std()})\")\n",
    "print(f\"RMSE: {-rmse.mean()} ({rmse.std()})\")\n",
    "print(f\"MAE: {-mae.mean()} ({mae.std()})\")"
   ]
  },
  {
   "cell_type": "code",
   "execution_count": 77,
   "metadata": {},
   "outputs": [
    {
     "name": "stdout",
     "output_type": "stream",
     "text": [
      "\n",
      "Feature Importances:\n",
      "    0.2062 - Alcoholic Beverages_f\n",
      "    0.2442 - Animal Products_f\n",
      "    0.1030 - Animal fats_f\n",
      "    0.0808 - Aquatic Products, Other_f\n",
      "    0.0788 - Cereals - Excluding Beer_f\n",
      "    0.0000 - Eggs_f\n",
      "    0.1619 - Fish, Seafood_f\n",
      "    0.1252 - Fruits - Excluding Wine_f\n"
     ]
    },
    {
     "data": {
      "image/png": "[encoded data removed]",
      "text/plain": [
       "<Figure size 432x288 with 1 Axes>"
      ]
     },
     "metadata": {
      "needs_background": "light"
     },
     "output_type": "display_data"
    }
   ],
   "source": [
    "# Get Feature Importance from model\n",
    "importance = xgb_gs.best_estimator_.feature_importances_\n",
    "\n",
    "\n",
    "print(\"\\nFeature Importances:\")\n",
    "for item in zip(X_col.columns, xgb_gs.best_estimator_.feature_importances_):\n",
    "    print(\"{1:10.4f} - {0}\".format(item[0],item[1]))\n",
    "\n",
    "# Plot feature importance\n",
    "feat_importance = zip(X_col.columns, importance)\n",
    "feat_importance = sorted([x for x in feat_importance], key = lambda x: x[1], reverse=True)\n",
    "\n",
    "plt.bar(*zip(*feat_importance))\n",
    "plt.xticks(rotation=90)\n",
    "plt.show()"
   ]
  },
  {
   "cell_type": "markdown",
   "metadata": {},
   "source": [
    "### Using Food Supply in Kg dataset"
   ]
  },
  {
   "cell_type": "code",
   "execution_count": 81,
   "metadata": {},
   "outputs": [
    {
     "data": {
      "text/html": [
       "<div>\n",
       "<style scoped>\n",
       "    .dataframe tbody tr th:only-of-type {\n",
       "        vertical-align: middle;\n",
       "    }\n",
       "\n",
       "    .dataframe tbody tr th {\n",
       "        vertical-align: top;\n",
       "    }\n",
       "\n",
       "    .dataframe thead th {\n",
       "        text-align: right;\n",
       "    }\n",
       "</style>\n",
       "<table border=\"1\" class=\"dataframe\">\n",
       "  <thead>\n",
       "    <tr style=\"text-align: right;\">\n",
       "      <th></th>\n",
       "      <th>Vegetal Products_kg</th>\n",
       "      <th>Fish, Seafood_kg</th>\n",
       "      <th>Spices_kg</th>\n",
       "      <th>Offals_kg</th>\n",
       "      <th>Vegetables_kg</th>\n",
       "      <th>Animal Products_kg</th>\n",
       "      <th>Alcoholic Beverages_kg</th>\n",
       "      <th>Sugar &amp; Sweeteners_kg</th>\n",
       "      <th>Confirmed</th>\n",
       "      <th>Deaths</th>\n",
       "      <th>Recovered</th>\n",
       "    </tr>\n",
       "  </thead>\n",
       "  <tbody>\n",
       "    <tr>\n",
       "      <th>0</th>\n",
       "      <td>40.5645</td>\n",
       "      <td>0.0350</td>\n",
       "      <td>0.0574</td>\n",
       "      <td>0.2057</td>\n",
       "      <td>6.7642</td>\n",
       "      <td>9.4341</td>\n",
       "      <td>0.0014</td>\n",
       "      <td>1.3489</td>\n",
       "      <td>0.142134</td>\n",
       "      <td>0.006186</td>\n",
       "      <td>0.123374</td>\n",
       "    </tr>\n",
       "    <tr>\n",
       "      <th>1</th>\n",
       "      <td>31.2304</td>\n",
       "      <td>0.2126</td>\n",
       "      <td>0.0008</td>\n",
       "      <td>0.2324</td>\n",
       "      <td>11.7753</td>\n",
       "      <td>18.7684</td>\n",
       "      <td>1.6719</td>\n",
       "      <td>1.5367</td>\n",
       "      <td>2.967301</td>\n",
       "      <td>0.050951</td>\n",
       "      <td>1.792636</td>\n",
       "    </tr>\n",
       "    <tr>\n",
       "      <th>2</th>\n",
       "      <td>40.3651</td>\n",
       "      <td>0.2416</td>\n",
       "      <td>0.0557</td>\n",
       "      <td>0.0870</td>\n",
       "      <td>11.6484</td>\n",
       "      <td>9.6334</td>\n",
       "      <td>0.2711</td>\n",
       "      <td>1.8342</td>\n",
       "      <td>0.244897</td>\n",
       "      <td>0.006558</td>\n",
       "      <td>0.167572</td>\n",
       "    </tr>\n",
       "    <tr>\n",
       "      <th>3</th>\n",
       "      <td>45.0722</td>\n",
       "      <td>1.7707</td>\n",
       "      <td>0.0009</td>\n",
       "      <td>0.1550</td>\n",
       "      <td>2.3041</td>\n",
       "      <td>4.9278</td>\n",
       "      <td>5.8087</td>\n",
       "      <td>1.8495</td>\n",
       "      <td>0.061687</td>\n",
       "      <td>0.001461</td>\n",
       "      <td>0.056808</td>\n",
       "    </tr>\n",
       "    <tr>\n",
       "      <th>4</th>\n",
       "      <td>33.3233</td>\n",
       "      <td>4.1489</td>\n",
       "      <td>0.1524</td>\n",
       "      <td>0.2219</td>\n",
       "      <td>5.4495</td>\n",
       "      <td>16.6613</td>\n",
       "      <td>3.5764</td>\n",
       "      <td>3.8749</td>\n",
       "      <td>0.293878</td>\n",
       "      <td>0.007143</td>\n",
       "      <td>0.190816</td>\n",
       "    </tr>\n",
       "    <tr>\n",
       "      <th>...</th>\n",
       "      <td>...</td>\n",
       "      <td>...</td>\n",
       "      <td>...</td>\n",
       "      <td>...</td>\n",
       "      <td>...</td>\n",
       "      <td>...</td>\n",
       "      <td>...</td>\n",
       "      <td>...</td>\n",
       "      <td>...</td>\n",
       "      <td>...</td>\n",
       "      <td>...</td>\n",
       "    </tr>\n",
       "    <tr>\n",
       "      <th>159</th>\n",
       "      <td>35.2416</td>\n",
       "      <td>0.9456</td>\n",
       "      <td>0.0009</td>\n",
       "      <td>0.2078</td>\n",
       "      <td>4.1474</td>\n",
       "      <td>14.7565</td>\n",
       "      <td>2.5952</td>\n",
       "      <td>3.4106</td>\n",
       "      <td>0.452585</td>\n",
       "      <td>0.004287</td>\n",
       "      <td>0.424399</td>\n",
       "    </tr>\n",
       "    <tr>\n",
       "      <th>160</th>\n",
       "      <td>41.4232</td>\n",
       "      <td>2.6392</td>\n",
       "      <td>0.2074</td>\n",
       "      <td>0.4149</td>\n",
       "      <td>11.9508</td>\n",
       "      <td>8.5765</td>\n",
       "      <td>1.4591</td>\n",
       "      <td>1.2846</td>\n",
       "      <td>0.002063</td>\n",
       "      <td>0.000036</td>\n",
       "      <td>0.001526</td>\n",
       "    </tr>\n",
       "    <tr>\n",
       "      <th>161</th>\n",
       "      <td>44.2126</td>\n",
       "      <td>0.5240</td>\n",
       "      <td>0.0347</td>\n",
       "      <td>0.2827</td>\n",
       "      <td>3.2135</td>\n",
       "      <td>5.7874</td>\n",
       "      <td>0.0364</td>\n",
       "      <td>5.0468</td>\n",
       "      <td>0.007131</td>\n",
       "      <td>0.002062</td>\n",
       "      <td>0.004788</td>\n",
       "    </tr>\n",
       "    <tr>\n",
       "      <th>162</th>\n",
       "      <td>43.9789</td>\n",
       "      <td>1.6924</td>\n",
       "      <td>0.0478</td>\n",
       "      <td>0.3048</td>\n",
       "      <td>3.4649</td>\n",
       "      <td>6.0197</td>\n",
       "      <td>5.7360</td>\n",
       "      <td>1.5632</td>\n",
       "      <td>0.334133</td>\n",
       "      <td>0.004564</td>\n",
       "      <td>0.290524</td>\n",
       "    </tr>\n",
       "    <tr>\n",
       "      <th>163</th>\n",
       "      <td>41.8526</td>\n",
       "      <td>0.5518</td>\n",
       "      <td>0.0252</td>\n",
       "      <td>0.2086</td>\n",
       "      <td>2.3213</td>\n",
       "      <td>8.1489</td>\n",
       "      <td>4.0552</td>\n",
       "      <td>4.6485</td>\n",
       "      <td>0.232033</td>\n",
       "      <td>0.008854</td>\n",
       "      <td>0.190964</td>\n",
       "    </tr>\n",
       "  </tbody>\n",
       "</table>\n",
       "<p>164 rows × 11 columns</p>\n",
       "</div>"
      ],
      "text/plain": [
       "     Vegetal Products_kg  Fish, Seafood_kg  Spices_kg  Offals_kg  \\\n",
       "0                40.5645            0.0350     0.0574     0.2057   \n",
       "1                31.2304            0.2126     0.0008     0.2324   \n",
       "2                40.3651            0.2416     0.0557     0.0870   \n",
       "3                45.0722            1.7707     0.0009     0.1550   \n",
       "4                33.3233            4.1489     0.1524     0.2219   \n",
       "..                   ...               ...        ...        ...   \n",
       "159              35.2416            0.9456     0.0009     0.2078   \n",
       "160              41.4232            2.6392     0.2074     0.4149   \n",
       "161              44.2126            0.5240     0.0347     0.2827   \n",
       "162              43.9789            1.6924     0.0478     0.3048   \n",
       "163              41.8526            0.5518     0.0252     0.2086   \n",
       "\n",
       "     Vegetables_kg  Animal Products_kg  Alcoholic Beverages_kg  \\\n",
       "0           6.7642              9.4341                  0.0014   \n",
       "1          11.7753             18.7684                  1.6719   \n",
       "2          11.6484              9.6334                  0.2711   \n",
       "3           2.3041              4.9278                  5.8087   \n",
       "4           5.4495             16.6613                  3.5764   \n",
       "..             ...                 ...                     ...   \n",
       "159         4.1474             14.7565                  2.5952   \n",
       "160        11.9508              8.5765                  1.4591   \n",
       "161         3.2135              5.7874                  0.0364   \n",
       "162         3.4649              6.0197                  5.7360   \n",
       "163         2.3213              8.1489                  4.0552   \n",
       "\n",
       "     Sugar & Sweeteners_kg  Confirmed    Deaths  Recovered  \n",
       "0                   1.3489   0.142134  0.006186   0.123374  \n",
       "1                   1.5367   2.967301  0.050951   1.792636  \n",
       "2                   1.8342   0.244897  0.006558   0.167572  \n",
       "3                   1.8495   0.061687  0.001461   0.056808  \n",
       "4                   3.8749   0.293878  0.007143   0.190816  \n",
       "..                     ...        ...       ...        ...  \n",
       "159                 3.4106   0.452585  0.004287   0.424399  \n",
       "160                 1.2846   0.002063  0.000036   0.001526  \n",
       "161                 5.0468   0.007131  0.002062   0.004788  \n",
       "162                 1.5632   0.334133  0.004564   0.290524  \n",
       "163                 4.6485   0.232033  0.008854   0.190964  \n",
       "\n",
       "[164 rows x 11 columns]"
      ]
     },
     "execution_count": 81,
     "metadata": {},
     "output_type": "execute_result"
    }
   ],
   "source": [
    "# Removing Country column due to it being categorical and not providing much information\n",
    "kg_df = kg_df[['Vegetal Products_kg', 'Fish, Seafood_kg', 'Spices_kg', \n",
    "                   'Offals_kg', 'Vegetables_kg','Animal Products_kg',\n",
    "                   'Alcoholic Beverages_kg','Sugar & Sweeteners_kg','Confirmed','Deaths', 'Recovered']]\n",
    "kg_df"
   ]
  },
  {
   "cell_type": "markdown",
   "metadata": {},
   "source": [
    "##### Feature Importance for Confirmed Attribute"
   ]
  },
  {
   "cell_type": "code",
   "execution_count": 82,
   "metadata": {},
   "outputs": [],
   "source": [
    "# Dividing the data between X and y of interest\n",
    "X = kg_df.drop(['Confirmed','Deaths', 'Recovered'], axis=1)\n",
    "# kg_df.iloc[:, :-6]\n",
    "# X_col = X.copy()\n",
    "y = kg_df['Confirmed'] "
   ]
  },
  {
   "cell_type": "code",
   "execution_count": 83,
   "metadata": {},
   "outputs": [
    {
     "name": "stdout",
     "output_type": "stream",
     "text": [
      "MSE: 3.904777898271269 (2.3273257305896107)\n",
      "RMSE: 1.895081120007124 (0.5598619891221529)\n",
      "MAE: 1.3982728795284496 (0.3451024602643835)\n"
     ]
    }
   ],
   "source": [
    "# Training-test split\n",
    "X_train, X_test, y_train, y_test = train_test_split(X, y, test_size=0.10, random_state=42)\n",
    "\n",
    "# Training split using K-Fold for cross_val\n",
    "kfold = KFold(n_splits=10)\n",
    "\n",
    "# Parameter grid for XGBoost\n",
    "params = {'gamma': [0.5, 1, 1.5, 2, 5],\n",
    "          'max_depth': [3, 4, 5],\n",
    "          'min_child_weight': [1, 2, 5, 10]\n",
    "         }\n",
    "\n",
    "# Create XGBoost model instance\n",
    "xgb = XGBRegressor()\n",
    "\n",
    "# Create GridSearch instance\n",
    "xgb_gs = GridSearchCV(xgb, param_grid=params)\n",
    "xgb_gs.fit(X, y)\n",
    "\n",
    "# Metrics and Cross Validation of model\n",
    "mse = cross_val_score(xgb_gs, X, y, scoring='neg_mean_squared_error', cv=kfold)\n",
    "rmse = cross_val_score(xgb_gs, X, y, scoring='neg_root_mean_squared_error', cv=kfold)\n",
    "mae = cross_val_score(xgb_gs, X, y, scoring='neg_mean_absolute_error', cv=kfold)\n",
    "r2 = cross_val_score(xgb_gs, X, y, scoring='r2', cv=kfold)\n",
    "\n",
    "print(f\"MSE: {-mse.mean()} ({mse.std()})\")\n",
    "print(f\"RMSE: {-rmse.mean()} ({rmse.std()})\")\n",
    "print(f\"MAE: {-mae.mean()} ({mae.std()})\")"
   ]
  },
  {
   "cell_type": "code",
   "execution_count": 84,
   "metadata": {},
   "outputs": [
    {
     "name": "stdout",
     "output_type": "stream",
     "text": [
      "\n",
      "Feature Importances:\n",
      "    0.4468 - Alcoholic Beverages_f\n",
      "    0.0971 - Animal Products_f\n",
      "    0.0438 - Animal fats_f\n",
      "    0.1390 - Aquatic Products, Other_f\n",
      "    0.1264 - Cereals - Excluding Beer_f\n",
      "    0.0000 - Eggs_f\n",
      "    0.0911 - Fish, Seafood_f\n",
      "    0.0558 - Fruits - Excluding Wine_f\n"
     ]
    },
    {
     "data": {
      "image/png": "[encoded data removed]",
      "text/plain": [
       "<Figure size 432x288 with 1 Axes>"
      ]
     },
     "metadata": {
      "needs_background": "light"
     },
     "output_type": "display_data"
    }
   ],
   "source": [
    "# Get Feature Importance from model\n",
    "importance = xgb_gs.best_estimator_.feature_importances_\n",
    "\n",
    "\n",
    "print(\"\\nFeature Importances:\")\n",
    "for item in zip(X_col.columns, xgb_gs.best_estimator_.feature_importances_):\n",
    "    print(\"{1:10.4f} - {0}\".format(item[0],item[1]))\n",
    "\n",
    "# Plot feature importance\n",
    "feat_importance = zip(X_col.columns, importance)\n",
    "feat_importance = sorted([x for x in feat_importance], key = lambda x: x[1], reverse=True)\n",
    "\n",
    "plt.bar(*zip(*feat_importance))\n",
    "plt.xticks(rotation=90)\n",
    "plt.show()"
   ]
  },
  {
   "cell_type": "markdown",
   "metadata": {},
   "source": [
    "##### Feature Importance for Deaths Attribute"
   ]
  },
  {
   "cell_type": "code",
   "execution_count": 85,
   "metadata": {},
   "outputs": [],
   "source": [
    "# Dividing the data between X and y of interest\n",
    "X = kg_df.drop(['Confirmed','Deaths', 'Recovered'], axis=1)\n",
    "# kg_df.iloc[:, :-6]\n",
    "# X_col = X.copy()\n",
    "y = kg_df['Deaths']*100"
   ]
  },
  {
   "cell_type": "code",
   "execution_count": 86,
   "metadata": {},
   "outputs": [
    {
     "name": "stdout",
     "output_type": "stream",
     "text": [
      "MSE: 17.36076132731088 (7.729312426137659)\n",
      "RMSE: 4.053186214248244 (0.9656307989800608)\n",
      "MAE: 3.0925043124570477 (0.7119285566140796)\n"
     ]
    }
   ],
   "source": [
    "# Training-test split\n",
    "X_train, X_test, y_train, y_test = train_test_split(X, y, test_size=0.10, random_state=42)\n",
    "\n",
    "# Training split using K-Fold for cross_val\n",
    "kfold = KFold(n_splits=10)\n",
    "\n",
    "# Parameter grid for XGBoost\n",
    "params = {'gamma': [0.5, 1, 1.5, 2, 5],\n",
    "          'max_depth': [3, 4, 5],\n",
    "          'min_child_weight': [1, 2, 5, 10]\n",
    "         }\n",
    "\n",
    "# Create XGBoost model instance\n",
    "xgb = XGBRegressor()\n",
    "\n",
    "# Create GridSearch instance\n",
    "xgb_gs = GridSearchCV(xgb, param_grid=params)\n",
    "xgb_gs.fit(X, y)\n",
    "\n",
    "# Metrics and Cross Validation of model\n",
    "mse = cross_val_score(xgb_gs, X, y, scoring='neg_mean_squared_error', cv=kfold)\n",
    "rmse = cross_val_score(xgb_gs, X, y, scoring='neg_root_mean_squared_error', cv=kfold)\n",
    "mae = cross_val_score(xgb_gs, X, y, scoring='neg_mean_absolute_error', cv=kfold)\n",
    "r2 = cross_val_score(xgb_gs, X, y, scoring='r2', cv=kfold)\n",
    "\n",
    "print(f\"MSE: {-mse.mean()} ({mse.std()})\")\n",
    "print(f\"RMSE: {-rmse.mean()} ({rmse.std()})\")\n",
    "print(f\"MAE: {-mae.mean()} ({mae.std()})\")"
   ]
  },
  {
   "cell_type": "code",
   "execution_count": 87,
   "metadata": {},
   "outputs": [
    {
     "name": "stdout",
     "output_type": "stream",
     "text": [
      "\n",
      "Feature Importances:\n",
      "    0.4112 - Alcoholic Beverages_f\n",
      "    0.1120 - Animal Products_f\n",
      "    0.0509 - Animal fats_f\n",
      "    0.0597 - Aquatic Products, Other_f\n",
      "    0.1002 - Cereals - Excluding Beer_f\n",
      "    0.0570 - Eggs_f\n",
      "    0.1591 - Fish, Seafood_f\n",
      "    0.0499 - Fruits - Excluding Wine_f\n"
     ]
    },
    {
     "data": {
      "image/png": "[encoded data removed]",
      "text/plain": [
       "<Figure size 432x288 with 1 Axes>"
      ]
     },
     "metadata": {
      "needs_background": "light"
     },
     "output_type": "display_data"
    }
   ],
   "source": [
    "# Get Feature Importance from model\n",
    "importance = xgb_gs.best_estimator_.feature_importances_\n",
    "\n",
    "\n",
    "print(\"\\nFeature Importances:\")\n",
    "for item in zip(X_col.columns, xgb_gs.best_estimator_.feature_importances_):\n",
    "    print(\"{1:10.4f} - {0}\".format(item[0],item[1]))\n",
    "\n",
    "# Plot feature importance\n",
    "feat_importance = zip(X_col.columns, importance)\n",
    "feat_importance = sorted([x for x in feat_importance], key = lambda x: x[1], reverse=True)\n",
    "\n",
    "plt.bar(*zip(*feat_importance))\n",
    "plt.xticks(rotation=90)\n",
    "plt.show()"
   ]
  },
  {
   "cell_type": "markdown",
   "metadata": {},
   "source": [
    "##### Feature Importance for Recovered Attribute"
   ]
  },
  {
   "cell_type": "code",
   "execution_count": 88,
   "metadata": {},
   "outputs": [],
   "source": [
    "# Dividing the data between X and y of interest\n",
    "X = kg_df.drop(['Confirmed','Deaths', 'Recovered'], axis=1)\n",
    "# kg_df.iloc[:, :-6]\n",
    "# X_col = X.copy()\n",
    "y = kg_df['Recovered']"
   ]
  },
  {
   "cell_type": "code",
   "execution_count": 89,
   "metadata": {},
   "outputs": [
    {
     "name": "stdout",
     "output_type": "stream",
     "text": [
      "MSE: 4.043329287865214 (1.9065250790135113)\n",
      "RMSE: 1.9714407352647687 (0.3959175611209019)\n",
      "MAE: 1.3828995560908024 (0.27505148703184984)\n"
     ]
    }
   ],
   "source": [
    "# Training-test split\n",
    "X_train, X_test, y_train, y_test = train_test_split(X, y, test_size=0.10, random_state=42)\n",
    "\n",
    "# Training split using K-Fold for cross_val\n",
    "kfold = KFold(n_splits=10)\n",
    "\n",
    "# Parameter grid for XGBoost\n",
    "params = {'gamma': [0.5, 1, 1.5, 2, 5]\n",
    "#           'max_depth': [3, 4, 5]\n",
    "#           'min_child_weight': [1, 2, 5, 10]\n",
    "         }\n",
    "\n",
    "\n",
    "# Create XGBoost model instance\n",
    "xgb = XGBRegressor()\n",
    "\n",
    "# Create GridSearch instance\n",
    "xgb_gs = GridSearchCV(xgb, param_grid=params)\n",
    "xgb_gs.fit(X, y)\n",
    "\n",
    "# Metrics and Cross Validation of model\n",
    "mse = cross_val_score(xgb_gs, X, y, scoring='neg_mean_squared_error', cv=kfold)\n",
    "rmse = cross_val_score(xgb_gs, X, y, scoring='neg_root_mean_squared_error', cv=kfold)\n",
    "mae = cross_val_score(xgb_gs, X, y, scoring='neg_mean_absolute_error', cv=kfold)\n",
    "r2 = cross_val_score(xgb_gs, X, y, scoring='r2', cv=kfold)\n",
    "\n",
    "print(f\"MSE: {-mse.mean()} ({mse.std()})\")\n",
    "print(f\"RMSE: {-rmse.mean()} ({rmse.std()})\")\n",
    "print(f\"MAE: {-mae.mean()} ({mae.std()})\")"
   ]
  },
  {
   "cell_type": "code",
   "execution_count": 90,
   "metadata": {},
   "outputs": [
    {
     "name": "stdout",
     "output_type": "stream",
     "text": [
      "\n",
      "Feature Importances:\n",
      "    0.2428 - Alcoholic Beverages_f\n",
      "    0.1601 - Animal Products_f\n",
      "    0.0959 - Animal fats_f\n",
      "    0.1497 - Aquatic Products, Other_f\n",
      "    0.0789 - Cereals - Excluding Beer_f\n",
      "    0.0000 - Eggs_f\n",
      "    0.1567 - Fish, Seafood_f\n",
      "    0.1159 - Fruits - Excluding Wine_f\n"
     ]
    },
    {
     "data": {
      "image/png": "[encoded data removed]",
      "text/plain": [
       "<Figure size 432x288 with 1 Axes>"
      ]
     },
     "metadata": {
      "needs_background": "light"
     },
     "output_type": "display_data"
    }
   ],
   "source": [
    "# Get Feature Importance from model\n",
    "importance = xgb_gs.best_estimator_.feature_importances_\n",
    "\n",
    "\n",
    "print(\"\\nFeature Importances:\")\n",
    "for item in zip(X_col.columns, xgb_gs.best_estimator_.feature_importances_):\n",
    "    print(\"{1:10.4f} - {0}\".format(item[0],item[1]))\n",
    "\n",
    "# Plot feature importance\n",
    "feat_importance = zip(X_col.columns, importance)\n",
    "feat_importance = sorted([x for x in feat_importance], key = lambda x: x[1], reverse=True)\n",
    "\n",
    "plt.bar(*zip(*feat_importance))\n",
    "plt.xticks(rotation=90)\n",
    "plt.show()"
   ]
  },
  {
   "cell_type": "markdown",
   "metadata": {},
   "source": [
    "### Using Protein Supply dataset"
   ]
  },
  {
   "cell_type": "code",
   "execution_count": 92,
   "metadata": {},
   "outputs": [
    {
     "data": {
      "text/html": [
       "<div>\n",
       "<style scoped>\n",
       "    .dataframe tbody tr th:only-of-type {\n",
       "        vertical-align: middle;\n",
       "    }\n",
       "\n",
       "    .dataframe tbody tr th {\n",
       "        vertical-align: top;\n",
       "    }\n",
       "\n",
       "    .dataframe thead th {\n",
       "        text-align: right;\n",
       "    }\n",
       "</style>\n",
       "<table border=\"1\" class=\"dataframe\">\n",
       "  <thead>\n",
       "    <tr style=\"text-align: right;\">\n",
       "      <th></th>\n",
       "      <th>Vegetal Products_p</th>\n",
       "      <th>Fish, Seafood_p</th>\n",
       "      <th>Spices_p</th>\n",
       "      <th>Offals_p</th>\n",
       "      <th>Vegetables_p</th>\n",
       "      <th>Animal Products_p</th>\n",
       "      <th>Alcoholic Beverages_p</th>\n",
       "      <th>Sugar &amp; Sweeteners_p</th>\n",
       "      <th>Confirmed</th>\n",
       "      <th>Deaths</th>\n",
       "      <th>Recovered</th>\n",
       "    </tr>\n",
       "  </thead>\n",
       "  <tbody>\n",
       "    <tr>\n",
       "      <th>0</th>\n",
       "      <td>40.2477</td>\n",
       "      <td>0.0647</td>\n",
       "      <td>0.1664</td>\n",
       "      <td>0.5916</td>\n",
       "      <td>1.1370</td>\n",
       "      <td>9.7523</td>\n",
       "      <td>0.0000</td>\n",
       "      <td>0.0000</td>\n",
       "      <td>0.142134</td>\n",
       "      <td>0.006186</td>\n",
       "      <td>0.123374</td>\n",
       "    </tr>\n",
       "    <tr>\n",
       "      <th>1</th>\n",
       "      <td>22.2552</td>\n",
       "      <td>0.6274</td>\n",
       "      <td>0.0000</td>\n",
       "      <td>1.1084</td>\n",
       "      <td>3.2456</td>\n",
       "      <td>27.7469</td>\n",
       "      <td>0.1840</td>\n",
       "      <td>0.0042</td>\n",
       "      <td>2.967301</td>\n",
       "      <td>0.050951</td>\n",
       "      <td>1.792636</td>\n",
       "    </tr>\n",
       "    <tr>\n",
       "      <th>2</th>\n",
       "      <td>36.1694</td>\n",
       "      <td>0.6350</td>\n",
       "      <td>0.1776</td>\n",
       "      <td>0.3283</td>\n",
       "      <td>3.1267</td>\n",
       "      <td>13.8360</td>\n",
       "      <td>0.0323</td>\n",
       "      <td>0.0000</td>\n",
       "      <td>0.244897</td>\n",
       "      <td>0.006558</td>\n",
       "      <td>0.167572</td>\n",
       "    </tr>\n",
       "    <tr>\n",
       "      <th>3</th>\n",
       "      <td>34.7782</td>\n",
       "      <td>5.4436</td>\n",
       "      <td>0.0000</td>\n",
       "      <td>0.8133</td>\n",
       "      <td>0.8133</td>\n",
       "      <td>15.2311</td>\n",
       "      <td>0.6285</td>\n",
       "      <td>0.0092</td>\n",
       "      <td>0.061687</td>\n",
       "      <td>0.001461</td>\n",
       "      <td>0.056808</td>\n",
       "    </tr>\n",
       "    <tr>\n",
       "      <th>4</th>\n",
       "      <td>16.8161</td>\n",
       "      <td>8.2146</td>\n",
       "      <td>0.3438</td>\n",
       "      <td>0.8534</td>\n",
       "      <td>1.6024</td>\n",
       "      <td>33.1901</td>\n",
       "      <td>0.1535</td>\n",
       "      <td>0.0000</td>\n",
       "      <td>0.293878</td>\n",
       "      <td>0.007143</td>\n",
       "      <td>0.190816</td>\n",
       "    </tr>\n",
       "    <tr>\n",
       "      <th>...</th>\n",
       "      <td>...</td>\n",
       "      <td>...</td>\n",
       "      <td>...</td>\n",
       "      <td>...</td>\n",
       "      <td>...</td>\n",
       "      <td>...</td>\n",
       "      <td>...</td>\n",
       "      <td>...</td>\n",
       "      <td>...</td>\n",
       "      <td>...</td>\n",
       "      <td>...</td>\n",
       "    </tr>\n",
       "    <tr>\n",
       "      <th>159</th>\n",
       "      <td>27.4545</td>\n",
       "      <td>2.6477</td>\n",
       "      <td>0.0000</td>\n",
       "      <td>0.7641</td>\n",
       "      <td>1.0129</td>\n",
       "      <td>22.5411</td>\n",
       "      <td>0.1955</td>\n",
       "      <td>0.0178</td>\n",
       "      <td>0.452585</td>\n",
       "      <td>0.004287</td>\n",
       "      <td>0.424399</td>\n",
       "    </tr>\n",
       "    <tr>\n",
       "      <th>160</th>\n",
       "      <td>29.5617</td>\n",
       "      <td>5.7435</td>\n",
       "      <td>0.5221</td>\n",
       "      <td>1.6442</td>\n",
       "      <td>3.7216</td>\n",
       "      <td>20.4466</td>\n",
       "      <td>0.1555</td>\n",
       "      <td>0.0056</td>\n",
       "      <td>0.002063</td>\n",
       "      <td>0.000036</td>\n",
       "      <td>0.001526</td>\n",
       "    </tr>\n",
       "    <tr>\n",
       "      <th>161</th>\n",
       "      <td>39.9831</td>\n",
       "      <td>0.9392</td>\n",
       "      <td>0.0657</td>\n",
       "      <td>0.7232</td>\n",
       "      <td>0.5448</td>\n",
       "      <td>10.0122</td>\n",
       "      <td>0.0000</td>\n",
       "      <td>0.0000</td>\n",
       "      <td>0.007131</td>\n",
       "      <td>0.002062</td>\n",
       "      <td>0.004788</td>\n",
       "    </tr>\n",
       "    <tr>\n",
       "      <th>162</th>\n",
       "      <td>40.1117</td>\n",
       "      <td>3.0126</td>\n",
       "      <td>0.0846</td>\n",
       "      <td>0.9139</td>\n",
       "      <td>0.8039</td>\n",
       "      <td>9.8925</td>\n",
       "      <td>0.4824</td>\n",
       "      <td>0.0000</td>\n",
       "      <td>0.334133</td>\n",
       "      <td>0.004564</td>\n",
       "      <td>0.290524</td>\n",
       "    </tr>\n",
       "    <tr>\n",
       "      <th>163</th>\n",
       "      <td>38.6508</td>\n",
       "      <td>1.0837</td>\n",
       "      <td>0.0488</td>\n",
       "      <td>0.6541</td>\n",
       "      <td>0.5955</td>\n",
       "      <td>11.3443</td>\n",
       "      <td>0.2929</td>\n",
       "      <td>0.0000</td>\n",
       "      <td>0.232033</td>\n",
       "      <td>0.008854</td>\n",
       "      <td>0.190964</td>\n",
       "    </tr>\n",
       "  </tbody>\n",
       "</table>\n",
       "<p>164 rows × 11 columns</p>\n",
       "</div>"
      ],
      "text/plain": [
       "     Vegetal Products_p  Fish, Seafood_p  Spices_p  Offals_p  Vegetables_p  \\\n",
       "0               40.2477           0.0647    0.1664    0.5916        1.1370   \n",
       "1               22.2552           0.6274    0.0000    1.1084        3.2456   \n",
       "2               36.1694           0.6350    0.1776    0.3283        3.1267   \n",
       "3               34.7782           5.4436    0.0000    0.8133        0.8133   \n",
       "4               16.8161           8.2146    0.3438    0.8534        1.6024   \n",
       "..                  ...              ...       ...       ...           ...   \n",
       "159             27.4545           2.6477    0.0000    0.7641        1.0129   \n",
       "160             29.5617           5.7435    0.5221    1.6442        3.7216   \n",
       "161             39.9831           0.9392    0.0657    0.7232        0.5448   \n",
       "162             40.1117           3.0126    0.0846    0.9139        0.8039   \n",
       "163             38.6508           1.0837    0.0488    0.6541        0.5955   \n",
       "\n",
       "     Animal Products_p  Alcoholic Beverages_p  Sugar & Sweeteners_p  \\\n",
       "0               9.7523                 0.0000                0.0000   \n",
       "1              27.7469                 0.1840                0.0042   \n",
       "2              13.8360                 0.0323                0.0000   \n",
       "3              15.2311                 0.6285                0.0092   \n",
       "4              33.1901                 0.1535                0.0000   \n",
       "..                 ...                    ...                   ...   \n",
       "159            22.5411                 0.1955                0.0178   \n",
       "160            20.4466                 0.1555                0.0056   \n",
       "161            10.0122                 0.0000                0.0000   \n",
       "162             9.8925                 0.4824                0.0000   \n",
       "163            11.3443                 0.2929                0.0000   \n",
       "\n",
       "     Confirmed    Deaths  Recovered  \n",
       "0     0.142134  0.006186   0.123374  \n",
       "1     2.967301  0.050951   1.792636  \n",
       "2     0.244897  0.006558   0.167572  \n",
       "3     0.061687  0.001461   0.056808  \n",
       "4     0.293878  0.007143   0.190816  \n",
       "..         ...       ...        ...  \n",
       "159   0.452585  0.004287   0.424399  \n",
       "160   0.002063  0.000036   0.001526  \n",
       "161   0.007131  0.002062   0.004788  \n",
       "162   0.334133  0.004564   0.290524  \n",
       "163   0.232033  0.008854   0.190964  \n",
       "\n",
       "[164 rows x 11 columns]"
      ]
     },
     "execution_count": 92,
     "metadata": {},
     "output_type": "execute_result"
    }
   ],
   "source": [
    "# Removing Country column due to it being categorical and not providing much information\n",
    "protein_df = protein_df[['Vegetal Products_p', 'Fish, Seafood_p', 'Spices_p', \n",
    "                   'Offals_p', 'Vegetables_p','Animal Products_p',\n",
    "                   'Alcoholic Beverages_p','Sugar & Sweeteners_p','Confirmed','Deaths', 'Recovered']]\n",
    "protein_df"
   ]
  },
  {
   "cell_type": "markdown",
   "metadata": {},
   "source": [
    "##### Feature Importance for Confirmed Attribute"
   ]
  },
  {
   "cell_type": "code",
   "execution_count": 93,
   "metadata": {},
   "outputs": [],
   "source": [
    "# Dividing the data between X and y of interest\n",
    "X = protein_df.drop(['Confirmed','Deaths', 'Recovered'], axis=1)\n",
    "# X = protein_df.iloc[:, :-6]\n",
    "# X_col = X.copy()\n",
    "y = protein_df['Confirmed'] "
   ]
  },
  {
   "cell_type": "code",
   "execution_count": 94,
   "metadata": {},
   "outputs": [
    {
     "name": "stdout",
     "output_type": "stream",
     "text": [
      "MSE: 3.786337437452547 (1.367080359092334)\n",
      "RMSE: 1.913414136770891 (0.35381319740486267)\n",
      "MAE: 1.3767943998903556 (0.2602050263905295)\n"
     ]
    }
   ],
   "source": [
    "# Training-test split\n",
    "X_train, X_test, y_train, y_test = train_test_split(X, y, test_size=0.10, random_state=42)\n",
    "\n",
    "# Training split using K-Fold for cross_val\n",
    "kfold = KFold(n_splits=10)\n",
    "\n",
    "# Parameter grid for XGBoost\n",
    "params = {'gamma': [0.5, 1, 1.5, 2, 5],\n",
    "          'max_depth': [3, 4, 5],\n",
    "          'min_child_weight': [1, 2, 5, 10]\n",
    "         }\n",
    "\n",
    "\n",
    "# Create XGBoost model instance\n",
    "xgb = XGBRegressor()\n",
    "\n",
    "# Create GridSearch instance\n",
    "xgb_gs = GridSearchCV(xgb, param_grid=params)\n",
    "xgb_gs.fit(X, y)\n",
    "\n",
    "# Metrics and Cross Validation of model\n",
    "mse = cross_val_score(xgb_gs, X, y, scoring='neg_mean_squared_error', cv=kfold)\n",
    "rmse = cross_val_score(xgb_gs, X, y, scoring='neg_root_mean_squared_error', cv=kfold)\n",
    "mae = cross_val_score(xgb_gs, X, y, scoring='neg_mean_absolute_error', cv=kfold)\n",
    "r2 = cross_val_score(xgb_gs, X, y, scoring='r2', cv=kfold)\n",
    "\n",
    "print(f\"MSE: {-mse.mean()} ({mse.std()})\")\n",
    "print(f\"RMSE: {-rmse.mean()} ({rmse.std()})\")\n",
    "print(f\"MAE: {-mae.mean()} ({mae.std()})\")"
   ]
  },
  {
   "cell_type": "code",
   "execution_count": 95,
   "metadata": {},
   "outputs": [
    {
     "name": "stdout",
     "output_type": "stream",
     "text": [
      "\n",
      "Feature Importances:\n",
      "    0.2970 - Alcoholic Beverages_f\n",
      "    0.1620 - Animal Products_f\n",
      "    0.0852 - Animal fats_f\n",
      "    0.0583 - Aquatic Products, Other_f\n",
      "    0.0805 - Cereals - Excluding Beer_f\n",
      "    0.0000 - Eggs_f\n",
      "    0.0937 - Fish, Seafood_f\n",
      "    0.2235 - Fruits - Excluding Wine_f\n"
     ]
    },
    {
     "data": {
      "image/png": "[encoded data removed]",
      "text/plain": [
       "<Figure size 432x288 with 1 Axes>"
      ]
     },
     "metadata": {
      "needs_background": "light"
     },
     "output_type": "display_data"
    }
   ],
   "source": [
    "# Get Feature Importance from model\n",
    "importance = xgb_gs.best_estimator_.feature_importances_\n",
    "\n",
    "\n",
    "print(\"\\nFeature Importances:\")\n",
    "for item in zip(X_col.columns, xgb_gs.best_estimator_.feature_importances_):\n",
    "    print(\"{1:10.4f} - {0}\".format(item[0],item[1]))\n",
    "\n",
    "# Plot feature importance\n",
    "feat_importance = zip(X_col.columns, importance)\n",
    "feat_importance = sorted([x for x in feat_importance], key = lambda x: x[1], reverse=True)\n",
    "\n",
    "plt.bar(*zip(*feat_importance))\n",
    "plt.xticks(rotation=90)\n",
    "plt.show()"
   ]
  },
  {
   "cell_type": "markdown",
   "metadata": {},
   "source": [
    "##### Feature Importance for Deaths Attribute"
   ]
  },
  {
   "cell_type": "code",
   "execution_count": 96,
   "metadata": {},
   "outputs": [],
   "source": [
    "# Dividing the data between X and y of interest\n",
    "X = protein_df.drop(['Confirmed','Deaths', 'Recovered'], axis=1)\n",
    "# X = protein_df.iloc[:, :-6]\n",
    "# X_col = X.copy()\n",
    "y = protein_df['Deaths']*100"
   ]
  },
  {
   "cell_type": "code",
   "execution_count": 97,
   "metadata": {},
   "outputs": [
    {
     "name": "stdout",
     "output_type": "stream",
     "text": [
      "MSE: 16.934764936873883 (6.048194979903195)\n",
      "RMSE: 4.0417138180072945 (0.7741539576872196)\n",
      "MAE: 3.007872750676497 (0.537608087418861)\n"
     ]
    }
   ],
   "source": [
    "# Training-test split\n",
    "X_train, X_test, y_train, y_test = train_test_split(X, y, test_size=0.10, random_state=42)\n",
    "\n",
    "# Training split using K-Fold for cross_val\n",
    "kfold = KFold(n_splits=10)\n",
    "\n",
    "# Parameter grid for XGBoost\n",
    "params = {'gamma': [0.5, 1, 1.5, 2, 5],\n",
    "          'max_depth': [3, 4, 5],\n",
    "          'min_child_weight': [1, 2, 5, 10]\n",
    "         }\n",
    "\n",
    "# Create XGBoost model instance\n",
    "xgb = XGBRegressor()\n",
    "\n",
    "# Create GridSearch instance\n",
    "xgb_gs = GridSearchCV(xgb, param_grid=params)\n",
    "xgb_gs.fit(X, y)\n",
    "\n",
    "# Metrics and Cross Validation of model\n",
    "mse = cross_val_score(xgb_gs, X, y, scoring='neg_mean_squared_error', cv=kfold)\n",
    "rmse = cross_val_score(xgb_gs, X, y, scoring='neg_root_mean_squared_error', cv=kfold)\n",
    "mae = cross_val_score(xgb_gs, X, y, scoring='neg_mean_absolute_error', cv=kfold)\n",
    "r2 = cross_val_score(xgb_gs, X, y, scoring='r2', cv=kfold)\n",
    "\n",
    "print(f\"MSE: {-mse.mean()} ({mse.std()})\")\n",
    "print(f\"RMSE: {-rmse.mean()} ({rmse.std()})\")\n",
    "print(f\"MAE: {-mae.mean()} ({mae.std()})\")"
   ]
  },
  {
   "cell_type": "code",
   "execution_count": 98,
   "metadata": {},
   "outputs": [
    {
     "name": "stdout",
     "output_type": "stream",
     "text": [
      "\n",
      "Feature Importances:\n",
      "    0.2179 - Alcoholic Beverages_f\n",
      "    0.2054 - Animal Products_f\n",
      "    0.0692 - Animal fats_f\n",
      "    0.0944 - Aquatic Products, Other_f\n",
      "    0.0889 - Cereals - Excluding Beer_f\n",
      "    0.0000 - Eggs_f\n",
      "    0.0930 - Fish, Seafood_f\n",
      "    0.2313 - Fruits - Excluding Wine_f\n"
     ]
    },
    {
     "data": {
      "image/png": "[encoded data removed]",
      "text/plain": [
       "<Figure size 432x288 with 1 Axes>"
      ]
     },
     "metadata": {
      "needs_background": "light"
     },
     "output_type": "display_data"
    }
   ],
   "source": [
    "# Get Feature Importance from model\n",
    "importance = xgb_gs.best_estimator_.feature_importances_\n",
    "\n",
    "\n",
    "print(\"\\nFeature Importances:\")\n",
    "for item in zip(X_col.columns, xgb_gs.best_estimator_.feature_importances_):\n",
    "    print(\"{1:10.4f} - {0}\".format(item[0],item[1]))\n",
    "\n",
    "# Plot feature importance\n",
    "feat_importance = zip(X_col.columns, importance)\n",
    "feat_importance = sorted([x for x in feat_importance], key = lambda x: x[1], reverse=True)\n",
    "\n",
    "plt.bar(*zip(*feat_importance))\n",
    "plt.xticks(rotation=90)\n",
    "plt.show()"
   ]
  },
  {
   "cell_type": "markdown",
   "metadata": {},
   "source": [
    "##### Feature Importance for Recovered Attribute"
   ]
  },
  {
   "cell_type": "code",
   "execution_count": 99,
   "metadata": {
    "scrolled": true
   },
   "outputs": [],
   "source": [
    "# Dividing the data between X and y of interest\n",
    "X = protein_df.drop(['Confirmed','Deaths', 'Recovered'], axis=1)\n",
    "# X = protein_df.iloc[:, :-6]\n",
    "# X_col = X.copy()\n",
    "y = protein_df['Recovered']"
   ]
  },
  {
   "cell_type": "code",
   "execution_count": 100,
   "metadata": {},
   "outputs": [
    {
     "name": "stdout",
     "output_type": "stream",
     "text": [
      "MSE: 3.5472976026271645 (1.6794684480935158)\n",
      "RMSE: 1.837427748749389 (0.4137110957575533)\n",
      "MAE: 1.2833946465242687 (0.25586781133930336)\n"
     ]
    }
   ],
   "source": [
    "# Training-test split\n",
    "X_train, X_test, y_train, y_test = train_test_split(X, y, test_size=0.10, random_state=42)\n",
    "\n",
    "# Training split using K-Fold for cross_val\n",
    "kfold = KFold(n_splits=10)\n",
    "\n",
    "# Parameter grid for XGBoost\n",
    "params = {'gamma': [0.5, 1, 1.5, 2, 5]\n",
    "#           'max_depth': [3, 4, 5]\n",
    "#           'min_child_weight': [1, 2, 5, 10]\n",
    "         }\n",
    "\n",
    "\n",
    "# Create XGBoost model instance\n",
    "xgb = XGBRegressor()\n",
    "\n",
    "# Create GridSearch instance\n",
    "xgb_gs = GridSearchCV(xgb, param_grid=params)\n",
    "xgb_gs.fit(X, y)\n",
    "\n",
    "# Metrics and Cross Validation of model\n",
    "mse = cross_val_score(xgb_gs, X, y, scoring='neg_mean_squared_error', cv=kfold)\n",
    "rmse = cross_val_score(xgb_gs, X, y, scoring='neg_root_mean_squared_error', cv=kfold)\n",
    "mae = cross_val_score(xgb_gs, X, y, scoring='neg_mean_absolute_error', cv=kfold)\n",
    "r2 = cross_val_score(xgb_gs, X, y, scoring='r2', cv=kfold)\n",
    "\n",
    "print(f\"MSE: {-mse.mean()} ({mse.std()})\")\n",
    "print(f\"RMSE: {-rmse.mean()} ({rmse.std()})\")\n",
    "print(f\"MAE: {-mae.mean()} ({mae.std()})\")"
   ]
  },
  {
   "cell_type": "code",
   "execution_count": 101,
   "metadata": {},
   "outputs": [
    {
     "name": "stdout",
     "output_type": "stream",
     "text": [
      "\n",
      "Feature Importances:\n",
      "    0.2056 - Alcoholic Beverages_f\n",
      "    0.1941 - Animal Products_f\n",
      "    0.1110 - Animal fats_f\n",
      "    0.0721 - Aquatic Products, Other_f\n",
      "    0.0829 - Cereals - Excluding Beer_f\n",
      "    0.0000 - Eggs_f\n",
      "    0.2337 - Fish, Seafood_f\n",
      "    0.1006 - Fruits - Excluding Wine_f\n"
     ]
    },
    {
     "data": {
      "image/png": "[encoded data removed]",
      "text/plain": [
       "<Figure size 432x288 with 1 Axes>"
      ]
     },
     "metadata": {
      "needs_background": "light"
     },
     "output_type": "display_data"
    }
   ],
   "source": [
    "# Get Feature Importance from model\n",
    "importance = xgb_gs.best_estimator_.feature_importances_\n",
    "\n",
    "\n",
    "print(\"\\nFeature Importances:\")\n",
    "for item in zip(X_col.columns, xgb_gs.best_estimator_.feature_importances_):\n",
    "    print(\"{1:10.4f} - {0}\".format(item[0],item[1]))\n",
    "\n",
    "# Plot feature importance\n",
    "feat_importance = zip(X_col.columns, importance)\n",
    "feat_importance = sorted([x for x in feat_importance], key = lambda x: x[1], reverse=True)\n",
    "\n",
    "plt.bar(*zip(*feat_importance))\n",
    "plt.xticks(rotation=90)\n",
    "plt.show()"
   ]
  },
  {
   "cell_type": "code",
   "execution_count": null,
   "metadata": {},
   "outputs": [],
   "source": []
  },
  {
   "cell_type": "code",
   "execution_count": null,
   "metadata": {},
   "outputs": [],
   "source": [
    " "
   ]
  }
 ],
 "metadata": {
  "kernelspec": {
   "display_name": "Python 3",
   "language": "python",
   "name": "python3"
  },
  "language_info": {
   "codemirror_mode": {
    "name": "ipython",
    "version": 3
   },
   "file_extension": ".py",
   "mimetype": "text/x-python",
   "name": "python",
   "nbconvert_exporter": "python",
   "pygments_lexer": "ipython3",
   "version": "3.8.2"
  }
 },
 "nbformat": 4,
 "nbformat_minor": 4
}
