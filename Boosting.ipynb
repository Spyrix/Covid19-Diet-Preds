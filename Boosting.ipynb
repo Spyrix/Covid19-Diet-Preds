{
 "cells": [
  {
   "cell_type": "code",
   "execution_count": 3,
   "metadata": {},
   "outputs": [],
   "source": [
    "import numpy as np\n",
    "import pandas as pd\n",
    "\n",
    "from sklearn.model_selection import train_test_split\n",
    "from sklearn.model_selection import GridSearchCV\n",
    "from sklearn.model_selection import KFold\n",
    "\n",
    "from sklearn.model_selection import cross_val_score\n",
    "from sklearn.metrics import mean_squared_error\n",
    "\n",
    "from sklearn.preprocessing import StandardScaler, MinMaxScaler\n",
    "\n",
    "from xgboost import XGBRegressor\n",
    "import matplotlib.pyplot as plt"
   ]
  },
  {
   "cell_type": "markdown",
   "metadata": {},
   "source": [
    "### Importing data"
   ]
  },
  {
   "cell_type": "code",
   "execution_count": 37,
   "metadata": {},
   "outputs": [],
   "source": [
    "fat_df = pd.read_csv('data/data_clean/fat_data_clean.csv')\n",
    "kcal_df = pd.read_csv('data/data_clean/kcal_data_clean.csv')\n",
    "kg_df = pd.read_csv('data/data_clean/kg_data_clean.csv')\n",
    "protein_df = pd.read_csv('data/data_clean/protein_data_clean.csv')"
   ]
  },
  {
   "cell_type": "markdown",
   "metadata": {},
   "source": [
    "## Identifying Multicollinearity in Data"
   ]
  },
  {
   "cell_type": "code",
   "execution_count": 64,
   "metadata": {},
   "outputs": [],
   "source": [
    "import statsmodels.api as sm\n",
    "from statsmodels.stats.outliers_influence import variance_inflation_factor"
   ]
  },
  {
   "cell_type": "code",
   "execution_count": 65,
   "metadata": {},
   "outputs": [],
   "source": [
    "# Using fat_df just as preliminary dataset to identify multicollinearity\n",
    "fat_df = fat_df.drop(['Country'], axis=1)\n",
    "\n",
    "X = fat_df.iloc[:, :-6]\n",
    "X_col = X.copy()\n",
    "X = MinMaxScaler().fit_transform(X)\n",
    "y = fat_df['Deaths']\n",
    "\n",
    "\n",
    "vif_data = pd.DataFrame()\n",
    "vif_data[\"feature\"] = X_col.columns"
   ]
  },
  {
   "cell_type": "code",
   "execution_count": 66,
   "metadata": {},
   "outputs": [],
   "source": [
    "# Training-test split\n",
    "X_train, X_test, y_train, y_test = train_test_split(X, y, test_size = 0.20, random_state = 5)\n",
    "\n",
    "# Initial results\n",
    "# calculating VIF for each feature\n",
    "vif_data[\"VIF\"] = [variance_inflation_factor(X, i)\n",
    "                          for i in range(len(X_col.columns))]"
   ]
  },
  {
   "cell_type": "code",
   "execution_count": 67,
   "metadata": {},
   "outputs": [
    {
     "data": {
      "text/html": [
       "<div>\n",
       "<style scoped>\n",
       "    .dataframe tbody tr th:only-of-type {\n",
       "        vertical-align: middle;\n",
       "    }\n",
       "\n",
       "    .dataframe tbody tr th {\n",
       "        vertical-align: top;\n",
       "    }\n",
       "\n",
       "    .dataframe thead th {\n",
       "        text-align: right;\n",
       "    }\n",
       "</style>\n",
       "<table border=\"1\" class=\"dataframe\">\n",
       "  <thead>\n",
       "    <tr style=\"text-align: right;\">\n",
       "      <th></th>\n",
       "      <th>feature</th>\n",
       "      <th>VIF</th>\n",
       "    </tr>\n",
       "  </thead>\n",
       "  <tbody>\n",
       "    <tr>\n",
       "      <th>18</th>\n",
       "      <td>Sugar &amp; Sweeteners_f</td>\n",
       "      <td>1.894525e+00</td>\n",
       "    </tr>\n",
       "    <tr>\n",
       "      <th>3</th>\n",
       "      <td>Aquatic Products, Other_f</td>\n",
       "      <td>3.423765e+00</td>\n",
       "    </tr>\n",
       "    <tr>\n",
       "      <th>0</th>\n",
       "      <td>Alcoholic Beverages_f</td>\n",
       "      <td>3.743534e+00</td>\n",
       "    </tr>\n",
       "    <tr>\n",
       "      <th>23</th>\n",
       "      <td>Obesity</td>\n",
       "      <td>8.263887e+00</td>\n",
       "    </tr>\n",
       "    <tr>\n",
       "      <th>17</th>\n",
       "      <td>Sugar Crops_f</td>\n",
       "      <td>1.079844e+01</td>\n",
       "    </tr>\n",
       "    <tr>\n",
       "      <th>9</th>\n",
       "      <td>Miscellaneous_f</td>\n",
       "      <td>1.321336e+02</td>\n",
       "    </tr>\n",
       "    <tr>\n",
       "      <th>11</th>\n",
       "      <td>Offals_f</td>\n",
       "      <td>1.421459e+03</td>\n",
       "    </tr>\n",
       "    <tr>\n",
       "      <th>22</th>\n",
       "      <td>Vegetables_f</td>\n",
       "      <td>2.050995e+03</td>\n",
       "    </tr>\n",
       "    <tr>\n",
       "      <th>15</th>\n",
       "      <td>Starchy Roots_f</td>\n",
       "      <td>3.085332e+03</td>\n",
       "    </tr>\n",
       "    <tr>\n",
       "      <th>13</th>\n",
       "      <td>Pulses_f</td>\n",
       "      <td>3.408131e+03</td>\n",
       "    </tr>\n",
       "    <tr>\n",
       "      <th>14</th>\n",
       "      <td>Spices_f</td>\n",
       "      <td>4.802095e+03</td>\n",
       "    </tr>\n",
       "    <tr>\n",
       "      <th>16</th>\n",
       "      <td>Stimulants_f</td>\n",
       "      <td>1.520102e+04</td>\n",
       "    </tr>\n",
       "    <tr>\n",
       "      <th>7</th>\n",
       "      <td>Fruits - Excluding Wine_f</td>\n",
       "      <td>1.642369e+04</td>\n",
       "    </tr>\n",
       "    <tr>\n",
       "      <th>19</th>\n",
       "      <td>Treenuts_f</td>\n",
       "      <td>1.990075e+04</td>\n",
       "    </tr>\n",
       "    <tr>\n",
       "      <th>5</th>\n",
       "      <td>Eggs_f</td>\n",
       "      <td>4.827359e+04</td>\n",
       "    </tr>\n",
       "    <tr>\n",
       "      <th>6</th>\n",
       "      <td>Fish, Seafood_f</td>\n",
       "      <td>5.867606e+04</td>\n",
       "    </tr>\n",
       "    <tr>\n",
       "      <th>4</th>\n",
       "      <td>Cereals - Excluding Beer_f</td>\n",
       "      <td>3.666972e+05</td>\n",
       "    </tr>\n",
       "    <tr>\n",
       "      <th>12</th>\n",
       "      <td>Oilcrops_f</td>\n",
       "      <td>4.716865e+05</td>\n",
       "    </tr>\n",
       "    <tr>\n",
       "      <th>2</th>\n",
       "      <td>Animal fats_f</td>\n",
       "      <td>1.110426e+06</td>\n",
       "    </tr>\n",
       "    <tr>\n",
       "      <th>10</th>\n",
       "      <td>Milk - Excluding Butter_f</td>\n",
       "      <td>1.427736e+06</td>\n",
       "    </tr>\n",
       "    <tr>\n",
       "      <th>8</th>\n",
       "      <td>Meat_f</td>\n",
       "      <td>3.684705e+06</td>\n",
       "    </tr>\n",
       "    <tr>\n",
       "      <th>21</th>\n",
       "      <td>Vegetable Oils_f</td>\n",
       "      <td>3.925570e+06</td>\n",
       "    </tr>\n",
       "    <tr>\n",
       "      <th>20</th>\n",
       "      <td>Vegetal Products_f</td>\n",
       "      <td>8.602909e+06</td>\n",
       "    </tr>\n",
       "    <tr>\n",
       "      <th>1</th>\n",
       "      <td>Animal Products_f</td>\n",
       "      <td>1.597918e+07</td>\n",
       "    </tr>\n",
       "  </tbody>\n",
       "</table>\n",
       "</div>"
      ],
      "text/plain": [
       "                       feature           VIF\n",
       "18        Sugar & Sweeteners_f  1.894525e+00\n",
       "3    Aquatic Products, Other_f  3.423765e+00\n",
       "0        Alcoholic Beverages_f  3.743534e+00\n",
       "23                     Obesity  8.263887e+00\n",
       "17               Sugar Crops_f  1.079844e+01\n",
       "9              Miscellaneous_f  1.321336e+02\n",
       "11                    Offals_f  1.421459e+03\n",
       "22                Vegetables_f  2.050995e+03\n",
       "15             Starchy Roots_f  3.085332e+03\n",
       "13                    Pulses_f  3.408131e+03\n",
       "14                    Spices_f  4.802095e+03\n",
       "16                Stimulants_f  1.520102e+04\n",
       "7    Fruits - Excluding Wine_f  1.642369e+04\n",
       "19                  Treenuts_f  1.990075e+04\n",
       "5                       Eggs_f  4.827359e+04\n",
       "6              Fish, Seafood_f  5.867606e+04\n",
       "4   Cereals - Excluding Beer_f  3.666972e+05\n",
       "12                  Oilcrops_f  4.716865e+05\n",
       "2                Animal fats_f  1.110426e+06\n",
       "10   Milk - Excluding Butter_f  1.427736e+06\n",
       "8                       Meat_f  3.684705e+06\n",
       "21            Vegetable Oils_f  3.925570e+06\n",
       "20          Vegetal Products_f  8.602909e+06\n",
       "1            Animal Products_f  1.597918e+07"
      ]
     },
     "execution_count": 67,
     "metadata": {},
     "output_type": "execute_result"
    }
   ],
   "source": [
    "#Identified that:\n",
    "# - Vegetable Oil is highly correlative with Vegetable Products attribute\n",
    "# - Milk and Animal Fats might correlate and fit with Animal Products\n",
    "vif_data.sort_values('VIF')"
   ]
  },
  {
   "cell_type": "markdown",
   "metadata": {},
   "source": [
    "## Using XGBoost for Feature Importance"
   ]
  },
  {
   "cell_type": "markdown",
   "metadata": {},
   "source": [
    "### Using Food Supply in Kcal dataset"
   ]
  },
  {
   "cell_type": "code",
   "execution_count": 38,
   "metadata": {},
   "outputs": [],
   "source": [
    "# # Removing Country column due to it being categorical and not providing much information\n",
    "# kcal_df = kcal_df[['Vegetal Products_kcal', 'Fish, Seafood_kcal', 'Spices_kcal', \n",
    "#                    'Offals_kcal', 'Vegetables_kcal','Animal Products_kcal',\n",
    "#                    'Alcoholic Beverages_kcal','Sugar & Sweeteners_kcal','Confirmed','Deaths', 'Recovered'] Undernourished\n",
    "\n",
    "kcal_df = kcal_df.drop(['Country', 'Obesity', 'Undernourished', 'Active', 'Population'], axis=1)\n",
    "# kcal_df.describe()"
   ]
  },
  {
   "cell_type": "markdown",
   "metadata": {},
   "source": [
    "##### Feature Importance for Confirmed Attribute"
   ]
  },
  {
   "cell_type": "code",
   "execution_count": 39,
   "metadata": {},
   "outputs": [],
   "source": [
    "# Dividing the data between X and y of interest\n",
    "X = kcal_df.drop(['Confirmed','Deaths', 'Recovered'], axis=1)\n",
    "X_col = X.copy()\n",
    "# X = MinMaxScaler().fit_transform(X)\n",
    "y = kcal_df['Confirmed'] "
   ]
  },
  {
   "cell_type": "code",
   "execution_count": 40,
   "metadata": {},
   "outputs": [
    {
     "name": "stdout",
     "output_type": "stream",
     "text": [
      "MSE: 3.434764145400858 (1.200054539639999)\n",
      "RMSE: 1.8217588064905563 (0.3405275266038888)\n",
      "MAE: 1.2725118642612578 (0.23672828837770502)\n",
      "R2: 0.32310519619082617\n"
     ]
    }
   ],
   "source": [
    "# Training-test split\n",
    "X_train, X_test, y_train, y_test = train_test_split(X, y, test_size=0.10, random_state=42)\n",
    "\n",
    "# Training split using K-Fold for cross_val\n",
    "kfold = KFold(n_splits=10)\n",
    "\n",
    "# Parameter grid for XGBoost\n",
    "# params = {'gamma': [0.5, 1, 1.5, 2, 5],\n",
    "#           'max_depth': [3, 4, 5], \n",
    "#           'min_child_weight': [1, 2, 5, 10]\n",
    "#          }\n",
    "\n",
    "# Create XGBoost model instance\n",
    "xgb = XGBRegressor()\n",
    "\n",
    "# Create GridSearch instance\n",
    "# xgb_gs = GridSearchCV(xgb, param_grid=params)\n",
    "# xgb_gs.fit(X, y)\n",
    "xgb.fit(X,y)\n",
    "\n",
    "# Metrics and Cross Validation of model\n",
    "mse = cross_val_score(xgb, X, y, scoring='neg_mean_squared_error', cv=kfold)\n",
    "rmse = cross_val_score(xgb, X, y, scoring='neg_root_mean_squared_error', cv=kfold)\n",
    "mae = cross_val_score(xgb, X, y, scoring='neg_mean_absolute_error', cv=kfold)\n",
    "r2 = cross_val_score(xgb, X, y, scoring='r2', cv=kfold)\n",
    "\n",
    "print(f\"MSE: {-mse.mean()} ({mse.std()})\")\n",
    "print(f\"RMSE: {-rmse.mean()} ({rmse.std()})\")\n",
    "print(f\"MAE: {-mae.mean()} ({mae.std()})\")\n",
    "print(f\"R2: {r2.mean()}\")"
   ]
  },
  {
   "cell_type": "code",
   "execution_count": 41,
   "metadata": {},
   "outputs": [
    {
     "name": "stdout",
     "output_type": "stream",
     "text": [
      "\n",
      "Feature Importances:\n",
      "    0.0098 - Alcoholic Beverages_kcal\n",
      "    0.0226 - Animal Products_kcal\n",
      "    0.0205 - Animal fats_kcal\n",
      "    0.0000 - Aquatic Products, Other_kcal\n",
      "    0.0217 - Cereals - Excluding Beer_kcal\n",
      "    0.2901 - Eggs_kcal\n",
      "    0.0544 - Fish, Seafood_kcal\n",
      "    0.0107 - Fruits - Excluding Wine_kcal\n",
      "    0.0088 - Meat_kcal\n",
      "    0.2422 - Milk - Excluding Butter_kcal\n",
      "    0.0523 - Miscellaneous_kcal\n",
      "    0.0266 - Offals_kcal\n",
      "    0.0293 - Oilcrops_kcal\n",
      "    0.0145 - Pulses_kcal\n",
      "    0.0084 - Spices_kcal\n",
      "    0.0311 - Starchy Roots_kcal\n",
      "    0.0472 - Stimulants_kcal\n",
      "    0.0000 - Sugar Crops_kcal\n",
      "    0.0201 - Sugar & Sweeteners_kcal\n",
      "    0.0610 - Treenuts_kcal\n",
      "    0.0000 - Vegetal Products_kcal\n",
      "    0.0169 - Vegetable Oils_kcal\n",
      "    0.0120 - Vegetables_kcal\n"
     ]
    },
    {
     "data": {
      "image/png": "[encoded data removed]",
      "text/plain": [
       "<Figure size 432x288 with 1 Axes>"
      ]
     },
     "metadata": {
      "needs_background": "light"
     },
     "output_type": "display_data"
    }
   ],
   "source": [
    "# Get Feature Importance from model\n",
    "importance = xgb.feature_importances_\n",
    "\n",
    "\n",
    "print(\"\\nFeature Importances:\")\n",
    "for item in zip(X_col.columns, xgb.feature_importances_):\n",
    "    print(\"{1:10.4f} - {0}\".format(item[0],item[1]))\n",
    "\n",
    "# Plot feature importance\n",
    "feat_importance = zip(X_col.columns, importance)\n",
    "feat_importance = sorted([x for x in feat_importance], key = lambda x: x[1], reverse=True)\n",
    "\n",
    "plt.bar(*zip(*feat_importance))\n",
    "plt.xticks(rotation=90)\n",
    "plt.show()"
   ]
  },
  {
   "cell_type": "markdown",
   "metadata": {},
   "source": [
    "##### Feature Importance for Deaths Attribute"
   ]
  },
  {
   "cell_type": "code",
   "execution_count": 42,
   "metadata": {},
   "outputs": [],
   "source": [
    "# Dividing the data between X and y of interest\n",
    "X = kcal_df.drop(['Confirmed','Deaths', 'Recovered'], axis=1)\n",
    "# X = kcal_df.iloc[:, :-6]\n",
    "X_col = X.copy()\n",
    "\n",
    "# Scaled data values by a scale of 100 so XGBoost can learn effectively (issues with small data values)\n",
    "# Did this since we are only using model for feature importance (would not do for prediction model)\n",
    "y = kcal_df['Deaths']"
   ]
  },
  {
   "cell_type": "code",
   "execution_count": 43,
   "metadata": {},
   "outputs": [
    {
     "name": "stdout",
     "output_type": "stream",
     "text": [
      "MSE: 0.0018068240370452931 (0.0007727908742320586)\n",
      "RMSE: 0.041548714487785396 (0.008973759605526857)\n",
      "MAE: 0.02993852459189633 (0.006075296370111906)\n",
      "R2: 0.2323495045121776\n"
     ]
    }
   ],
   "source": [
    "# Training-test split\n",
    "X_train, X_test, y_train, y_test = train_test_split(X, y, test_size=0.10, random_state=42)\n",
    "\n",
    "# Training split using K-Fold for cross_val\n",
    "kfold = KFold(n_splits=10)\n",
    "\n",
    "# Parameter grid for XGBoost\n",
    "# params = {'gamma': [0.5, 1, 1.5, 2, 5],\n",
    "#           'max_depth': [3, 4, 5], \n",
    "#           'min_child_weight': [1, 2, 5, 10]\n",
    "#          }\n",
    "\n",
    "# Create XGBoost model instance\n",
    "xgb = XGBRegressor()\n",
    "\n",
    "# Create GridSearch instance\n",
    "# xgb_gs = GridSearchCV(xgb, param_grid=params)\n",
    "# xgb_gs.fit(X, y)\n",
    "xgb.fit(X,y)\n",
    "\n",
    "# Metrics and Cross Validation of model\n",
    "mse = cross_val_score(xgb, X, y, scoring='neg_mean_squared_error', cv=kfold)\n",
    "rmse = cross_val_score(xgb, X, y, scoring='neg_root_mean_squared_error', cv=kfold)\n",
    "mae = cross_val_score(xgb, X, y, scoring='neg_mean_absolute_error', cv=kfold)\n",
    "r2 = cross_val_score(xgb, X, y, scoring='r2', cv=kfold)\n",
    "\n",
    "print(f\"MSE: {-mse.mean()} ({mse.std()})\")\n",
    "print(f\"RMSE: {-rmse.mean()} ({rmse.std()})\")\n",
    "print(f\"MAE: {-mae.mean()} ({mae.std()})\")\n",
    "print(f\"R2: {r2.mean()}\")"
   ]
  },
  {
   "cell_type": "code",
   "execution_count": 44,
   "metadata": {},
   "outputs": [
    {
     "name": "stdout",
     "output_type": "stream",
     "text": [
      "\n",
      "Feature Importances:\n",
      "    0.0695 - Alcoholic Beverages_kcal\n",
      "    0.0897 - Animal Products_kcal\n",
      "    0.1257 - Animal fats_kcal\n",
      "    0.0000 - Aquatic Products, Other_kcal\n",
      "    0.0036 - Cereals - Excluding Beer_kcal\n",
      "    0.1119 - Eggs_kcal\n",
      "    0.0448 - Fish, Seafood_kcal\n",
      "    0.0271 - Fruits - Excluding Wine_kcal\n",
      "    0.0498 - Meat_kcal\n",
      "    0.0328 - Milk - Excluding Butter_kcal\n",
      "    0.0322 - Miscellaneous_kcal\n",
      "    0.0315 - Offals_kcal\n",
      "    0.1181 - Oilcrops_kcal\n",
      "    0.0365 - Pulses_kcal\n",
      "    0.0159 - Spices_kcal\n",
      "    0.0389 - Starchy Roots_kcal\n",
      "    0.0299 - Stimulants_kcal\n",
      "    0.0000 - Sugar Crops_kcal\n",
      "    0.0537 - Sugar & Sweeteners_kcal\n",
      "    0.0183 - Treenuts_kcal\n",
      "    0.0000 - Vegetal Products_kcal\n",
      "    0.0554 - Vegetable Oils_kcal\n",
      "    0.0147 - Vegetables_kcal\n"
     ]
    },
    {
     "data": {
      "image/png": "[encoded data removed]",
      "text/plain": [
       "<Figure size 432x288 with 1 Axes>"
      ]
     },
     "metadata": {
      "needs_background": "light"
     },
     "output_type": "display_data"
    }
   ],
   "source": [
    "# Get Feature Importance from model\n",
    "importance = xgb.feature_importances_\n",
    "\n",
    "\n",
    "print(\"\\nFeature Importances:\")\n",
    "for item in zip(X_col.columns, xgb.feature_importances_):\n",
    "    print(\"{1:10.4f} - {0}\".format(item[0],item[1]))\n",
    "\n",
    "# Plot feature importance\n",
    "feat_importance = zip(X_col.columns, importance)\n",
    "feat_importance = sorted([x for x in feat_importance], key = lambda x: x[1], reverse=True)\n",
    "\n",
    "plt.bar(*zip(*feat_importance))\n",
    "plt.xticks(rotation=90)\n",
    "plt.show()"
   ]
  },
  {
   "cell_type": "markdown",
   "metadata": {},
   "source": [
    "##### Feature Importance for Recovered Attribute"
   ]
  },
  {
   "cell_type": "code",
   "execution_count": 45,
   "metadata": {},
   "outputs": [
    {
     "data": {
      "text/plain": [
       "count    164.000000\n",
       "mean       1.452356\n",
       "std        1.927617\n",
       "min        0.000000\n",
       "25%        0.099107\n",
       "50%        0.475402\n",
       "75%        2.622874\n",
       "max        9.039871\n",
       "Name: Recovered, dtype: float64"
      ]
     },
     "execution_count": 45,
     "metadata": {},
     "output_type": "execute_result"
    }
   ],
   "source": [
    "# Dividing the data between X and y of interest\n",
    "X = kcal_df.drop(['Confirmed','Deaths', 'Recovered'], axis=1)\n",
    "# X = kcal_df.iloc[:, :-6]\n",
    "X_col = X.copy()\n",
    "# X = MinMaxScaler().fit_transform(X)\n",
    "y = kcal_df['Recovered']\n",
    "y.describe()"
   ]
  },
  {
   "cell_type": "code",
   "execution_count": 46,
   "metadata": {},
   "outputs": [
    {
     "name": "stdout",
     "output_type": "stream",
     "text": [
      "MSE: 3.153151638148441 (1.450690244079238)\n",
      "RMSE: 1.7292810763916315 (0.40340872199574657)\n",
      "MAE: 1.1404034670828977 (0.2397335437349407)\n",
      "R2: 0.0749886132415104\n"
     ]
    }
   ],
   "source": [
    "# Training-test split\n",
    "X_train, X_test, y_train, y_test = train_test_split(X, y, test_size=0.10, random_state=42)\n",
    "\n",
    "# Training split using K-Fold for cross_val\n",
    "kfold = KFold(n_splits=10)\n",
    "\n",
    "# Parameter grid for XGBoost\n",
    "# params = {'gamma': [0.5, 1, 1.5, 2, 5],\n",
    "#           'max_depth': [3, 4, 5], \n",
    "#           'min_child_weight': [1, 2, 5, 10]\n",
    "#          }\n",
    "\n",
    "# Create XGBoost model instance\n",
    "xgb = XGBRegressor()\n",
    "\n",
    "# Create GridSearch instance\n",
    "# xgb_gs = GridSearchCV(xgb, param_grid=params)\n",
    "# xgb_gs.fit(X, y)\n",
    "xgb.fit(X,y)\n",
    "\n",
    "# Metrics and Cross Validation of model\n",
    "mse = cross_val_score(xgb, X, y, scoring='neg_mean_squared_error', cv=kfold)\n",
    "rmse = cross_val_score(xgb, X, y, scoring='neg_root_mean_squared_error', cv=kfold)\n",
    "mae = cross_val_score(xgb, X, y, scoring='neg_mean_absolute_error', cv=kfold)\n",
    "r2 = cross_val_score(xgb, X, y, scoring='r2', cv=kfold)\n",
    "\n",
    "print(f\"MSE: {-mse.mean()} ({mse.std()})\")\n",
    "print(f\"RMSE: {-rmse.mean()} ({rmse.std()})\")\n",
    "print(f\"MAE: {-mae.mean()} ({mae.std()})\")\n",
    "print(f\"R2: {r2.mean()}\")"
   ]
  },
  {
   "cell_type": "code",
   "execution_count": 47,
   "metadata": {},
   "outputs": [
    {
     "name": "stdout",
     "output_type": "stream",
     "text": [
      "\n",
      "Feature Importances:\n",
      "    0.0138 - Alcoholic Beverages_kcal\n",
      "    0.0110 - Animal Products_kcal\n",
      "    0.1066 - Animal fats_kcal\n",
      "    0.0001 - Aquatic Products, Other_kcal\n",
      "    0.0426 - Cereals - Excluding Beer_kcal\n",
      "    0.3130 - Eggs_kcal\n",
      "    0.0672 - Fish, Seafood_kcal\n",
      "    0.0332 - Fruits - Excluding Wine_kcal\n",
      "    0.0081 - Meat_kcal\n",
      "    0.0828 - Milk - Excluding Butter_kcal\n",
      "    0.0236 - Miscellaneous_kcal\n",
      "    0.0442 - Offals_kcal\n",
      "    0.0320 - Oilcrops_kcal\n",
      "    0.0136 - Pulses_kcal\n",
      "    0.0172 - Spices_kcal\n",
      "    0.0324 - Starchy Roots_kcal\n",
      "    0.0911 - Stimulants_kcal\n",
      "    0.0000 - Sugar Crops_kcal\n",
      "    0.0123 - Sugar & Sweeteners_kcal\n",
      "    0.0493 - Treenuts_kcal\n",
      "    0.0000 - Vegetal Products_kcal\n",
      "    0.0038 - Vegetable Oils_kcal\n",
      "    0.0020 - Vegetables_kcal\n"
     ]
    },
    {
     "data": {
      "image/png": "[encoded data removed]",
      "text/plain": [
       "<Figure size 432x288 with 1 Axes>"
      ]
     },
     "metadata": {
      "needs_background": "light"
     },
     "output_type": "display_data"
    }
   ],
   "source": [
    "# Get Feature Importance from model\n",
    "importance = xgb.feature_importances_\n",
    "\n",
    "\n",
    "print(\"\\nFeature Importances:\")\n",
    "for item in zip(X_col.columns, xgb.feature_importances_):\n",
    "    print(\"{1:10.4f} - {0}\".format(item[0],item[1]))\n",
    "\n",
    "# Plot feature importance\n",
    "feat_importance = zip(X_col.columns, importance)\n",
    "feat_importance = sorted([x for x in feat_importance], key = lambda x: x[1], reverse=True)\n",
    "\n",
    "plt.bar(*zip(*feat_importance))\n",
    "plt.xticks(rotation=90)\n",
    "plt.show()"
   ]
  },
  {
   "cell_type": "markdown",
   "metadata": {},
   "source": [
    "### Using Food Supply in Kg dataset"
   ]
  },
  {
   "cell_type": "code",
   "execution_count": 48,
   "metadata": {},
   "outputs": [],
   "source": [
    "# # Removing Country column due to it being categorical and not providing much information\n",
    "kg_df = kg_df.drop(['Country', 'Obesity', 'Undernourished', 'Active', 'Population'], axis=1)\n",
    "#[['Vegetal Products_kg', 'Fish, Seafood_kg', 'Spices_kg', \n",
    "#                    'Offals_kg', 'Vegetables_kg','Animal Products_kg',\n",
    "#                    'Alcoholic Beverages_kg','Sugar & Sweeteners_kg','Confirmed','Deaths', 'Recovered']]\n",
    "# kg_df"
   ]
  },
  {
   "cell_type": "markdown",
   "metadata": {},
   "source": [
    "##### Feature Importance for Confirmed Attribute"
   ]
  },
  {
   "cell_type": "code",
   "execution_count": 49,
   "metadata": {},
   "outputs": [],
   "source": [
    "# Dividing the data between X and y of interest\n",
    "X = kg_df.drop(['Confirmed','Deaths', 'Recovered'], axis=1)\n",
    "# kg_df.iloc[:, :-6]\n",
    "X_col = X.copy()\n",
    "y = kg_df['Confirmed'] "
   ]
  },
  {
   "cell_type": "code",
   "execution_count": 50,
   "metadata": {},
   "outputs": [
    {
     "name": "stdout",
     "output_type": "stream",
     "text": [
      "MSE: 3.7821799535494227 (1.0477367686904995)\n",
      "RMSE: 1.9242022263796315 (0.2821803422371783)\n",
      "MAE: 1.374154338824132 (0.2134425715806917)\n",
      "R2: 0.25952690282388946\n"
     ]
    }
   ],
   "source": [
    "# Training-test split\n",
    "X_train, X_test, y_train, y_test = train_test_split(X, y, test_size=0.10, random_state=42)\n",
    "\n",
    "# Training split using K-Fold for cross_val\n",
    "kfold = KFold(n_splits=10)\n",
    "\n",
    "# Parameter grid for XGBoost\n",
    "# params = {'gamma': [0.5, 1, 1.5, 2, 5],\n",
    "#           'max_depth': [3, 4, 5], \n",
    "#           'min_child_weight': [1, 2, 5, 10]\n",
    "#          }\n",
    "\n",
    "# Create XGBoost model instance\n",
    "xgb = XGBRegressor()\n",
    "\n",
    "# Create GridSearch instance\n",
    "# xgb_gs = GridSearchCV(xgb, param_grid=params)\n",
    "# xgb_gs.fit(X, y)\n",
    "xgb.fit(X,y)\n",
    "\n",
    "# Metrics and Cross Validation of model\n",
    "mse = cross_val_score(xgb, X, y, scoring='neg_mean_squared_error', cv=kfold)\n",
    "rmse = cross_val_score(xgb, X, y, scoring='neg_root_mean_squared_error', cv=kfold)\n",
    "mae = cross_val_score(xgb, X, y, scoring='neg_mean_absolute_error', cv=kfold)\n",
    "r2 = cross_val_score(xgb, X, y, scoring='r2', cv=kfold)\n",
    "\n",
    "print(f\"MSE: {-mse.mean()} ({mse.std()})\")\n",
    "print(f\"RMSE: {-rmse.mean()} ({rmse.std()})\")\n",
    "print(f\"MAE: {-mae.mean()} ({mae.std()})\")\n",
    "print(f\"R2: {r2.mean()}\")"
   ]
  },
  {
   "cell_type": "code",
   "execution_count": 51,
   "metadata": {},
   "outputs": [
    {
     "name": "stdout",
     "output_type": "stream",
     "text": [
      "\n",
      "Feature Importances:\n",
      "    0.0290 - Alcoholic Beverages_kg\n",
      "    0.0117 - Animal fats_kg\n",
      "    0.2833 - Animal Products_kg\n",
      "    0.0029 - Aquatic Products, Other_kg\n",
      "    0.0415 - Cereals - Excluding Beer_kg\n",
      "    0.1054 - Eggs_kg\n",
      "    0.0428 - Fish, Seafood_kg\n",
      "    0.0026 - Fruits - Excluding Wine_kg\n",
      "    0.0241 - Meat_kg\n",
      "    0.1696 - Milk - Excluding Butter_kg\n",
      "    0.0127 - Miscellaneous_kg\n",
      "    0.0110 - Offals_kg\n",
      "    0.0267 - Oilcrops_kg\n",
      "    0.0158 - Pulses_kg\n",
      "    0.0284 - Spices_kg\n",
      "    0.0120 - Starchy Roots_kg\n",
      "    0.0532 - Stimulants_kg\n",
      "    0.0054 - Sugar & Sweeteners_kg\n",
      "    0.0009 - Sugar Crops_kg\n",
      "    0.0395 - Treenuts_kg\n",
      "    0.0273 - Vegetable Oils_kg\n",
      "    0.0539 - Vegetables_kg\n",
      "    0.0000 - Vegetal Products_kg\n"
     ]
    },
    {
     "data": {
      "image/png": "[encoded data removed]",
      "text/plain": [
       "<Figure size 432x288 with 1 Axes>"
      ]
     },
     "metadata": {
      "needs_background": "light"
     },
     "output_type": "display_data"
    }
   ],
   "source": [
    "# Get Feature Importance from model\n",
    "importance = xgb.feature_importances_\n",
    "\n",
    "\n",
    "print(\"\\nFeature Importances:\")\n",
    "for item in zip(X_col.columns, xgb.feature_importances_):\n",
    "    print(\"{1:10.4f} - {0}\".format(item[0],item[1]))\n",
    "\n",
    "# Plot feature importance\n",
    "feat_importance = zip(X_col.columns, importance)\n",
    "feat_importance = sorted([x for x in feat_importance], key = lambda x: x[1], reverse=True)\n",
    "\n",
    "plt.bar(*zip(*feat_importance))\n",
    "plt.xticks(rotation=90)\n",
    "plt.show()"
   ]
  },
  {
   "cell_type": "markdown",
   "metadata": {},
   "source": [
    "##### Feature Importance for Deaths Attribute"
   ]
  },
  {
   "cell_type": "code",
   "execution_count": 52,
   "metadata": {},
   "outputs": [],
   "source": [
    "# Dividing the data between X and y of interest\n",
    "X = kg_df.drop(['Confirmed','Deaths', 'Recovered'], axis=1)\n",
    "# kg_df.iloc[:, :-6]\n",
    "X_col = X.copy()\n",
    "y = kg_df['Deaths']"
   ]
  },
  {
   "cell_type": "code",
   "execution_count": 53,
   "metadata": {},
   "outputs": [
    {
     "name": "stdout",
     "output_type": "stream",
     "text": [
      "MSE: 0.001854266111212717 (0.0011069856403111283)\n",
      "RMSE: 0.04152135595069584 (0.011412410403956406)\n",
      "MAE: 0.030648431068948 (0.007991470882859966)\n",
      "R2: 0.17673298069321944\n"
     ]
    }
   ],
   "source": [
    "# Training-test split\n",
    "X_train, X_test, y_train, y_test = train_test_split(X, y, test_size=0.10, random_state=42)\n",
    "\n",
    "# Training split using K-Fold for cross_val\n",
    "kfold = KFold(n_splits=10)\n",
    "\n",
    "# Parameter grid for XGBoost\n",
    "# params = {'gamma': [0.5, 1, 1.5, 2, 5],\n",
    "#           'max_depth': [3, 4, 5], \n",
    "#           'min_child_weight': [1, 2, 5, 10]\n",
    "#          }\n",
    "\n",
    "# Create XGBoost model instance\n",
    "xgb = XGBRegressor()\n",
    "\n",
    "# Create GridSearch instance\n",
    "# xgb_gs = GridSearchCV(xgb, param_grid=params)\n",
    "# xgb_gs.fit(X, y)\n",
    "xgb.fit(X,y)\n",
    "\n",
    "# Metrics and Cross Validation of model\n",
    "mse = cross_val_score(xgb, X, y, scoring='neg_mean_squared_error', cv=kfold)\n",
    "rmse = cross_val_score(xgb, X, y, scoring='neg_root_mean_squared_error', cv=kfold)\n",
    "mae = cross_val_score(xgb, X, y, scoring='neg_mean_absolute_error', cv=kfold)\n",
    "r2 = cross_val_score(xgb, X, y, scoring='r2', cv=kfold)\n",
    "\n",
    "print(f\"MSE: {-mse.mean()} ({mse.std()})\")\n",
    "print(f\"RMSE: {-rmse.mean()} ({rmse.std()})\")\n",
    "print(f\"MAE: {-mae.mean()} ({mae.std()})\")\n",
    "print(f\"R2: {r2.mean()}\")"
   ]
  },
  {
   "cell_type": "code",
   "execution_count": 54,
   "metadata": {},
   "outputs": [
    {
     "name": "stdout",
     "output_type": "stream",
     "text": [
      "\n",
      "Feature Importances:\n",
      "    0.0547 - Alcoholic Beverages_kg\n",
      "    0.0292 - Animal fats_kg\n",
      "    0.0995 - Animal Products_kg\n",
      "    0.0113 - Aquatic Products, Other_kg\n",
      "    0.0074 - Cereals - Excluding Beer_kg\n",
      "    0.1304 - Eggs_kg\n",
      "    0.0696 - Fish, Seafood_kg\n",
      "    0.0429 - Fruits - Excluding Wine_kg\n",
      "    0.0520 - Meat_kg\n",
      "    0.0962 - Milk - Excluding Butter_kg\n",
      "    0.0116 - Miscellaneous_kg\n",
      "    0.0103 - Offals_kg\n",
      "    0.1110 - Oilcrops_kg\n",
      "    0.0496 - Pulses_kg\n",
      "    0.0072 - Spices_kg\n",
      "    0.0024 - Starchy Roots_kg\n",
      "    0.0434 - Stimulants_kg\n",
      "    0.0424 - Sugar & Sweeteners_kg\n",
      "    0.0148 - Sugar Crops_kg\n",
      "    0.0351 - Treenuts_kg\n",
      "    0.0195 - Vegetable Oils_kg\n",
      "    0.0596 - Vegetables_kg\n",
      "    0.0000 - Vegetal Products_kg\n"
     ]
    },
    {
     "data": {
      "image/png": "[encoded data removed]",
      "text/plain": [
       "<Figure size 432x288 with 1 Axes>"
      ]
     },
     "metadata": {
      "needs_background": "light"
     },
     "output_type": "display_data"
    }
   ],
   "source": [
    "# Get Feature Importance from model\n",
    "importance = xgb.feature_importances_\n",
    "\n",
    "\n",
    "print(\"\\nFeature Importances:\")\n",
    "for item in zip(X_col.columns, xgb.feature_importances_):\n",
    "    print(\"{1:10.4f} - {0}\".format(item[0],item[1]))\n",
    "\n",
    "# Plot feature importance\n",
    "feat_importance = zip(X_col.columns, importance)\n",
    "feat_importance = sorted([x for x in feat_importance], key = lambda x: x[1], reverse=True)\n",
    "\n",
    "plt.bar(*zip(*feat_importance))\n",
    "plt.xticks(rotation=90)\n",
    "plt.show()"
   ]
  },
  {
   "cell_type": "markdown",
   "metadata": {},
   "source": [
    "##### Feature Importance for Recovered Attribute"
   ]
  },
  {
   "cell_type": "code",
   "execution_count": 55,
   "metadata": {},
   "outputs": [],
   "source": [
    "# Dividing the data between X and y of interest\n",
    "X = kg_df.drop(['Confirmed','Deaths', 'Recovered'], axis=1)\n",
    "# kg_df.iloc[:, :-6]\n",
    "X_col = X.copy()\n",
    "y = kg_df['Recovered']"
   ]
  },
  {
   "cell_type": "code",
   "execution_count": 56,
   "metadata": {},
   "outputs": [
    {
     "name": "stdout",
     "output_type": "stream",
     "text": [
      "MSE: 3.271726691542206 (1.2077540227681203)\n",
      "RMSE: 1.7775006409895895 (0.3349897951039774)\n",
      "MAE: 1.2928536205976222 (0.2339646122361749)\n",
      "R2: 0.0025399002148706385\n"
     ]
    }
   ],
   "source": [
    "# Training-test split\n",
    "X_train, X_test, y_train, y_test = train_test_split(X, y, test_size=0.10, random_state=42)\n",
    "\n",
    "# Training split using K-Fold for cross_val\n",
    "kfold = KFold(n_splits=10)\n",
    "\n",
    "# Parameter grid for XGBoost\n",
    "# params = {'gamma': [0.5, 1, 1.5, 2, 5],\n",
    "#           'max_depth': [3, 4, 5], \n",
    "#           'min_child_weight': [1, 2, 5, 10]\n",
    "#          }\n",
    "\n",
    "# Create XGBoost model instance\n",
    "xgb = XGBRegressor()\n",
    "\n",
    "# Create GridSearch instance\n",
    "# xgb_gs = GridSearchCV(xgb, param_grid=params)\n",
    "# xgb_gs.fit(X, y)\n",
    "xgb.fit(X,y)\n",
    "\n",
    "# Metrics and Cross Validation of model\n",
    "mse = cross_val_score(xgb, X, y, scoring='neg_mean_squared_error', cv=kfold)\n",
    "rmse = cross_val_score(xgb, X, y, scoring='neg_root_mean_squared_error', cv=kfold)\n",
    "mae = cross_val_score(xgb, X, y, scoring='neg_mean_absolute_error', cv=kfold)\n",
    "r2 = cross_val_score(xgb, X, y, scoring='r2', cv=kfold)\n",
    "\n",
    "print(f\"MSE: {-mse.mean()} ({mse.std()})\")\n",
    "print(f\"RMSE: {-rmse.mean()} ({rmse.std()})\")\n",
    "print(f\"MAE: {-mae.mean()} ({mae.std()})\")\n",
    "print(f\"R2: {r2.mean()}\")"
   ]
  },
  {
   "cell_type": "code",
   "execution_count": 57,
   "metadata": {},
   "outputs": [
    {
     "name": "stdout",
     "output_type": "stream",
     "text": [
      "\n",
      "Feature Importances:\n",
      "    0.0285 - Alcoholic Beverages_kg\n",
      "    0.0375 - Animal fats_kg\n",
      "    0.0307 - Animal Products_kg\n",
      "    0.0320 - Aquatic Products, Other_kg\n",
      "    0.0186 - Cereals - Excluding Beer_kg\n",
      "    0.1656 - Eggs_kg\n",
      "    0.0765 - Fish, Seafood_kg\n",
      "    0.0245 - Fruits - Excluding Wine_kg\n",
      "    0.0221 - Meat_kg\n",
      "    0.0267 - Milk - Excluding Butter_kg\n",
      "    0.0166 - Miscellaneous_kg\n",
      "    0.0321 - Offals_kg\n",
      "    0.1235 - Oilcrops_kg\n",
      "    0.0307 - Pulses_kg\n",
      "    0.0068 - Spices_kg\n",
      "    0.1230 - Starchy Roots_kg\n",
      "    0.0132 - Stimulants_kg\n",
      "    0.0521 - Sugar & Sweeteners_kg\n",
      "    0.0795 - Sugar Crops_kg\n",
      "    0.0049 - Treenuts_kg\n",
      "    0.0125 - Vegetable Oils_kg\n",
      "    0.0424 - Vegetables_kg\n",
      "    0.0000 - Vegetal Products_kg\n"
     ]
    },
    {
     "data": {
      "image/png": "[encoded data removed]",
      "text/plain": [
       "<Figure size 432x288 with 1 Axes>"
      ]
     },
     "metadata": {
      "needs_background": "light"
     },
     "output_type": "display_data"
    }
   ],
   "source": [
    "# Get Feature Importance from model\n",
    "importance = xgb.feature_importances_\n",
    "\n",
    "\n",
    "print(\"\\nFeature Importances:\")\n",
    "for item in zip(X_col.columns, xgb.feature_importances_):\n",
    "    print(\"{1:10.4f} - {0}\".format(item[0],item[1]))\n",
    "\n",
    "# Plot feature importance\n",
    "feat_importance = zip(X_col.columns, importance)\n",
    "feat_importance = sorted([x for x in feat_importance], key = lambda x: x[1], reverse=True)\n",
    "\n",
    "plt.bar(*zip(*feat_importance))\n",
    "plt.xticks(rotation=90)\n",
    "plt.show()"
   ]
  },
  {
   "cell_type": "markdown",
   "metadata": {},
   "source": [
    "### Using Protein Supply dataset"
   ]
  },
  {
   "cell_type": "code",
   "execution_count": 58,
   "metadata": {},
   "outputs": [],
   "source": [
    "# # Removing Country column due to it being categorical and not providing much information\n",
    "protein_df = protein_df.drop(['Country', 'Obesity', 'Undernourished', 'Active', 'Population'], axis=1)\n",
    "#[['Vegetal Products_p', 'Fish, Seafood_p', 'Spices_p', \n",
    "#                    'Offals_p', 'Vegetables_p','Animal Products_p',\n",
    "#                    'Alcoholic Beverages_p','Sugar & Sweeteners_p','Confirmed','Deaths', 'Recovered']]\n",
    "# protein_df"
   ]
  },
  {
   "cell_type": "markdown",
   "metadata": {},
   "source": [
    "##### Feature Importance for Confirmed Attribute"
   ]
  },
  {
   "cell_type": "code",
   "execution_count": 59,
   "metadata": {},
   "outputs": [],
   "source": [
    "# Dividing the data between X and y of interest\n",
    "X = protein_df.drop(['Confirmed','Deaths', 'Recovered'], axis=1)\n",
    "# X = protein_df.iloc[:, :-6]\n",
    "X_col = X.copy()\n",
    "y = protein_df['Confirmed'] "
   ]
  },
  {
   "cell_type": "code",
   "execution_count": 60,
   "metadata": {},
   "outputs": [
    {
     "name": "stdout",
     "output_type": "stream",
     "text": [
      "MSE: 3.431943504999679 (2.1286794601062606)\n",
      "RMSE: 1.7577055512789734 (0.5851621142920651)\n",
      "MAE: 1.2376353126969033 (0.4075450777510045)\n",
      "R2: 0.3742040950790796\n"
     ]
    }
   ],
   "source": [
    "# Training-test split\n",
    "X_train, X_test, y_train, y_test = train_test_split(X, y, test_size=0.10, random_state=42)\n",
    "\n",
    "# Training split using K-Fold for cross_val\n",
    "kfold = KFold(n_splits=10)\n",
    "\n",
    "# Parameter grid for XGBoost\n",
    "# params = {'gamma': [0.5, 1, 1.5, 2, 5],\n",
    "#           'max_depth': [3, 4, 5], \n",
    "#           'min_child_weight': [1, 2, 5, 10]\n",
    "#          }\n",
    "\n",
    "# Create XGBoost model instance\n",
    "xgb = XGBRegressor()\n",
    "\n",
    "# Create GridSearch instance\n",
    "# xgb_gs = GridSearchCV(xgb, param_grid=params)\n",
    "# xgb_gs.fit(X, y)\n",
    "xgb.fit(X,y)\n",
    "\n",
    "# Metrics and Cross Validation of model\n",
    "mse = cross_val_score(xgb, X, y, scoring='neg_mean_squared_error', cv=kfold)\n",
    "rmse = cross_val_score(xgb, X, y, scoring='neg_root_mean_squared_error', cv=kfold)\n",
    "mae = cross_val_score(xgb, X, y, scoring='neg_mean_absolute_error', cv=kfold)\n",
    "r2 = cross_val_score(xgb, X, y, scoring='r2', cv=kfold)\n",
    "\n",
    "print(f\"MSE: {-mse.mean()} ({mse.std()})\")\n",
    "print(f\"RMSE: {-rmse.mean()} ({rmse.std()})\")\n",
    "print(f\"MAE: {-mae.mean()} ({mae.std()})\")\n",
    "print(f\"R2: {r2.mean()}\")"
   ]
  },
  {
   "cell_type": "code",
   "execution_count": 61,
   "metadata": {},
   "outputs": [
    {
     "name": "stdout",
     "output_type": "stream",
     "text": [
      "\n",
      "Feature Importances:\n",
      "    0.0108 - Alcoholic Beverages_p\n",
      "    0.0179 - Animal Products_p\n",
      "    0.0216 - Animal fats_p\n",
      "    0.0242 - Aquatic Products, Other_p\n",
      "    0.0132 - Cereals - Excluding Beer_p\n",
      "    0.0316 - Eggs_p\n",
      "    0.0100 - Fish, Seafood_p\n",
      "    0.0079 - Fruits - Excluding Wine_p\n",
      "    0.0442 - Meat_p\n",
      "    0.3101 - Milk - Excluding Butter_p\n",
      "    0.0094 - Offals_p\n",
      "    0.0326 - Oilcrops_p\n",
      "    0.0328 - Pulses_p\n",
      "    0.0095 - Spices_p\n",
      "    0.0098 - Starchy Roots_p\n",
      "    0.0241 - Stimulants_p\n",
      "    0.0052 - Sugar Crops_p\n",
      "    0.3242 - Sugar & Sweeteners_p\n",
      "    0.0131 - Treenuts_p\n",
      "    0.0000 - Vegetal Products_p\n",
      "    0.0081 - Vegetable Oils_p\n",
      "    0.0175 - Vegetables_p\n",
      "    0.0222 - Miscellaneous_p\n"
     ]
    },
    {
     "data": {
      "image/png": "[encoded data removed]",
      "text/plain": [
       "<Figure size 432x288 with 1 Axes>"
      ]
     },
     "metadata": {
      "needs_background": "light"
     },
     "output_type": "display_data"
    }
   ],
   "source": [
    "# Get Feature Importance from model\n",
    "importance = xgb.feature_importances_\n",
    "\n",
    "\n",
    "print(\"\\nFeature Importances:\")\n",
    "for item in zip(X_col.columns, xgb.feature_importances_):\n",
    "    print(\"{1:10.4f} - {0}\".format(item[0],item[1]))\n",
    "\n",
    "# Plot feature importance\n",
    "feat_importance = zip(X_col.columns, importance)\n",
    "feat_importance = sorted([x for x in feat_importance], key = lambda x: x[1], reverse=True)\n",
    "\n",
    "plt.bar(*zip(*feat_importance))\n",
    "plt.xticks(rotation=90)\n",
    "plt.show()"
   ]
  },
  {
   "cell_type": "markdown",
   "metadata": {},
   "source": [
    "##### Feature Importance for Deaths Attribute"
   ]
  },
  {
   "cell_type": "code",
   "execution_count": 62,
   "metadata": {},
   "outputs": [],
   "source": [
    "# Dividing the data between X and y of interest\n",
    "X = protein_df.drop(['Confirmed','Deaths', 'Recovered'], axis=1)\n",
    "# X = protein_df.iloc[:, :-6]\n",
    "X_col = X.copy()\n",
    "y = protein_df['Deaths']"
   ]
  },
  {
   "cell_type": "code",
   "execution_count": 63,
   "metadata": {},
   "outputs": [
    {
     "name": "stdout",
     "output_type": "stream",
     "text": [
      "MSE: 0.0018693071457358632 (0.000915097985173205)\n",
      "RMSE: 0.04209263140800268 (0.00987509629755021)\n",
      "MAE: 0.030458822354401095 (0.007302186191040915)\n",
      "R2: 0.16669417715774265\n"
     ]
    }
   ],
   "source": [
    "# Training-test split\n",
    "X_train, X_test, y_train, y_test = train_test_split(X, y, test_size=0.10, random_state=42)\n",
    "\n",
    "# Training split using K-Fold for cross_val\n",
    "kfold = KFold(n_splits=10)\n",
    "\n",
    "# Parameter grid for XGBoost\n",
    "# params = {'gamma': [0.5, 1, 1.5, 2, 5],\n",
    "#           'max_depth': [3, 4, 5], \n",
    "#           'min_child_weight': [1, 2, 5, 10]\n",
    "#          }\n",
    "\n",
    "# Create XGBoost model instance\n",
    "xgb = XGBRegressor()\n",
    "\n",
    "# Create GridSearch instance\n",
    "# xgb_gs = GridSearchCV(xgb, param_grid=params)\n",
    "# xgb_gs.fit(X, y)\n",
    "xgb.fit(X,y)\n",
    "\n",
    "# Metrics and Cross Validation of model\n",
    "mse = cross_val_score(xgb, X, y, scoring='neg_mean_squared_error', cv=kfold)\n",
    "rmse = cross_val_score(xgb, X, y, scoring='neg_root_mean_squared_error', cv=kfold)\n",
    "mae = cross_val_score(xgb, X, y, scoring='neg_mean_absolute_error', cv=kfold)\n",
    "r2 = cross_val_score(xgb, X, y, scoring='r2', cv=kfold)\n",
    "\n",
    "print(f\"MSE: {-mse.mean()} ({mse.std()})\")\n",
    "print(f\"RMSE: {-rmse.mean()} ({rmse.std()})\")\n",
    "print(f\"MAE: {-mae.mean()} ({mae.std()})\")\n",
    "print(f\"R2: {r2.mean()}\")"
   ]
  },
  {
   "cell_type": "code",
   "execution_count": 64,
   "metadata": {},
   "outputs": [
    {
     "name": "stdout",
     "output_type": "stream",
     "text": [
      "\n",
      "Feature Importances:\n",
      "    0.0191 - Alcoholic Beverages_p\n",
      "    0.0115 - Animal Products_p\n",
      "    0.0952 - Animal fats_p\n",
      "    0.0198 - Aquatic Products, Other_p\n",
      "    0.0400 - Cereals - Excluding Beer_p\n",
      "    0.1039 - Eggs_p\n",
      "    0.0368 - Fish, Seafood_p\n",
      "    0.0104 - Fruits - Excluding Wine_p\n",
      "    0.0410 - Meat_p\n",
      "    0.0882 - Milk - Excluding Butter_p\n",
      "    0.0140 - Offals_p\n",
      "    0.0099 - Oilcrops_p\n",
      "    0.0250 - Pulses_p\n",
      "    0.0630 - Spices_p\n",
      "    0.0248 - Starchy Roots_p\n",
      "    0.0183 - Stimulants_p\n",
      "    0.0000 - Sugar Crops_p\n",
      "    0.0841 - Sugar & Sweeteners_p\n",
      "    0.0182 - Treenuts_p\n",
      "    0.0001 - Vegetal Products_p\n",
      "    0.1988 - Vegetable Oils_p\n",
      "    0.0492 - Vegetables_p\n",
      "    0.0287 - Miscellaneous_p\n"
     ]
    },
    {
     "data": {
      "image/png": "[encoded data removed]",
      "text/plain": [
       "<Figure size 432x288 with 1 Axes>"
      ]
     },
     "metadata": {
      "needs_background": "light"
     },
     "output_type": "display_data"
    }
   ],
   "source": [
    "# Get Feature Importance from model\n",
    "importance = xgb.feature_importances_\n",
    "\n",
    "\n",
    "print(\"\\nFeature Importances:\")\n",
    "for item in zip(X_col.columns, xgb.feature_importances_):\n",
    "    print(\"{1:10.4f} - {0}\".format(item[0],item[1]))\n",
    "\n",
    "# Plot feature importance\n",
    "feat_importance = zip(X_col.columns, importance)\n",
    "feat_importance = sorted([x for x in feat_importance], key = lambda x: x[1], reverse=True)\n",
    "\n",
    "plt.bar(*zip(*feat_importance))\n",
    "plt.xticks(rotation=90)\n",
    "plt.show()"
   ]
  },
  {
   "cell_type": "markdown",
   "metadata": {},
   "source": [
    "##### Feature Importance for Recovered Attribute"
   ]
  },
  {
   "cell_type": "code",
   "execution_count": 65,
   "metadata": {
    "scrolled": true
   },
   "outputs": [],
   "source": [
    "# Dividing the data between X and y of interest\n",
    "X = protein_df.drop(['Confirmed','Deaths', 'Recovered'], axis=1)\n",
    "# X = protein_df.iloc[:, :-6]\n",
    "X_col = X.copy()\n",
    "y = protein_df['Recovered']"
   ]
  },
  {
   "cell_type": "code",
   "execution_count": 66,
   "metadata": {},
   "outputs": [
    {
     "name": "stdout",
     "output_type": "stream",
     "text": [
      "MSE: 3.4464314302830226 (1.442168919910904)\n",
      "RMSE: 1.8089382064440351 (0.41734158138155886)\n",
      "MAE: 1.2451876003900673 (0.26119295808397863)\n",
      "R2: -0.09865398031695985\n"
     ]
    }
   ],
   "source": [
    "# Training-test split\n",
    "X_train, X_test, y_train, y_test = train_test_split(X, y, test_size=0.10, random_state=42)\n",
    "\n",
    "# Training split using K-Fold for cross_val\n",
    "kfold = KFold(n_splits=10)\n",
    "\n",
    "# Parameter grid for XGBoost\n",
    "# params = {'gamma': [0.5, 1, 1.5, 2, 5],\n",
    "#           'max_depth': [3, 4, 5], \n",
    "#           'min_child_weight': [1, 2, 5, 10]\n",
    "#          }\n",
    "\n",
    "# Create XGBoost model instance\n",
    "xgb = XGBRegressor()\n",
    "\n",
    "# Create GridSearch instance\n",
    "# xgb_gs = GridSearchCV(xgb, param_grid=params)\n",
    "# xgb_gs.fit(X, y)\n",
    "xgb.fit(X,y)\n",
    "\n",
    "# Metrics and Cross Validation of model\n",
    "mse = cross_val_score(xgb, X, y, scoring='neg_mean_squared_error', cv=kfold)\n",
    "rmse = cross_val_score(xgb, X, y, scoring='neg_root_mean_squared_error', cv=kfold)\n",
    "mae = cross_val_score(xgb, X, y, scoring='neg_mean_absolute_error', cv=kfold)\n",
    "r2 = cross_val_score(xgb, X, y, scoring='r2', cv=kfold)\n",
    "\n",
    "print(f\"MSE: {-mse.mean()} ({mse.std()})\")\n",
    "print(f\"RMSE: {-rmse.mean()} ({rmse.std()})\")\n",
    "print(f\"MAE: {-mae.mean()} ({mae.std()})\")\n",
    "print(f\"R2: {r2.mean()}\")"
   ]
  },
  {
   "cell_type": "code",
   "execution_count": 67,
   "metadata": {
    "scrolled": true
   },
   "outputs": [
    {
     "name": "stdout",
     "output_type": "stream",
     "text": [
      "\n",
      "Feature Importances:\n",
      "    0.0043 - Alcoholic Beverages_p\n",
      "    0.0124 - Animal Products_p\n",
      "    0.0119 - Animal fats_p\n",
      "    0.0222 - Aquatic Products, Other_p\n",
      "    0.0153 - Cereals - Excluding Beer_p\n",
      "    0.2080 - Eggs_p\n",
      "    0.0357 - Fish, Seafood_p\n",
      "    0.0163 - Fruits - Excluding Wine_p\n",
      "    0.0527 - Meat_p\n",
      "    0.0660 - Milk - Excluding Butter_p\n",
      "    0.0605 - Offals_p\n",
      "    0.1079 - Oilcrops_p\n",
      "    0.0103 - Pulses_p\n",
      "    0.0306 - Spices_p\n",
      "    0.0363 - Starchy Roots_p\n",
      "    0.1277 - Stimulants_p\n",
      "    0.0085 - Sugar Crops_p\n",
      "    0.0231 - Sugar & Sweeteners_p\n",
      "    0.0650 - Treenuts_p\n",
      "    0.0000 - Vegetal Products_p\n",
      "    0.0560 - Vegetable Oils_p\n",
      "    0.0206 - Vegetables_p\n",
      "    0.0086 - Miscellaneous_p\n"
     ]
    },
    {
     "data": {
      "image/png": "[encoded data removed]",
      "text/plain": [
       "<Figure size 432x288 with 1 Axes>"
      ]
     },
     "metadata": {
      "needs_background": "light"
     },
     "output_type": "display_data"
    }
   ],
   "source": [
    "# Get Feature Importance from model\n",
    "importance = xgb.feature_importances_\n",
    "\n",
    "\n",
    "print(\"\\nFeature Importances:\")\n",
    "for item in zip(X_col.columns, xgb.feature_importances_):\n",
    "    print(\"{1:10.4f} - {0}\".format(item[0],item[1]))\n",
    "\n",
    "# Plot feature importance\n",
    "feat_importance = zip(X_col.columns, importance)\n",
    "feat_importance = sorted([x for x in feat_importance], key = lambda x: x[1], reverse=True)\n",
    "\n",
    "plt.bar(*zip(*feat_importance))\n",
    "plt.xticks(rotation=90)\n",
    "plt.show()"
   ]
  },
  {
   "cell_type": "markdown",
   "metadata": {},
   "source": [
    "### Using Fat Supply dataset"
   ]
  },
  {
   "cell_type": "code",
   "execution_count": 68,
   "metadata": {},
   "outputs": [
    {
     "data": {
      "text/html": [
       "<div>\n",
       "<style scoped>\n",
       "    .dataframe tbody tr th:only-of-type {\n",
       "        vertical-align: middle;\n",
       "    }\n",
       "\n",
       "    .dataframe tbody tr th {\n",
       "        vertical-align: top;\n",
       "    }\n",
       "\n",
       "    .dataframe thead th {\n",
       "        text-align: right;\n",
       "    }\n",
       "</style>\n",
       "<table border=\"1\" class=\"dataframe\">\n",
       "  <thead>\n",
       "    <tr style=\"text-align: right;\">\n",
       "      <th></th>\n",
       "      <th>Alcoholic Beverages_f</th>\n",
       "      <th>Animal Products_f</th>\n",
       "      <th>Animal fats_f</th>\n",
       "      <th>Aquatic Products, Other_f</th>\n",
       "      <th>Cereals - Excluding Beer_f</th>\n",
       "      <th>Eggs_f</th>\n",
       "      <th>Fish, Seafood_f</th>\n",
       "      <th>Fruits - Excluding Wine_f</th>\n",
       "      <th>Meat_f</th>\n",
       "      <th>Miscellaneous_f</th>\n",
       "      <th>...</th>\n",
       "      <th>Stimulants_f</th>\n",
       "      <th>Sugar Crops_f</th>\n",
       "      <th>Sugar &amp; Sweeteners_f</th>\n",
       "      <th>Treenuts_f</th>\n",
       "      <th>Vegetal Products_f</th>\n",
       "      <th>Vegetable Oils_f</th>\n",
       "      <th>Vegetables_f</th>\n",
       "      <th>Confirmed</th>\n",
       "      <th>Deaths</th>\n",
       "      <th>Recovered</th>\n",
       "    </tr>\n",
       "  </thead>\n",
       "  <tbody>\n",
       "    <tr>\n",
       "      <th>0</th>\n",
       "      <td>0.0000</td>\n",
       "      <td>21.6397</td>\n",
       "      <td>6.2224</td>\n",
       "      <td>0.0</td>\n",
       "      <td>8.0353</td>\n",
       "      <td>0.6859</td>\n",
       "      <td>0.0327</td>\n",
       "      <td>0.4246</td>\n",
       "      <td>6.1244</td>\n",
       "      <td>0.0163</td>\n",
       "      <td>...</td>\n",
       "      <td>0.0980</td>\n",
       "      <td>0.0000</td>\n",
       "      <td>0.0</td>\n",
       "      <td>0.7513</td>\n",
       "      <td>28.3684</td>\n",
       "      <td>17.0831</td>\n",
       "      <td>0.3593</td>\n",
       "      <td>0.142134</td>\n",
       "      <td>0.006186</td>\n",
       "      <td>0.123374</td>\n",
       "    </tr>\n",
       "    <tr>\n",
       "      <th>1</th>\n",
       "      <td>0.0000</td>\n",
       "      <td>32.0002</td>\n",
       "      <td>3.4172</td>\n",
       "      <td>0.0</td>\n",
       "      <td>2.6734</td>\n",
       "      <td>1.6448</td>\n",
       "      <td>0.1445</td>\n",
       "      <td>0.6418</td>\n",
       "      <td>8.7428</td>\n",
       "      <td>0.0170</td>\n",
       "      <td>...</td>\n",
       "      <td>0.5270</td>\n",
       "      <td>0.0000</td>\n",
       "      <td>0.0</td>\n",
       "      <td>0.9181</td>\n",
       "      <td>17.9998</td>\n",
       "      <td>9.2443</td>\n",
       "      <td>0.6503</td>\n",
       "      <td>2.967301</td>\n",
       "      <td>0.050951</td>\n",
       "      <td>1.792636</td>\n",
       "    </tr>\n",
       "    <tr>\n",
       "      <th>2</th>\n",
       "      <td>0.0000</td>\n",
       "      <td>14.4175</td>\n",
       "      <td>0.8972</td>\n",
       "      <td>0.0</td>\n",
       "      <td>4.2035</td>\n",
       "      <td>1.2171</td>\n",
       "      <td>0.2008</td>\n",
       "      <td>0.5772</td>\n",
       "      <td>3.8961</td>\n",
       "      <td>0.0439</td>\n",
       "      <td>...</td>\n",
       "      <td>0.2886</td>\n",
       "      <td>0.0000</td>\n",
       "      <td>0.0</td>\n",
       "      <td>0.8595</td>\n",
       "      <td>35.5857</td>\n",
       "      <td>27.3606</td>\n",
       "      <td>0.5145</td>\n",
       "      <td>0.244897</td>\n",
       "      <td>0.006558</td>\n",
       "      <td>0.167572</td>\n",
       "    </tr>\n",
       "    <tr>\n",
       "      <th>3</th>\n",
       "      <td>0.0000</td>\n",
       "      <td>15.3041</td>\n",
       "      <td>1.3130</td>\n",
       "      <td>0.0</td>\n",
       "      <td>6.5545</td>\n",
       "      <td>0.1539</td>\n",
       "      <td>1.4155</td>\n",
       "      <td>0.3488</td>\n",
       "      <td>11.0268</td>\n",
       "      <td>0.0308</td>\n",
       "      <td>...</td>\n",
       "      <td>0.1128</td>\n",
       "      <td>0.0000</td>\n",
       "      <td>0.0</td>\n",
       "      <td>0.0308</td>\n",
       "      <td>34.7010</td>\n",
       "      <td>22.4638</td>\n",
       "      <td>0.1231</td>\n",
       "      <td>0.061687</td>\n",
       "      <td>0.001461</td>\n",
       "      <td>0.056808</td>\n",
       "    </tr>\n",
       "    <tr>\n",
       "      <th>4</th>\n",
       "      <td>0.0000</td>\n",
       "      <td>27.7033</td>\n",
       "      <td>4.6686</td>\n",
       "      <td>0.0</td>\n",
       "      <td>3.2153</td>\n",
       "      <td>0.3872</td>\n",
       "      <td>1.5263</td>\n",
       "      <td>1.2177</td>\n",
       "      <td>14.3202</td>\n",
       "      <td>0.0898</td>\n",
       "      <td>...</td>\n",
       "      <td>1.0549</td>\n",
       "      <td>0.0000</td>\n",
       "      <td>0.0</td>\n",
       "      <td>0.2020</td>\n",
       "      <td>22.2995</td>\n",
       "      <td>14.4436</td>\n",
       "      <td>0.2469</td>\n",
       "      <td>0.293878</td>\n",
       "      <td>0.007143</td>\n",
       "      <td>0.190816</td>\n",
       "    </tr>\n",
       "    <tr>\n",
       "      <th>...</th>\n",
       "      <td>...</td>\n",
       "      <td>...</td>\n",
       "      <td>...</td>\n",
       "      <td>...</td>\n",
       "      <td>...</td>\n",
       "      <td>...</td>\n",
       "      <td>...</td>\n",
       "      <td>...</td>\n",
       "      <td>...</td>\n",
       "      <td>...</td>\n",
       "      <td>...</td>\n",
       "      <td>...</td>\n",
       "      <td>...</td>\n",
       "      <td>...</td>\n",
       "      <td>...</td>\n",
       "      <td>...</td>\n",
       "      <td>...</td>\n",
       "      <td>...</td>\n",
       "      <td>...</td>\n",
       "      <td>...</td>\n",
       "      <td>...</td>\n",
       "    </tr>\n",
       "    <tr>\n",
       "      <th>159</th>\n",
       "      <td>0.0000</td>\n",
       "      <td>16.3261</td>\n",
       "      <td>2.2673</td>\n",
       "      <td>0.0</td>\n",
       "      <td>2.5449</td>\n",
       "      <td>0.6555</td>\n",
       "      <td>0.5707</td>\n",
       "      <td>0.9640</td>\n",
       "      <td>7.0949</td>\n",
       "      <td>0.0077</td>\n",
       "      <td>...</td>\n",
       "      <td>0.0848</td>\n",
       "      <td>0.0000</td>\n",
       "      <td>0.0</td>\n",
       "      <td>0.0154</td>\n",
       "      <td>33.6855</td>\n",
       "      <td>29.5211</td>\n",
       "      <td>0.1851</td>\n",
       "      <td>0.452585</td>\n",
       "      <td>0.004287</td>\n",
       "      <td>0.424399</td>\n",
       "    </tr>\n",
       "    <tr>\n",
       "      <th>160</th>\n",
       "      <td>0.0000</td>\n",
       "      <td>33.2484</td>\n",
       "      <td>3.8238</td>\n",
       "      <td>0.0</td>\n",
       "      <td>3.7155</td>\n",
       "      <td>0.7839</td>\n",
       "      <td>1.1217</td>\n",
       "      <td>0.4079</td>\n",
       "      <td>26.4292</td>\n",
       "      <td>0.0064</td>\n",
       "      <td>...</td>\n",
       "      <td>0.0829</td>\n",
       "      <td>0.0382</td>\n",
       "      <td>0.0</td>\n",
       "      <td>1.1726</td>\n",
       "      <td>16.7548</td>\n",
       "      <td>5.6211</td>\n",
       "      <td>0.6373</td>\n",
       "      <td>0.002063</td>\n",
       "      <td>0.000036</td>\n",
       "      <td>0.001526</td>\n",
       "    </tr>\n",
       "    <tr>\n",
       "      <th>161</th>\n",
       "      <td>0.0000</td>\n",
       "      <td>12.5401</td>\n",
       "      <td>2.0131</td>\n",
       "      <td>0.0</td>\n",
       "      <td>11.5271</td>\n",
       "      <td>0.5514</td>\n",
       "      <td>0.3847</td>\n",
       "      <td>0.2564</td>\n",
       "      <td>8.0010</td>\n",
       "      <td>0.0256</td>\n",
       "      <td>...</td>\n",
       "      <td>0.3718</td>\n",
       "      <td>0.0000</td>\n",
       "      <td>0.0</td>\n",
       "      <td>0.0769</td>\n",
       "      <td>37.4535</td>\n",
       "      <td>23.6312</td>\n",
       "      <td>0.1667</td>\n",
       "      <td>0.007131</td>\n",
       "      <td>0.002062</td>\n",
       "      <td>0.004788</td>\n",
       "    </tr>\n",
       "    <tr>\n",
       "      <th>162</th>\n",
       "      <td>0.0783</td>\n",
       "      <td>9.6005</td>\n",
       "      <td>1.6113</td>\n",
       "      <td>0.0</td>\n",
       "      <td>14.3225</td>\n",
       "      <td>0.6266</td>\n",
       "      <td>1.0070</td>\n",
       "      <td>0.1343</td>\n",
       "      <td>4.9010</td>\n",
       "      <td>0.0224</td>\n",
       "      <td>...</td>\n",
       "      <td>0.0671</td>\n",
       "      <td>0.0000</td>\n",
       "      <td>0.0</td>\n",
       "      <td>0.0112</td>\n",
       "      <td>40.3939</td>\n",
       "      <td>15.2848</td>\n",
       "      <td>0.1567</td>\n",
       "      <td>0.334133</td>\n",
       "      <td>0.004564</td>\n",
       "      <td>0.290524</td>\n",
       "    </tr>\n",
       "    <tr>\n",
       "      <th>163</th>\n",
       "      <td>0.0000</td>\n",
       "      <td>10.3796</td>\n",
       "      <td>2.9543</td>\n",
       "      <td>0.0</td>\n",
       "      <td>9.7922</td>\n",
       "      <td>0.3682</td>\n",
       "      <td>0.2455</td>\n",
       "      <td>0.0614</td>\n",
       "      <td>4.5674</td>\n",
       "      <td>0.0175</td>\n",
       "      <td>...</td>\n",
       "      <td>0.1052</td>\n",
       "      <td>0.0000</td>\n",
       "      <td>0.0</td>\n",
       "      <td>0.4296</td>\n",
       "      <td>39.6248</td>\n",
       "      <td>26.9396</td>\n",
       "      <td>0.0789</td>\n",
       "      <td>0.232033</td>\n",
       "      <td>0.008854</td>\n",
       "      <td>0.190964</td>\n",
       "    </tr>\n",
       "  </tbody>\n",
       "</table>\n",
       "<p>164 rows × 26 columns</p>\n",
       "</div>"
      ],
      "text/plain": [
       "     Alcoholic Beverages_f  Animal Products_f  Animal fats_f  \\\n",
       "0                   0.0000            21.6397         6.2224   \n",
       "1                   0.0000            32.0002         3.4172   \n",
       "2                   0.0000            14.4175         0.8972   \n",
       "3                   0.0000            15.3041         1.3130   \n",
       "4                   0.0000            27.7033         4.6686   \n",
       "..                     ...                ...            ...   \n",
       "159                 0.0000            16.3261         2.2673   \n",
       "160                 0.0000            33.2484         3.8238   \n",
       "161                 0.0000            12.5401         2.0131   \n",
       "162                 0.0783             9.6005         1.6113   \n",
       "163                 0.0000            10.3796         2.9543   \n",
       "\n",
       "     Aquatic Products, Other_f  Cereals - Excluding Beer_f  Eggs_f  \\\n",
       "0                          0.0                      8.0353  0.6859   \n",
       "1                          0.0                      2.6734  1.6448   \n",
       "2                          0.0                      4.2035  1.2171   \n",
       "3                          0.0                      6.5545  0.1539   \n",
       "4                          0.0                      3.2153  0.3872   \n",
       "..                         ...                         ...     ...   \n",
       "159                        0.0                      2.5449  0.6555   \n",
       "160                        0.0                      3.7155  0.7839   \n",
       "161                        0.0                     11.5271  0.5514   \n",
       "162                        0.0                     14.3225  0.6266   \n",
       "163                        0.0                      9.7922  0.3682   \n",
       "\n",
       "     Fish, Seafood_f  Fruits - Excluding Wine_f   Meat_f  Miscellaneous_f  \\\n",
       "0             0.0327                     0.4246   6.1244           0.0163   \n",
       "1             0.1445                     0.6418   8.7428           0.0170   \n",
       "2             0.2008                     0.5772   3.8961           0.0439   \n",
       "3             1.4155                     0.3488  11.0268           0.0308   \n",
       "4             1.5263                     1.2177  14.3202           0.0898   \n",
       "..               ...                        ...      ...              ...   \n",
       "159           0.5707                     0.9640   7.0949           0.0077   \n",
       "160           1.1217                     0.4079  26.4292           0.0064   \n",
       "161           0.3847                     0.2564   8.0010           0.0256   \n",
       "162           1.0070                     0.1343   4.9010           0.0224   \n",
       "163           0.2455                     0.0614   4.5674           0.0175   \n",
       "\n",
       "     ...  Stimulants_f  Sugar Crops_f  Sugar & Sweeteners_f  Treenuts_f  \\\n",
       "0    ...        0.0980         0.0000                   0.0      0.7513   \n",
       "1    ...        0.5270         0.0000                   0.0      0.9181   \n",
       "2    ...        0.2886         0.0000                   0.0      0.8595   \n",
       "3    ...        0.1128         0.0000                   0.0      0.0308   \n",
       "4    ...        1.0549         0.0000                   0.0      0.2020   \n",
       "..   ...           ...            ...                   ...         ...   \n",
       "159  ...        0.0848         0.0000                   0.0      0.0154   \n",
       "160  ...        0.0829         0.0382                   0.0      1.1726   \n",
       "161  ...        0.3718         0.0000                   0.0      0.0769   \n",
       "162  ...        0.0671         0.0000                   0.0      0.0112   \n",
       "163  ...        0.1052         0.0000                   0.0      0.4296   \n",
       "\n",
       "     Vegetal Products_f  Vegetable Oils_f  Vegetables_f  Confirmed    Deaths  \\\n",
       "0               28.3684           17.0831        0.3593   0.142134  0.006186   \n",
       "1               17.9998            9.2443        0.6503   2.967301  0.050951   \n",
       "2               35.5857           27.3606        0.5145   0.244897  0.006558   \n",
       "3               34.7010           22.4638        0.1231   0.061687  0.001461   \n",
       "4               22.2995           14.4436        0.2469   0.293878  0.007143   \n",
       "..                  ...               ...           ...        ...       ...   \n",
       "159             33.6855           29.5211        0.1851   0.452585  0.004287   \n",
       "160             16.7548            5.6211        0.6373   0.002063  0.000036   \n",
       "161             37.4535           23.6312        0.1667   0.007131  0.002062   \n",
       "162             40.3939           15.2848        0.1567   0.334133  0.004564   \n",
       "163             39.6248           26.9396        0.0789   0.232033  0.008854   \n",
       "\n",
       "     Recovered  \n",
       "0     0.123374  \n",
       "1     1.792636  \n",
       "2     0.167572  \n",
       "3     0.056808  \n",
       "4     0.190816  \n",
       "..         ...  \n",
       "159   0.424399  \n",
       "160   0.001526  \n",
       "161   0.004788  \n",
       "162   0.290524  \n",
       "163   0.190964  \n",
       "\n",
       "[164 rows x 26 columns]"
      ]
     },
     "execution_count": 68,
     "metadata": {},
     "output_type": "execute_result"
    }
   ],
   "source": [
    "# # Removing Country column due to it being categorical and not providing much information\n",
    "fat_df = fat_df.drop(['Country', 'Obesity', 'Undernourished', 'Active', 'Population'], axis=1)\n",
    "#[['Vegetal Products_p', 'Fish, Seafood_p', 'Spices_p', \n",
    "#                    'Offals_p', 'Vegetables_p','Animal Products_p',\n",
    "#                    'Alcoholic Beverages_p','Sugar & Sweeteners_p','Confirmed','Deaths', 'Recovered']]\n",
    "fat_df"
   ]
  },
  {
   "cell_type": "markdown",
   "metadata": {},
   "source": [
    "##### Feature Importance for Confirmed Attribute"
   ]
  },
  {
   "cell_type": "code",
   "execution_count": 69,
   "metadata": {},
   "outputs": [],
   "source": [
    "# Dividing the data between X and y of interest\n",
    "X = fat_df.drop(['Confirmed','Deaths', 'Recovered'], axis=1)\n",
    "# X = protein_df.iloc[:, :-6]\n",
    "X_col = X.copy()\n",
    "y = fat_df['Confirmed'] "
   ]
  },
  {
   "cell_type": "code",
   "execution_count": 70,
   "metadata": {},
   "outputs": [
    {
     "name": "stdout",
     "output_type": "stream",
     "text": [
      "MSE: 4.297919245394085 (2.117846893186742)\n",
      "RMSE: 2.0097625279998423 (0.508698168309821)\n",
      "MAE: 1.3784524259743507 (0.3654462098972007)\n",
      "R2: 0.18757470569529255\n"
     ]
    }
   ],
   "source": [
    "# Training-test split\n",
    "X_train, X_test, y_train, y_test = train_test_split(X, y, test_size=0.10, random_state=42)\n",
    "\n",
    "# Training split using K-Fold for cross_val\n",
    "kfold = KFold(n_splits=10)\n",
    "\n",
    "# Parameter grid for XGBoost\n",
    "# params = {'gamma': [0.5, 1, 1.5, 2, 5],\n",
    "#           'max_depth': [3, 4, 5], \n",
    "#           'min_child_weight': [1, 2, 5, 10]\n",
    "#          }\n",
    "\n",
    "# Create XGBoost model instance\n",
    "xgb = XGBRegressor()\n",
    "\n",
    "# Create GridSearch instance\n",
    "# xgb_gs = GridSearchCV(xgb, param_grid=params)\n",
    "# xgb_gs.fit(X, y)\n",
    "xgb.fit(X,y)\n",
    "\n",
    "# Metrics and Cross Validation of model\n",
    "mse = cross_val_score(xgb, X, y, scoring='neg_mean_squared_error', cv=kfold)\n",
    "rmse = cross_val_score(xgb, X, y, scoring='neg_root_mean_squared_error', cv=kfold)\n",
    "mae = cross_val_score(xgb, X, y, scoring='neg_mean_absolute_error', cv=kfold)\n",
    "r2 = cross_val_score(xgb, X, y, scoring='r2', cv=kfold)\n",
    "\n",
    "print(f\"MSE: {-mse.mean()} ({mse.std()})\")\n",
    "print(f\"RMSE: {-rmse.mean()} ({rmse.std()})\")\n",
    "print(f\"MAE: {-mae.mean()} ({mae.std()})\")\n",
    "print(f\"R2: {r2.mean()}\")"
   ]
  },
  {
   "cell_type": "code",
   "execution_count": 71,
   "metadata": {},
   "outputs": [
    {
     "name": "stdout",
     "output_type": "stream",
     "text": [
      "\n",
      "Feature Importances:\n",
      "    0.0001 - Alcoholic Beverages_f\n",
      "    0.0070 - Animal Products_f\n",
      "    0.0276 - Animal fats_f\n",
      "    0.0017 - Aquatic Products, Other_f\n",
      "    0.0265 - Cereals - Excluding Beer_f\n",
      "    0.3510 - Eggs_f\n",
      "    0.0878 - Fish, Seafood_f\n",
      "    0.0077 - Fruits - Excluding Wine_f\n",
      "    0.0048 - Meat_f\n",
      "    0.0123 - Miscellaneous_f\n",
      "    0.1603 - Milk - Excluding Butter_f\n",
      "    0.0081 - Offals_f\n",
      "    0.0217 - Oilcrops_f\n",
      "    0.0846 - Pulses_f\n",
      "    0.0334 - Spices_f\n",
      "    0.0710 - Starchy Roots_f\n",
      "    0.0544 - Stimulants_f\n",
      "    0.0004 - Sugar Crops_f\n",
      "    0.0000 - Sugar & Sweeteners_f\n",
      "    0.0275 - Treenuts_f\n",
      "    0.0000 - Vegetal Products_f\n",
      "    0.0006 - Vegetable Oils_f\n",
      "    0.0115 - Vegetables_f\n"
     ]
    },
    {
     "data": {
      "image/png": "[encoded data removed]",
      "text/plain": [
       "<Figure size 432x288 with 1 Axes>"
      ]
     },
     "metadata": {
      "needs_background": "light"
     },
     "output_type": "display_data"
    }
   ],
   "source": [
    "# Get Feature Importance from model\n",
    "importance = xgb.feature_importances_\n",
    "\n",
    "\n",
    "print(\"\\nFeature Importances:\")\n",
    "for item in zip(X_col.columns, xgb.feature_importances_):\n",
    "    print(\"{1:10.4f} - {0}\".format(item[0],item[1]))\n",
    "\n",
    "# Plot feature importance\n",
    "feat_importance = zip(X_col.columns, importance)\n",
    "feat_importance = sorted([x for x in feat_importance], key = lambda x: x[1], reverse=True)\n",
    "\n",
    "plt.bar(*zip(*feat_importance))\n",
    "plt.xticks(rotation=90)\n",
    "plt.show()"
   ]
  },
  {
   "cell_type": "markdown",
   "metadata": {},
   "source": [
    "##### Feature Importance for Deaths Attribute"
   ]
  },
  {
   "cell_type": "code",
   "execution_count": 72,
   "metadata": {},
   "outputs": [],
   "source": [
    "# Dividing the data between X and y of interest\n",
    "X = fat_df.drop(['Confirmed','Deaths', 'Recovered'], axis=1)\n",
    "# X = protein_df.iloc[:, :-6]\n",
    "X_col = X.copy()\n",
    "y = fat_df['Deaths']"
   ]
  },
  {
   "cell_type": "code",
   "execution_count": 73,
   "metadata": {},
   "outputs": [
    {
     "name": "stdout",
     "output_type": "stream",
     "text": [
      "MSE: 0.0018234742647525379 (0.0008286675666118098)\n",
      "RMSE: 0.04158841663216097 (0.009689059127817055)\n",
      "MAE: 0.03067166249149327 (0.0057181258544259615)\n",
      "R2: 0.2287766089714051\n"
     ]
    }
   ],
   "source": [
    "# Training-test split\n",
    "X_train, X_test, y_train, y_test = train_test_split(X, y, test_size=0.10, random_state=42)\n",
    "\n",
    "# Training split using K-Fold for cross_val\n",
    "kfold = KFold(n_splits=10)\n",
    "\n",
    "# Parameter grid for XGBoost\n",
    "# params = {'gamma': [0.5, 1, 1.5, 2, 5],\n",
    "#           'max_depth': [3, 4, 5], \n",
    "#           'min_child_weight': [1, 2, 5, 10]\n",
    "#          }\n",
    "\n",
    "# Create XGBoost model instance\n",
    "xgb = XGBRegressor()\n",
    "\n",
    "# Create GridSearch instance\n",
    "# xgb_gs = GridSearchCV(xgb, param_grid=params)\n",
    "# xgb_gs.fit(X, y)\n",
    "xgb.fit(X,y)\n",
    "\n",
    "# Metrics and Cross Validation of model\n",
    "mse = cross_val_score(xgb, X, y, scoring='neg_mean_squared_error', cv=kfold)\n",
    "rmse = cross_val_score(xgb, X, y, scoring='neg_root_mean_squared_error', cv=kfold)\n",
    "mae = cross_val_score(xgb, X, y, scoring='neg_mean_absolute_error', cv=kfold)\n",
    "r2 = cross_val_score(xgb, X, y, scoring='r2', cv=kfold)\n",
    "\n",
    "print(f\"MSE: {-mse.mean()} ({mse.std()})\")\n",
    "print(f\"RMSE: {-rmse.mean()} ({rmse.std()})\")\n",
    "print(f\"MAE: {-mae.mean()} ({mae.std()})\")\n",
    "print(f\"R2: {r2.mean()}\")"
   ]
  },
  {
   "cell_type": "code",
   "execution_count": 74,
   "metadata": {},
   "outputs": [
    {
     "name": "stdout",
     "output_type": "stream",
     "text": [
      "\n",
      "Feature Importances:\n",
      "    0.0001 - Alcoholic Beverages_f\n",
      "    0.0168 - Animal Products_f\n",
      "    0.0556 - Animal fats_f\n",
      "    0.0000 - Aquatic Products, Other_f\n",
      "    0.1057 - Cereals - Excluding Beer_f\n",
      "    0.1348 - Eggs_f\n",
      "    0.0381 - Fish, Seafood_f\n",
      "    0.0385 - Fruits - Excluding Wine_f\n",
      "    0.0133 - Meat_f\n",
      "    0.0594 - Miscellaneous_f\n",
      "    0.1698 - Milk - Excluding Butter_f\n",
      "    0.0360 - Offals_f\n",
      "    0.1004 - Oilcrops_f\n",
      "    0.0345 - Pulses_f\n",
      "    0.0316 - Spices_f\n",
      "    0.0335 - Starchy Roots_f\n",
      "    0.0845 - Stimulants_f\n",
      "    0.0005 - Sugar Crops_f\n",
      "    0.0004 - Sugar & Sweeteners_f\n",
      "    0.0217 - Treenuts_f\n",
      "    0.0000 - Vegetal Products_f\n",
      "    0.0027 - Vegetable Oils_f\n",
      "    0.0220 - Vegetables_f\n"
     ]
    },
    {
     "data": {
      "image/png": "[encoded data removed]",
      "text/plain": [
       "<Figure size 432x288 with 1 Axes>"
      ]
     },
     "metadata": {
      "needs_background": "light"
     },
     "output_type": "display_data"
    }
   ],
   "source": [
    "# Get Feature Importance from model\n",
    "importance = xgb.feature_importances_\n",
    "\n",
    "\n",
    "print(\"\\nFeature Importances:\")\n",
    "for item in zip(X_col.columns, xgb.feature_importances_):\n",
    "    print(\"{1:10.4f} - {0}\".format(item[0],item[1]))\n",
    "\n",
    "# Plot feature importance\n",
    "feat_importance = zip(X_col.columns, importance)\n",
    "feat_importance = sorted([x for x in feat_importance], key = lambda x: x[1], reverse=True)\n",
    "\n",
    "plt.bar(*zip(*feat_importance))\n",
    "plt.xticks(rotation=90)\n",
    "plt.show()"
   ]
  },
  {
   "cell_type": "markdown",
   "metadata": {},
   "source": [
    "##### Feature Importance for Recovered Attribute"
   ]
  },
  {
   "cell_type": "code",
   "execution_count": 75,
   "metadata": {
    "scrolled": true
   },
   "outputs": [],
   "source": [
    "# Dividing the data between X and y of interest\n",
    "X = fat_df.drop(['Confirmed','Deaths', 'Recovered'], axis=1)\n",
    "# X = protein_df.iloc[:, :-6]\n",
    "X_col = X.copy()\n",
    "y = fat_df['Recovered']"
   ]
  },
  {
   "cell_type": "code",
   "execution_count": 76,
   "metadata": {},
   "outputs": [
    {
     "name": "stdout",
     "output_type": "stream",
     "text": [
      "MSE: 3.3962358569514253 (2.3408186648322666)\n",
      "RMSE: 1.751521887307354 (0.5730680022778354)\n",
      "MAE: 1.213775760159893 (0.3378879375732844)\n",
      "R2: 0.07063085278880199\n"
     ]
    }
   ],
   "source": [
    "# Training-test split\n",
    "X_train, X_test, y_train, y_test = train_test_split(X, y, test_size=0.10, random_state=42)\n",
    "\n",
    "# Training split using K-Fold for cross_val\n",
    "kfold = KFold(n_splits=10)\n",
    "\n",
    "# Parameter grid for XGBoost\n",
    "# params = {'gamma': [0.5, 1, 1.5, 2, 5],\n",
    "#           'max_depth': [3, 4, 5], \n",
    "#           'min_child_weight': [1, 2, 5, 10]\n",
    "#          }\n",
    "\n",
    "# Create XGBoost model instance\n",
    "xgb = XGBRegressor()\n",
    "\n",
    "# Create GridSearch instance\n",
    "# xgb_gs = GridSearchCV(xgb, param_grid=params)\n",
    "# xgb_gs.fit(X, y)\n",
    "xgb.fit(X,y)\n",
    "\n",
    "# Metrics and Cross Validation of model\n",
    "mse = cross_val_score(xgb, X, y, scoring='neg_mean_squared_error', cv=kfold)\n",
    "rmse = cross_val_score(xgb, X, y, scoring='neg_root_mean_squared_error', cv=kfold)\n",
    "mae = cross_val_score(xgb, X, y, scoring='neg_mean_absolute_error', cv=kfold)\n",
    "r2 = cross_val_score(xgb, X, y, scoring='r2', cv=kfold)\n",
    "\n",
    "print(f\"MSE: {-mse.mean()} ({mse.std()})\")\n",
    "print(f\"RMSE: {-rmse.mean()} ({rmse.std()})\")\n",
    "print(f\"MAE: {-mae.mean()} ({mae.std()})\")\n",
    "print(f\"R2: {r2.mean()}\")"
   ]
  },
  {
   "cell_type": "code",
   "execution_count": 77,
   "metadata": {
    "scrolled": true
   },
   "outputs": [
    {
     "name": "stdout",
     "output_type": "stream",
     "text": [
      "\n",
      "Feature Importances:\n",
      "    0.0004 - Alcoholic Beverages_f\n",
      "    0.0068 - Animal Products_f\n",
      "    0.0838 - Animal fats_f\n",
      "    0.0000 - Aquatic Products, Other_f\n",
      "    0.0129 - Cereals - Excluding Beer_f\n",
      "    0.2088 - Eggs_f\n",
      "    0.0444 - Fish, Seafood_f\n",
      "    0.0423 - Fruits - Excluding Wine_f\n",
      "    0.0080 - Meat_f\n",
      "    0.0073 - Miscellaneous_f\n",
      "    0.0834 - Milk - Excluding Butter_f\n",
      "    0.0282 - Offals_f\n",
      "    0.0587 - Oilcrops_f\n",
      "    0.0223 - Pulses_f\n",
      "    0.0086 - Spices_f\n",
      "    0.0417 - Starchy Roots_f\n",
      "    0.2660 - Stimulants_f\n",
      "    0.0000 - Sugar Crops_f\n",
      "    0.0007 - Sugar & Sweeteners_f\n",
      "    0.0411 - Treenuts_f\n",
      "    0.0000 - Vegetal Products_f\n",
      "    0.0156 - Vegetable Oils_f\n",
      "    0.0189 - Vegetables_f\n"
     ]
    },
    {
     "data": {
      "image/png": "[encoded data removed]",
      "text/plain": [
       "<Figure size 432x288 with 1 Axes>"
      ]
     },
     "metadata": {
      "needs_background": "light"
     },
     "output_type": "display_data"
    }
   ],
   "source": [
    "# Get Feature Importance from model\n",
    "importance = xgb.feature_importances_\n",
    "\n",
    "\n",
    "print(\"\\nFeature Importances:\")\n",
    "for item in zip(X_col.columns, xgb.feature_importances_):\n",
    "    print(\"{1:10.4f} - {0}\".format(item[0],item[1]))\n",
    "\n",
    "# Plot feature importance\n",
    "feat_importance = zip(X_col.columns, importance)\n",
    "feat_importance = sorted([x for x in feat_importance], key = lambda x: x[1], reverse=True)\n",
    "\n",
    "plt.bar(*zip(*feat_importance))\n",
    "plt.xticks(rotation=90)\n",
    "plt.show()"
   ]
  },
  {
   "cell_type": "code",
   "execution_count": null,
   "metadata": {},
   "outputs": [],
   "source": [
    " "
   ]
  },
  {
   "cell_type": "code",
   "execution_count": null,
   "metadata": {},
   "outputs": [],
   "source": []
  }
 ],
 "metadata": {
  "kernelspec": {
   "display_name": "Python 3",
   "language": "python",
   "name": "python3"
  },
  "language_info": {
   "codemirror_mode": {
    "name": "ipython",
    "version": 3
   },
   "file_extension": ".py",
   "mimetype": "text/x-python",
   "name": "python",
   "nbconvert_exporter": "python",
   "pygments_lexer": "ipython3",
   "version": "3.8.2"
  }
 },
 "nbformat": 4,
 "nbformat_minor": 4
}
