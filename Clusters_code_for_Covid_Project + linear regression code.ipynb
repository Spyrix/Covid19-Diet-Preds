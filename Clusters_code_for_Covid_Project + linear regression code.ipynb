{
 "cells": [
  {
   "cell_type": "code",
   "execution_count": 6,
   "metadata": {
    "id": "rWZpnFIEW9vL"
   },
   "outputs": [],
   "source": [
    "import pandas as pd\n",
    "import matplotlib\n",
    "import matplotlib.pyplot as plt\n",
    "from sklearn.cluster import KMeans\n",
    "from sklearn.preprocessing import StandardScaler\n",
    "import numpy as np\n"
   ]
  },
  {
   "cell_type": "code",
   "execution_count": 10,
   "metadata": {
    "colab": {
     "base_uri": "https://localhost:8080/",
     "height": 1000
    },
    "id": "OOWayFqYP4Ts",
    "outputId": "de6e2203-e17f-486b-e72c-4f9be82f91f5"
   },
   "outputs": [
    {
     "ename": "FileNotFoundError",
     "evalue": "[Errno 2] No such file or directory: '/data/Fat_Supply_Quantity_Data.csv'",
     "output_type": "error",
     "traceback": [
      "\u001b[0;31m--------------------------------------------------------------------\u001b[0m",
      "\u001b[0;31mFileNotFoundError\u001b[0m                  Traceback (most recent call last)",
      "\u001b[0;32m<ipython-input-10-b0792e3dedb4>\u001b[0m in \u001b[0;36m<module>\u001b[0;34m\u001b[0m\n\u001b[0;32m----> 1\u001b[0;31m \u001b[0madder\u001b[0m\u001b[0;34m=\u001b[0m \u001b[0mpd\u001b[0m\u001b[0;34m.\u001b[0m\u001b[0mread_csv\u001b[0m\u001b[0;34m(\u001b[0m\u001b[0;34m\"/data/Fat_Supply_Quantity_Data.csv\"\u001b[0m\u001b[0;34m)\u001b[0m\u001b[0;34m\u001b[0m\u001b[0;34m\u001b[0m\u001b[0m\n\u001b[0m\u001b[1;32m      2\u001b[0m \u001b[0mdata\u001b[0m \u001b[0;34m=\u001b[0m \u001b[0mpd\u001b[0m\u001b[0;34m.\u001b[0m\u001b[0mread_csv\u001b[0m\u001b[0;34m(\u001b[0m\u001b[0;34m\"/data/data_clean/fat_data_clean.csv\"\u001b[0m\u001b[0;34m)\u001b[0m\u001b[0;34m\u001b[0m\u001b[0;34m\u001b[0m\u001b[0m\n\u001b[1;32m      3\u001b[0m \u001b[0mElbow\u001b[0m\u001b[0;34m(\u001b[0m\u001b[0mdata\u001b[0m\u001b[0;34m.\u001b[0m\u001b[0miloc\u001b[0m\u001b[0;34m[\u001b[0m\u001b[0;34m:\u001b[0m\u001b[0;34m,\u001b[0m \u001b[0;34m[\u001b[0m\u001b[0;36m1\u001b[0m\u001b[0;34m,\u001b[0m\u001b[0;36m23\u001b[0m\u001b[0;34m]\u001b[0m\u001b[0;34m]\u001b[0m\u001b[0;34m.\u001b[0m\u001b[0mvalues\u001b[0m\u001b[0;34m)\u001b[0m\u001b[0;34m\u001b[0m\u001b[0;34m\u001b[0m\u001b[0m\n\u001b[1;32m      4\u001b[0m \u001b[0mKmeansCluster\u001b[0m\u001b[0;34m(\u001b[0m\u001b[0mdata\u001b[0m\u001b[0;34m.\u001b[0m\u001b[0miloc\u001b[0m\u001b[0;34m[\u001b[0m\u001b[0;34m:\u001b[0m\u001b[0;34m,\u001b[0m \u001b[0;34m[\u001b[0m\u001b[0;36m1\u001b[0m\u001b[0;34m,\u001b[0m\u001b[0;36m23\u001b[0m\u001b[0;34m]\u001b[0m\u001b[0;34m]\u001b[0m\u001b[0;34m.\u001b[0m\u001b[0mvalues\u001b[0m\u001b[0;34m,\u001b[0m\u001b[0;34m\"Animal Products Fat\"\u001b[0m\u001b[0;34m)\u001b[0m\u001b[0;34m\u001b[0m\u001b[0;34m\u001b[0m\u001b[0m\n\u001b[1;32m      5\u001b[0m \u001b[0mElbow\u001b[0m\u001b[0;34m(\u001b[0m\u001b[0mdata\u001b[0m\u001b[0;34m.\u001b[0m\u001b[0miloc\u001b[0m\u001b[0;34m[\u001b[0m\u001b[0;34m:\u001b[0m\u001b[0;34m,\u001b[0m \u001b[0;34m[\u001b[0m\u001b[0;36m11\u001b[0m\u001b[0;34m,\u001b[0m\u001b[0;36m23\u001b[0m\u001b[0;34m]\u001b[0m\u001b[0;34m]\u001b[0m\u001b[0;34m.\u001b[0m\u001b[0mvalues\u001b[0m\u001b[0;34m)\u001b[0m\u001b[0;34m\u001b[0m\u001b[0;34m\u001b[0m\u001b[0m\n",
      "\u001b[0;32m~/.local/lib/python3.8/site-packages/pandas/io/parsers.py\u001b[0m in \u001b[0;36mread_csv\u001b[0;34m(filepath_or_buffer, sep, delimiter, header, names, index_col, usecols, squeeze, prefix, mangle_dupe_cols, dtype, engine, converters, true_values, false_values, skipinitialspace, skiprows, skipfooter, nrows, na_values, keep_default_na, na_filter, verbose, skip_blank_lines, parse_dates, infer_datetime_format, keep_date_col, date_parser, dayfirst, cache_dates, iterator, chunksize, compression, thousands, decimal, lineterminator, quotechar, quoting, doublequote, escapechar, comment, encoding, dialect, error_bad_lines, warn_bad_lines, delim_whitespace, low_memory, memory_map, float_precision)\u001b[0m\n\u001b[1;32m    684\u001b[0m     )\n\u001b[1;32m    685\u001b[0m \u001b[0;34m\u001b[0m\u001b[0m\n\u001b[0;32m--> 686\u001b[0;31m     \u001b[0;32mreturn\u001b[0m \u001b[0m_read\u001b[0m\u001b[0;34m(\u001b[0m\u001b[0mfilepath_or_buffer\u001b[0m\u001b[0;34m,\u001b[0m \u001b[0mkwds\u001b[0m\u001b[0;34m)\u001b[0m\u001b[0;34m\u001b[0m\u001b[0;34m\u001b[0m\u001b[0m\n\u001b[0m\u001b[1;32m    687\u001b[0m \u001b[0;34m\u001b[0m\u001b[0m\n\u001b[1;32m    688\u001b[0m \u001b[0;34m\u001b[0m\u001b[0m\n",
      "\u001b[0;32m~/.local/lib/python3.8/site-packages/pandas/io/parsers.py\u001b[0m in \u001b[0;36m_read\u001b[0;34m(filepath_or_buffer, kwds)\u001b[0m\n\u001b[1;32m    450\u001b[0m \u001b[0;34m\u001b[0m\u001b[0m\n\u001b[1;32m    451\u001b[0m     \u001b[0;31m# Create the parser.\u001b[0m\u001b[0;34m\u001b[0m\u001b[0;34m\u001b[0m\u001b[0;34m\u001b[0m\u001b[0m\n\u001b[0;32m--> 452\u001b[0;31m     \u001b[0mparser\u001b[0m \u001b[0;34m=\u001b[0m \u001b[0mTextFileReader\u001b[0m\u001b[0;34m(\u001b[0m\u001b[0mfp_or_buf\u001b[0m\u001b[0;34m,\u001b[0m \u001b[0;34m**\u001b[0m\u001b[0mkwds\u001b[0m\u001b[0;34m)\u001b[0m\u001b[0;34m\u001b[0m\u001b[0;34m\u001b[0m\u001b[0m\n\u001b[0m\u001b[1;32m    453\u001b[0m \u001b[0;34m\u001b[0m\u001b[0m\n\u001b[1;32m    454\u001b[0m     \u001b[0;32mif\u001b[0m \u001b[0mchunksize\u001b[0m \u001b[0;32mor\u001b[0m \u001b[0miterator\u001b[0m\u001b[0;34m:\u001b[0m\u001b[0;34m\u001b[0m\u001b[0;34m\u001b[0m\u001b[0m\n",
      "\u001b[0;32m~/.local/lib/python3.8/site-packages/pandas/io/parsers.py\u001b[0m in \u001b[0;36m__init__\u001b[0;34m(self, f, engine, **kwds)\u001b[0m\n\u001b[1;32m    944\u001b[0m             \u001b[0mself\u001b[0m\u001b[0;34m.\u001b[0m\u001b[0moptions\u001b[0m\u001b[0;34m[\u001b[0m\u001b[0;34m\"has_index_names\"\u001b[0m\u001b[0;34m]\u001b[0m \u001b[0;34m=\u001b[0m \u001b[0mkwds\u001b[0m\u001b[0;34m[\u001b[0m\u001b[0;34m\"has_index_names\"\u001b[0m\u001b[0;34m]\u001b[0m\u001b[0;34m\u001b[0m\u001b[0;34m\u001b[0m\u001b[0m\n\u001b[1;32m    945\u001b[0m \u001b[0;34m\u001b[0m\u001b[0m\n\u001b[0;32m--> 946\u001b[0;31m         \u001b[0mself\u001b[0m\u001b[0;34m.\u001b[0m\u001b[0m_make_engine\u001b[0m\u001b[0;34m(\u001b[0m\u001b[0mself\u001b[0m\u001b[0;34m.\u001b[0m\u001b[0mengine\u001b[0m\u001b[0;34m)\u001b[0m\u001b[0;34m\u001b[0m\u001b[0;34m\u001b[0m\u001b[0m\n\u001b[0m\u001b[1;32m    947\u001b[0m \u001b[0;34m\u001b[0m\u001b[0m\n\u001b[1;32m    948\u001b[0m     \u001b[0;32mdef\u001b[0m \u001b[0mclose\u001b[0m\u001b[0;34m(\u001b[0m\u001b[0mself\u001b[0m\u001b[0;34m)\u001b[0m\u001b[0;34m:\u001b[0m\u001b[0;34m\u001b[0m\u001b[0;34m\u001b[0m\u001b[0m\n",
      "\u001b[0;32m~/.local/lib/python3.8/site-packages/pandas/io/parsers.py\u001b[0m in \u001b[0;36m_make_engine\u001b[0;34m(self, engine)\u001b[0m\n\u001b[1;32m   1176\u001b[0m     \u001b[0;32mdef\u001b[0m \u001b[0m_make_engine\u001b[0m\u001b[0;34m(\u001b[0m\u001b[0mself\u001b[0m\u001b[0;34m,\u001b[0m \u001b[0mengine\u001b[0m\u001b[0;34m=\u001b[0m\u001b[0;34m\"c\"\u001b[0m\u001b[0;34m)\u001b[0m\u001b[0;34m:\u001b[0m\u001b[0;34m\u001b[0m\u001b[0;34m\u001b[0m\u001b[0m\n\u001b[1;32m   1177\u001b[0m         \u001b[0;32mif\u001b[0m \u001b[0mengine\u001b[0m \u001b[0;34m==\u001b[0m \u001b[0;34m\"c\"\u001b[0m\u001b[0;34m:\u001b[0m\u001b[0;34m\u001b[0m\u001b[0;34m\u001b[0m\u001b[0m\n\u001b[0;32m-> 1178\u001b[0;31m             \u001b[0mself\u001b[0m\u001b[0;34m.\u001b[0m\u001b[0m_engine\u001b[0m \u001b[0;34m=\u001b[0m \u001b[0mCParserWrapper\u001b[0m\u001b[0;34m(\u001b[0m\u001b[0mself\u001b[0m\u001b[0;34m.\u001b[0m\u001b[0mf\u001b[0m\u001b[0;34m,\u001b[0m \u001b[0;34m**\u001b[0m\u001b[0mself\u001b[0m\u001b[0;34m.\u001b[0m\u001b[0moptions\u001b[0m\u001b[0;34m)\u001b[0m\u001b[0;34m\u001b[0m\u001b[0;34m\u001b[0m\u001b[0m\n\u001b[0m\u001b[1;32m   1179\u001b[0m         \u001b[0;32melse\u001b[0m\u001b[0;34m:\u001b[0m\u001b[0;34m\u001b[0m\u001b[0;34m\u001b[0m\u001b[0m\n\u001b[1;32m   1180\u001b[0m             \u001b[0;32mif\u001b[0m \u001b[0mengine\u001b[0m \u001b[0;34m==\u001b[0m \u001b[0;34m\"python\"\u001b[0m\u001b[0;34m:\u001b[0m\u001b[0;34m\u001b[0m\u001b[0;34m\u001b[0m\u001b[0m\n",
      "\u001b[0;32m~/.local/lib/python3.8/site-packages/pandas/io/parsers.py\u001b[0m in \u001b[0;36m__init__\u001b[0;34m(self, src, **kwds)\u001b[0m\n\u001b[1;32m   2006\u001b[0m         \u001b[0mkwds\u001b[0m\u001b[0;34m[\u001b[0m\u001b[0;34m\"usecols\"\u001b[0m\u001b[0;34m]\u001b[0m \u001b[0;34m=\u001b[0m \u001b[0mself\u001b[0m\u001b[0;34m.\u001b[0m\u001b[0musecols\u001b[0m\u001b[0;34m\u001b[0m\u001b[0;34m\u001b[0m\u001b[0m\n\u001b[1;32m   2007\u001b[0m \u001b[0;34m\u001b[0m\u001b[0m\n\u001b[0;32m-> 2008\u001b[0;31m         \u001b[0mself\u001b[0m\u001b[0;34m.\u001b[0m\u001b[0m_reader\u001b[0m \u001b[0;34m=\u001b[0m \u001b[0mparsers\u001b[0m\u001b[0;34m.\u001b[0m\u001b[0mTextReader\u001b[0m\u001b[0;34m(\u001b[0m\u001b[0msrc\u001b[0m\u001b[0;34m,\u001b[0m \u001b[0;34m**\u001b[0m\u001b[0mkwds\u001b[0m\u001b[0;34m)\u001b[0m\u001b[0;34m\u001b[0m\u001b[0;34m\u001b[0m\u001b[0m\n\u001b[0m\u001b[1;32m   2009\u001b[0m         \u001b[0mself\u001b[0m\u001b[0;34m.\u001b[0m\u001b[0munnamed_cols\u001b[0m \u001b[0;34m=\u001b[0m \u001b[0mself\u001b[0m\u001b[0;34m.\u001b[0m\u001b[0m_reader\u001b[0m\u001b[0;34m.\u001b[0m\u001b[0munnamed_cols\u001b[0m\u001b[0;34m\u001b[0m\u001b[0;34m\u001b[0m\u001b[0m\n\u001b[1;32m   2010\u001b[0m \u001b[0;34m\u001b[0m\u001b[0m\n",
      "\u001b[0;32mpandas/_libs/parsers.pyx\u001b[0m in \u001b[0;36mpandas._libs.parsers.TextReader.__cinit__\u001b[0;34m()\u001b[0m\n",
      "\u001b[0;32mpandas/_libs/parsers.pyx\u001b[0m in \u001b[0;36mpandas._libs.parsers.TextReader._setup_parser_source\u001b[0;34m()\u001b[0m\n",
      "\u001b[0;31mFileNotFoundError\u001b[0m: [Errno 2] No such file or directory: '/data/Fat_Supply_Quantity_Data.csv'"
     ]
    }
   ],
   "source": [
    "adder= pd.read_csv(\"/content/Fat_Supply_Quantity_Data.csv\")\n",
    "data = pd.read_csv(\"/content/data_clean/fat_data_clean.csv\")\n",
    "Elbow(data.iloc[:, [1,23]].values)\n",
    "KmeansCluster(data.iloc[:, [1,23]].values,\"Animal Products Fat\")\n",
    "Elbow(data.iloc[:, [11,23]].values)\n",
    "KmeansCluster(data.iloc[:, [11,23]].values, \"Oil Products Fat\")\n",
    "Elbow(data.iloc[:, [20,23]].values)\n",
    "KmeansCluster(data.iloc[:, [20,23]].values, \"Vegetable Products Fat\")\n",
    "data = pd.read_csv(\"/content/kcal_data_clean.csv\")\n",
    "Elbow(data.iloc[:, [1,23]].values)\n",
    "KmeansCluster(data.iloc[:, [1,23]].values,\"Animal Products KiloCalories\")\n",
    "Elbow(data.iloc[:, [11,23]].values)\n",
    "KmeansCluster(data.iloc[:, [11,23]].values, \"Oil Products KiloCalories\")\n",
    "Elbow(data.iloc[:, [20,23]].values)\n",
    "KmeansCluster(data.iloc[:, [20,23]].values, \"Vegetable Products KiloCalories\")\n",
    "data = pd.read_csv(\"/content/kg_data_clean.csv\")\n",
    "Elbow(data.iloc[:, [1,23]].values)\n",
    "KmeansCluster(data.iloc[:, [1,23]].values,\"Animal Products Kilograms\")\n",
    "Elbow(data.iloc[:, [11,23]].values)\n",
    "KmeansCluster(data.iloc[:, [11,23]].values, \"Oil Products Kilograms\")\n",
    "Elbow(data.iloc[:, [20,23]].values)\n",
    "KmeansCluster(data.iloc[:, [20,23]].values, \"Vegetable Products Kilograms\")\n",
    "data = pd.read_csv(\"/content/protein_data_clean.csv\")\n",
    "Elbow(data.iloc[:, [1,23]].values)\n",
    "KmeansCluster(data.iloc[:, [1,23]].values,\"Animal Products Protein\")\n",
    "Elbow(data.iloc[:, [11,23]].values)\n",
    "KmeansCluster(data.iloc[:, [11,23]].values, \"Oil Products Protein\")\n",
    "Elbow(data.iloc[:, [20,23]].values)\n",
    "KmeansCluster(data.iloc[:, [20,23]].values, \"Vegetable Products Protein\")\n"
   ]
  },
  {
   "cell_type": "code",
   "execution_count": 9,
   "metadata": {
    "id": "-SASJRvdNQJy"
   },
   "outputs": [],
   "source": [
    "def Elbow(X):\n",
    "  scalerX = StandardScaler().fit(X)\n",
    "  X_scaled = scalerX.transform(X)\n",
    "\n",
    "  wcss = []\n",
    "  for i in range(1, 11):\n",
    "      kmeans = KMeans(n_clusters = i, init = 'k-means++', random_state = 42)\n",
    "      kmeans.fit(X_scaled)\n",
    "      wcss.append(kmeans.inertia_)\n",
    "  \n",
    "  fig = plt.figure()\n",
    "  ax = fig.add_subplot(111)\n",
    "  plt.plot(range(1, 11), wcss)\n",
    "  plt.title('The Elbow Method',color='white')\n",
    "  plt.xlabel('Number of clusters',color='white')\n",
    "  plt.ylabel('WCSS',color='white')\n",
    "  ax.spines['bottom'].set_color('white')\n",
    "  ax.spines['top'].set_color('white')\n",
    "  ax.xaxis.label.set_color('white')\n",
    "  ax.tick_params(axis='x', colors='white')\n",
    "  ax.spines['left'].set_color('white')\n",
    "  ax.spines['right'].set_color('white')\n",
    "  ax.xaxis.label.set_color('white')\n",
    "  ax.tick_params(axis='y', colors='white')\n",
    "  fig.set_size_inches(8, 4) \n",
    "  plt.show()\n",
    "\n",
    "\n",
    "def KmeansCluster(X,titlez,num_opt_clusters = 3):\n",
    "  scalerX = StandardScaler().fit(X)\n",
    "  X_scaled = scalerX.transform(X)\n",
    "  kmeans = KMeans(n_clusters = num_opt_clusters, init = 'k-means++', random_state = 42)\n",
    "  y_kmeans = kmeans.fit_predict(X_scaled)\n",
    "\n",
    "\n",
    "  fig = plt.figure()\n",
    "  ax = fig.add_subplot(111)  \n",
    "  plt.scatter(X[y_kmeans == 1, 0], X[y_kmeans == 1, 1], s = 100, c = 'blue', label = 'Cluster 2')\n",
    "  plt.scatter(X[y_kmeans == 2, 0], X[y_kmeans == 2, 1], s = 100, c = 'green', label = 'Cluster 3')\n",
    "  plt.scatter(X[y_kmeans == 0, 0], X[y_kmeans == 0, 1], s = 100, c = 'red', label = 'Cluster 1')\n",
    "  plt.title('Cluster Analysis',fontsize=20, fontweight='bold',color='white')\n",
    "  plt.xlabel('Obesity',fontsize=16, fontweight='bold',color='white')\n",
    "  plt.ylabel(titlez,fontsize=16, fontweight='bold',color='white')\n",
    "  ax.spines['bottom'].set_color('white')\n",
    "  ax.spines['top'].set_color('white')\n",
    "  ax.xaxis.label.set_color('white')\n",
    "  ax.tick_params(axis='x', colors='white')\n",
    "  ax.spines['left'].set_color('white')\n",
    "  ax.spines['right'].set_color('white')\n",
    "  ax.xaxis.label.set_color('white')\n",
    "  ax.tick_params(axis='y', colors='white')\n",
    "\n",
    "\n",
    "  fig.set_size_inches(20, 10) \n",
    "  plt.show()"
   ]
  },
  {
   "cell_type": "code",
   "execution_count": null,
   "metadata": {
    "colab": {
     "base_uri": "https://localhost:8080/",
     "height": 1000
    },
    "id": "MQNuLSy5dkER",
    "outputId": "ef24269a-b8a0-4a51-84d5-9618049734fe"
   },
   "outputs": [],
   "source": [
    "data = pd.read_csv(\"/content/fat_data_clean.csv\")\n",
    "KmeansCluster(data.iloc[:, [24,26]].values,\"Confirmed -- dataset 1\")\n",
    "KmeansCluster(data.iloc[:, [24,27]].values, \"Deaths -- dataset 1\")\n",
    "KmeansCluster(data.iloc[:, [24,28]].values, \"Recovered -- dataset 1\")\n",
    "data = pd.read_csv(\"/content/kcal_data_clean.csv\")\n",
    "KmeansCluster(data.iloc[:, [24,26]].values,\"Confirmed -- dataset 2\")\n",
    "KmeansCluster(data.iloc[:, [24,27]].values, \"Deaths -- dataset 2\")\n",
    "KmeansCluster(data.iloc[:, [24,28]].values, \"Recovered -- dataset 2\")\n",
    "data = pd.read_csv(\"/content/kg_data_clean.csv\")\n",
    "KmeansCluster(data.iloc[:, [24,26]].values,\"Confirmed -- dataset 3\")\n",
    "KmeansCluster(data.iloc[:, [24,27]].values, \"Deaths -- dataset 3\")\n",
    "KmeansCluster(data.iloc[:, [24,28]].values, \"Recovered -- dataset 3\")\n",
    "data = pd.read_csv(\"/content/protein_data_clean.csv\")\n",
    "KmeansCluster(data.iloc[:, [24,26]].values,\"Confirmed -- dataset 4\")\n",
    "KmeansCluster(data.iloc[:, [24,27]].values, \"Deaths -- dataset 4\")\n",
    "KmeansCluster(data.iloc[:, [24,28]].values, \"Recovered -- dataset 4\")"
   ]
  },
  {
   "cell_type": "code",
   "execution_count": null,
   "metadata": {
    "id": "kLkAF5M7cBvq"
   },
   "outputs": [],
   "source": [
    "from sklearn import linear_model"
   ]
  },
  {
   "cell_type": "code",
   "execution_count": null,
   "metadata": {
    "id": "bEwhk0QTaikJ"
   },
   "outputs": [],
   "source": [
    "def ClusterRegression(X,titlez,num_opt_clusters = 3):\n",
    "  clusters = X.iloc[:, [24,26]].values\n",
    "  scalerX = StandardScaler().fit(clusters)\n",
    "  X_scaled = scalerX.transform(X)\n",
    "  kmeans = KMeans(n_clusters = num_opt_clusters, init = 'k-means++', random_state = 42)\n",
    "  y_kmeans = kmeans.fit_predict(X_scaled)\n",
    "\n",
    "  for i in range(num_opt_clusters):\n",
    "    regr = linear_model.LinearRegression()\n",
    "    regr.fit(X[y_kmeans == i, 0],X[y_kmeans == i, 1]) \n",
    "\n",
    "    fig = plt.figure()\n",
    "    ax = fig.add_subplot(111)  \n",
    "    plt.scatter(X[y_kmeans == i, 0], X[y_kmeans == i, 1], s = 100, c = 'red', label = 'Cluster 1')\n",
    "    plt.title('Cluster Analysis',fontsize=20, fontweight='bold',color='white')\n",
    "    plt.xlabel('Obesity',fontsize=16, fontweight='bold',color='white')\n",
    "    plt.ylabel(titlez,fontsize=16, fontweight='bold',color='white')\n",
    "    ax.spines['bottom'].set_color('white')\n",
    "    ax.spines['top'].set_color('white')\n",
    "    ax.xaxis.label.set_color('white')\n",
    "    ax.tick_params(axis='x', colors='white')\n",
    "    ax.spines['left'].set_color('white')\n",
    "    ax.spines['right'].set_color('white')\n",
    "    ax.xaxis.label.set_color('white')\n",
    "    ax.tick_params(axis='y', colors='white')\n",
    "    plt.plot(X_test, regr.predict(X_test), color='purple',linewidth=3)"
   ]
  },
  {
   "cell_type": "code",
   "execution_count": null,
   "metadata": {
    "colab": {
     "base_uri": "https://localhost:8080/",
     "height": 296
    },
    "id": "JoBTdmCzd8LV",
    "outputId": "930475e0-cfb7-43b9-db7d-775e6941c7de"
   },
   "outputs": [],
   "source": [
    "data = pd.read_csv(\"/content/fat_data_clean.csv\")\n",
    "ClusterRegression(data,\"Confirmed -- dataset 1\")"
   ]
  },
  {
   "cell_type": "code",
   "execution_count": null,
   "metadata": {},
   "outputs": [],
   "source": []
  }
 ],
 "metadata": {
  "colab": {
   "collapsed_sections": [],
   "name": "Clusters code for Covid Project",
   "provenance": []
  },
  "kernelspec": {
   "display_name": "Python 3",
   "language": "python",
   "name": "python3"
  },
  "language_info": {
   "codemirror_mode": {
    "name": "ipython",
    "version": 3
   },
   "file_extension": ".py",
   "mimetype": "text/x-python",
   "name": "python",
   "nbconvert_exporter": "python",
   "pygments_lexer": "ipython3",
   "version": "3.8.5"
  }
 },
 "nbformat": 4,
 "nbformat_minor": 1
}
