{
 "cells": [
  {
   "cell_type": "code",
   "execution_count": 5,
   "id": "eight-works",
   "metadata": {},
   "outputs": [
    {
     "data": {
      "text/plain": [
       "\"\\nto do:\\n[x]use minmaxscaler to scale data (maybe some other scaling technique)\\n[]use grid search to find the best parameters\\n[]try using different scoring metrics for the cross val function (RMSE/MSE)\\n[]use the whole dataset since we're not predicting - try splitting with kfold of 5 or 10, use cross validation to check the model\\n\""
      ]
     },
     "execution_count": 5,
     "metadata": {},
     "output_type": "execute_result"
    }
   ],
   "source": [
    "'''\n",
    "to do:\n",
    "[x]use minmaxscaler to scale data (maybe some other scaling technique)\n",
    "[x]use grid search to find the best parameters\n",
    "[]try using different scoring metrics for the cross val function (RMSE/MSE)\n",
    "[]use the whole dataset since we're not predicting - try splitting with kfold of 5 or 10, use cross validation to check the model\n",
    "'''"
   ]
  },
  {
   "cell_type": "code",
   "execution_count": 6,
   "id": "settled-narrow",
   "metadata": {},
   "outputs": [],
   "source": [
    "#import stuff\n",
    "import numpy as np\n",
    "import sklearn as sk\n",
    "import pandas as pd\n",
    "import statsmodels.api as sm\n",
    "import matplotlib.pyplot as plt\n",
    "from sklearn.model_selection import cross_val_score\n",
    "from sklearn.model_selection import train_test_split\n",
    "from sklearn import linear_model\n",
    "from sklearn.preprocessing import MinMaxScaler\n",
    "from sklearn.model_selection import GridSearchCV\n",
    "from sklearn.metrics import classification_report"
   ]
  },
  {
   "cell_type": "code",
   "execution_count": 7,
   "id": "defined-smoke",
   "metadata": {},
   "outputs": [],
   "source": [
    "#import cleaned up datasets\n",
    "protein_df = pd.read_csv(\"data/data_clean/protein_data_clean.csv\")\n",
    "kg_df = pd.read_csv(\"data/data_clean/kg_data_clean.csv\")\n",
    "kcal_df = pd.read_csv(\"data/data_clean/kcal_data_clean.csv\")\n",
    "fat_df = pd.read_csv(\"data/data_clean/fat_data_clean.csv\")"
   ]
  },
  {
   "cell_type": "code",
   "execution_count": 8,
   "id": "blocked-functionality",
   "metadata": {},
   "outputs": [
    {
     "data": {
      "text/plain": [
       "dict_keys(['alpha', 'copy_X', 'fit_intercept', 'max_iter', 'normalize', 'positive', 'precompute', 'random_state', 'selection', 'tol', 'warm_start'])"
      ]
     },
     "execution_count": 8,
     "metadata": {},
     "output_type": "execute_result"
    }
   ],
   "source": [
    "#sorted(sk.metrics.SCORERS.keys())\n",
    "linear_model.Lasso().get_params().keys()"
   ]
  },
  {
   "cell_type": "markdown",
   "id": "residential-frank",
   "metadata": {},
   "source": [
    "<h3>\n",
    "I want to figure out what the lambda best value to penalize our model is for LASSO, for each dataset set.\n",
    "I will also print out the weight vector, so we can determine what features LASSO determines are actually important.\n",
    "</h3>"
   ]
  },
  {
   "cell_type": "code",
   "execution_count": 84,
   "id": "pretty-sequence",
   "metadata": {
    "scrolled": true
   },
   "outputs": [],
   "source": [
    "#gonna try different scoring metrics\n",
    "def loop_lasso_mse(X_train, X_test, y_train, y_test, x):\n",
    "    best_a = 0.1\n",
    "    best_score = 0\n",
    "    test_a_values = np.arange(0.1,11,0.1)\n",
    "    for a in range(0,len(test_a_values)):\n",
    "        Lreg = linear_model.Lasso(alpha = test_a_values[a])\n",
    "        Lreg.fit(X_train, y_train)\n",
    "        score = cross_val_score(Lreg, X_test, y_test, cv=5, scoring='neg_mean_squared_error')\n",
    "        if(np.average(score)<best_score):\n",
    "            best_score=np.average(score)\n",
    "            best_a = test_a_values[a]\n",
    "    print(\"Best score :\",best_score)\n",
    "    print(\"Best Alpha :\",best_a)\n",
    "    #Get the best model's coefs\n",
    "    Lreg = linear_model.Lasso(alpha = best_a)\n",
    "    Lreg.fit(X_train, y_train)\n",
    "    print(\"Weight coefficients:\")\n",
    "    for c in range(1,len(Lreg.coef_)):\n",
    "        if(Lreg.coef_[c]>0.0):\n",
    "            print(x.columns[c],\":\",Lreg.coef_[c])\n",
    "    print('\\n')"
   ]
  },
  {
   "cell_type": "code",
   "execution_count": 85,
   "id": "optimum-pilot",
   "metadata": {},
   "outputs": [],
   "source": [
    "def loop_lasso_rmse(X_train, X_test, y_train, y_test, x):\n",
    "    best_a = 0.1\n",
    "    best_score = 0\n",
    "    test_a_values = np.arange(0.1,11,0.1)\n",
    "    for a in range(0,len(test_a_values)):\n",
    "        Lreg = linear_model.Lasso(alpha = test_a_values[a])\n",
    "        Lreg.fit(X_train, y_train)\n",
    "        score = cross_val_score(Lreg, X_test, y_test, cv=5, scoring='neg_root_mean_squared_error')\n",
    "        if(np.average(score)<best_score):\n",
    "            best_score=np.average(score)\n",
    "            best_a = test_a_values[a]\n",
    "    print(\"Best score :\",best_score)\n",
    "    print(\"Best Alpha :\",best_a)\n",
    "    #Get the best model's coefs\n",
    "    Lreg = linear_model.Lasso(alpha = best_a)\n",
    "    Lreg.fit(X_train, y_train)\n",
    "    print(\"Weight coefficients:\")\n",
    "    for c in range(1,len(Lreg.coef_)):\n",
    "        if(Lreg.coef_[c]>0.0):\n",
    "            print(x.columns[c],\":\",Lreg.coef_[c])\n",
    "    print('\\n')"
   ]
  },
  {
   "cell_type": "code",
   "execution_count": 87,
   "id": "signed-silence",
   "metadata": {},
   "outputs": [],
   "source": [
    "def LASSO(df):\n",
    "    df_x = df.drop(['Country', 'Population','Active','Recovered','Deaths','Confirmed','Undernourished'],axis=1)\n",
    "    #scale the data\n",
    "    x = MinMaxScaler().fit_transform(df_x)\n",
    "    print(\"Confirmed:\")\n",
    "    #confirmed\n",
    "    y = df.iloc[:,26].values\n",
    "    X_train, X_test, y_train, y_test = train_test_split(x, y, test_size = 0.2, random_state = 0)\n",
    "    print(\"RMSE\")\n",
    "    loop_lasso_rmse(X_train, X_test, y_train, y_test, df_x)\n",
    "    print(\"MSE\")\n",
    "    loop_lasso_mse(X_train, X_test, y_train, y_test, df_x)\n",
    "    print(\"Deaths:\")\n",
    "    #deaths\n",
    "    y = df.iloc[:,27].values\n",
    "    X_train, X_test, y_train, y_test = train_test_split(x, y, test_size = 0.2, random_state = 0)\n",
    "    print(\"RMSE\")\n",
    "    loop_lasso_rmse(X_train, X_test, y_train, y_test, df_x)\n",
    "    print(\"MSE\")\n",
    "    loop_lasso_mse(X_train, X_test, y_train, y_test, df_x)\n",
    "    print(\"Recovered:\")\n",
    "    #recovered\n",
    "    y = df.iloc[:,28].values\n",
    "    X_train, X_test, y_train, y_test = train_test_split(x, y, test_size = 0.2, random_state = 0)\n",
    "    print(\"RMSE\")\n",
    "    loop_lasso_rmse(X_train, X_test, y_train, y_test, df_x)\n",
    "    print(\"MSE\")\n",
    "    loop_lasso_mse(X_train, X_test, y_train, y_test, df_x)"
   ]
  },
  {
   "cell_type": "code",
   "execution_count": 88,
   "id": "intellectual-africa",
   "metadata": {},
   "outputs": [
    {
     "name": "stdout",
     "output_type": "stream",
     "text": [
      "Confirmed:\n",
      "RMSE\n",
      "Best score : -2.265650245121237\n",
      "Best Alpha : 0.5\n",
      "Weight coefficients:\n",
      "\n",
      "\n",
      "MSE\n",
      "Best score : -5.688202101562668\n",
      "Best Alpha : 0.5\n",
      "Weight coefficients:\n",
      "\n",
      "\n",
      "Deaths:\n",
      "RMSE\n",
      "Best score : -0.04280109245617871\n",
      "Best Alpha : 0.1\n",
      "Weight coefficients:\n",
      "\n",
      "\n",
      "MSE\n",
      "Best score : -0.0019074483033084128\n",
      "Best Alpha : 0.1\n",
      "Weight coefficients:\n",
      "\n",
      "\n",
      "Recovered:\n",
      "RMSE\n",
      "Best score : -1.6726036625335319\n",
      "Best Alpha : 0.30000000000000004\n",
      "Weight coefficients:\n",
      "\n",
      "\n",
      "MSE\n",
      "Best score : -3.0772871659839103\n",
      "Best Alpha : 0.30000000000000004\n",
      "Weight coefficients:\n",
      "\n",
      "\n"
     ]
    }
   ],
   "source": [
    "LASSO(protein_df)"
   ]
  },
  {
   "cell_type": "code",
   "execution_count": 89,
   "id": "extended-choir",
   "metadata": {},
   "outputs": [
    {
     "name": "stdout",
     "output_type": "stream",
     "text": [
      "Confirmed:\n",
      "RMSE\n",
      "Best score : -2.265650245121237\n",
      "Best Alpha : 0.4\n",
      "Weight coefficients:\n",
      "\n",
      "\n",
      "MSE\n",
      "Best score : -5.688202101562668\n",
      "Best Alpha : 0.4\n",
      "Weight coefficients:\n",
      "\n",
      "\n",
      "Deaths:\n",
      "RMSE\n",
      "Best score : -0.04280109245617871\n",
      "Best Alpha : 0.1\n",
      "Weight coefficients:\n",
      "\n",
      "\n",
      "MSE\n",
      "Best score : -0.0019074483033084128\n",
      "Best Alpha : 0.1\n",
      "Weight coefficients:\n",
      "\n",
      "\n",
      "Recovered:\n",
      "RMSE\n",
      "Best score : -1.6726036625335319\n",
      "Best Alpha : 0.4\n",
      "Weight coefficients:\n",
      "\n",
      "\n",
      "MSE\n",
      "Best score : -3.0772871659839103\n",
      "Best Alpha : 0.4\n",
      "Weight coefficients:\n",
      "\n",
      "\n"
     ]
    }
   ],
   "source": [
    "LASSO(fat_df)"
   ]
  },
  {
   "cell_type": "code",
   "execution_count": 90,
   "id": "standard-sharing",
   "metadata": {},
   "outputs": [
    {
     "name": "stdout",
     "output_type": "stream",
     "text": [
      "Confirmed:\n",
      "RMSE\n",
      "Best score : -2.265650245121237\n",
      "Best Alpha : 0.5\n",
      "Weight coefficients:\n",
      "\n",
      "\n",
      "MSE\n",
      "Best score : -5.688202101562668\n",
      "Best Alpha : 0.5\n",
      "Weight coefficients:\n",
      "\n",
      "\n",
      "Deaths:\n",
      "RMSE\n",
      "Best score : -0.04280109245617871\n",
      "Best Alpha : 0.1\n",
      "Weight coefficients:\n",
      "\n",
      "\n",
      "MSE\n",
      "Best score : -0.0019074483033084128\n",
      "Best Alpha : 0.1\n",
      "Weight coefficients:\n",
      "\n",
      "\n",
      "Recovered:\n",
      "RMSE\n",
      "Best score : -1.6726036625335319\n",
      "Best Alpha : 0.30000000000000004\n",
      "Weight coefficients:\n",
      "\n",
      "\n",
      "MSE\n",
      "Best score : -3.0772871659839103\n",
      "Best Alpha : 0.30000000000000004\n",
      "Weight coefficients:\n",
      "\n",
      "\n"
     ]
    }
   ],
   "source": [
    "LASSO(kg_df)"
   ]
  },
  {
   "cell_type": "code",
   "execution_count": null,
   "id": "meaning-sterling",
   "metadata": {},
   "outputs": [],
   "source": []
  }
 ],
 "metadata": {
  "kernelspec": {
   "display_name": "Python 3",
   "language": "python",
   "name": "python3"
  },
  "language_info": {
   "codemirror_mode": {
    "name": "ipython",
    "version": 3
   },
   "file_extension": ".py",
   "mimetype": "text/x-python",
   "name": "python",
   "nbconvert_exporter": "python",
   "pygments_lexer": "ipython3",
   "version": "3.8.5"
  }
 },
 "nbformat": 4,
 "nbformat_minor": 5
}
