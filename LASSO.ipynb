{
 "cells": [
  {
   "cell_type": "code",
   "execution_count": 20,
   "id": "settled-narrow",
   "metadata": {},
   "outputs": [],
   "source": [
    "#import stuff\n",
    "import numpy as np\n",
    "import sklearn as sk\n",
    "import pandas as pd\n",
    "import statsmodels.api as sm\n",
    "import matplotlib.pyplot as plt\n",
    "from sklearn.model_selection import cross_val_score\n",
    "from sklearn.model_selection import train_test_split\n",
    "from sklearn import linear_model\n",
    "from sklearn.preprocessing import MinMaxScaler\n",
    "from sklearn.model_selection import GridSearchCV\n",
    "from sklearn.metrics import classification_report"
   ]
  },
  {
   "cell_type": "code",
   "execution_count": 21,
   "id": "defined-smoke",
   "metadata": {},
   "outputs": [],
   "source": [
    "#import cleaned up datasets\n",
    "protein_df = pd.read_csv(\"data/data_clean/protein_data_clean.csv\")\n",
    "kg_df = pd.read_csv(\"data/data_clean/kg_data_clean.csv\")\n",
    "kcal_df = pd.read_csv(\"data/data_clean/kcal_data_clean.csv\")\n",
    "fat_df = pd.read_csv(\"data/data_clean/fat_data_clean.csv\")"
   ]
  },
  {
   "cell_type": "code",
   "execution_count": 22,
   "id": "prime-credits",
   "metadata": {},
   "outputs": [],
   "source": [
    "#To aid regression, drop features that probably highly correlate with other features\n",
    "#We have absolutely no need for obesity and undernourishment\n",
    "protein_df = protein_df.drop(['Obesity','Undernourished'],axis=1)\n",
    "kg_df = kg_df.drop(['Obesity','Undernourished'],axis=1)\n",
    "kcal_df = kcal_df.drop(['Obesity','Undernourished'],axis=1)\n",
    "fat_df = fat_df.drop(['Obesity','Undernourished'],axis=1)\n",
    "#protein_df = protein_df.drop(['Animal fats_p','Aquatic Products, Other_p', 'Sugar Crops_p', 'Vegetal Products_p', 'Vegetable Oils_p', 'Miscellaneous_p'],axis=1)\n",
    "#kg_df = kg_df.drop(['Obesity','Animal fats_kg','Aquatic Products, Other_kg', 'Sugar Crops_kg', 'Vegetal Products_kg', 'Vegetable Oils_kg', 'Miscellaneous_kg'],axis=1)\n",
    "#kcal_df = kcal_df.drop(['Obesity','Animal fats_kcal','Aquatic Products, Other_kcal', 'Sugar Crops_kcal', 'Vegetal Products_kcal', 'Vegetable Oils_kcal', 'Miscellaneous_kcal'],axis=1)\n",
    "#fat_df = fat_df.drop(['Obesity','Animal fats_f','Aquatic Products, Other_f', 'Sugar Crops_f', 'Vegetal Products_f', 'Vegetable Oils_f', 'Miscellaneous_f'],axis=1)"
   ]
  },
  {
   "cell_type": "markdown",
   "id": "residential-frank",
   "metadata": {},
   "source": [
    "<h3>\n",
    "I want to figure out what the lambda best value to penalize our model is for LASSO, for each dataset set, for each scoring metric.\n",
    "R2 will tell me if the model fits to the training data well, MSE and RMSE will tell me if it's overfitting. Also important to get the variance in the cross val scores of RMSE and MAE for that reason.\n",
    "I will also print out the weight vector, so we can determine what features LASSO determines are actually important.\n",
    "</h3>"
   ]
  },
  {
   "cell_type": "code",
   "execution_count": 23,
   "id": "circular-distributor",
   "metadata": {},
   "outputs": [],
   "source": [
    "#gonna try different scoring metrics\n",
    "def loop_lasso_r2(X_train, y_train, x):\n",
    "    best_a = 0.001\n",
    "    best_score = -np.inf\n",
    "    test_a_values = np.arange(0.001,0.1,0.001)\n",
    "    for a in range(0,len(test_a_values)):\n",
    "        Lreg = linear_model.Lasso(alpha = test_a_values[a], tol=0.1)\n",
    "        Lreg.fit(X_train, y_train)\n",
    "        score = cross_val_score(Lreg, X_train, y_train, cv=5, scoring='r2')\n",
    "        if(np.average(score)>best_score):\n",
    "            best_score=np.average(score)\n",
    "            best_a = test_a_values[a]\n",
    "    print(\"Best score :\",best_score)\n",
    "    print(\"Best Alpha :\",best_a)\n",
    "    #Get the best model's coefs\n",
    "    Lreg = linear_model.Lasso(alpha = best_a)\n",
    "    Lreg.fit(X_train, y_train)\n",
    "    print(\"Weight coefficients:\")\n",
    "    for c in range(1,len(Lreg.coef_)):\n",
    "        if(Lreg.coef_[c]>0.0):\n",
    "            print(x.columns[c],\":\",Lreg.coef_[c])\n",
    "    print('\\n')"
   ]
  },
  {
   "cell_type": "code",
   "execution_count": 24,
   "id": "pretty-sequence",
   "metadata": {
    "scrolled": true
   },
   "outputs": [],
   "source": [
    "def loop_lasso_mse(X_train, y_train, x):\n",
    "    best_a = 0.001\n",
    "    best_score = np.inf\n",
    "    best_var = -1\n",
    "    test_a_values = np.arange(0.001,0.1,0.001)\n",
    "    for a in range(0,len(test_a_values)):\n",
    "        Lreg = linear_model.Lasso(alpha = test_a_values[a], tol=0.1)\n",
    "        Lreg.fit(X_train, y_train)\n",
    "        score = cross_val_score(Lreg, X_train, y_train, cv=5, scoring='neg_mean_squared_error')\n",
    "        if(np.average(score)*-1<best_score):\n",
    "            best_score=np.average(score)*-1\n",
    "            best_a = test_a_values[a]\n",
    "            best_var = np.var(score)\n",
    "    print(\"Best score :\",best_score)\n",
    "    print(\"Best Alpha :\",best_a)\n",
    "    print(\"Best Variance :\",best_var)\n",
    "    #Get the best model's coefs\n",
    "    Lreg = linear_model.Lasso(alpha = best_a)\n",
    "    Lreg.fit(X_train, y_train)\n",
    "    print(\"Weight coefficients:\")\n",
    "    for c in range(1,len(Lreg.coef_)):\n",
    "        if(Lreg.coef_[c]>0.0):\n",
    "            print(x.columns[c],\":\",Lreg.coef_[c])\n",
    "    print('\\n')"
   ]
  },
  {
   "cell_type": "code",
   "execution_count": 25,
   "id": "related-stream",
   "metadata": {},
   "outputs": [],
   "source": [
    "def loop_lasso_rmse(X_train, y_train, x):\n",
    "    best_a = 0.001\n",
    "    best_score = np.inf\n",
    "    best_var = -1\n",
    "    test_a_values = np.arange(0.001,0.1,0.001)\n",
    "    for a in range(0,len(test_a_values)):\n",
    "        Lreg = linear_model.Lasso(alpha = test_a_values[a], tol=0.1)\n",
    "        Lreg.fit(X_train, y_train)\n",
    "        score = cross_val_score(Lreg, X_train, y_train, cv=5, scoring='neg_root_mean_squared_error')\n",
    "        if(np.average(score)*-1<best_score):\n",
    "            best_score=np.average(score)*-1\n",
    "            best_a = test_a_values[a]\n",
    "            best_var = np.var(score)\n",
    "    print(\"Best score :\",best_score)\n",
    "    print(\"Best Alpha :\",best_a)\n",
    "    print(\"Best Variance :\",best_var)\n",
    "    #Get the best model's coefs\n",
    "    Lreg = linear_model.Lasso(alpha = best_a)\n",
    "    Lreg.fit(X_train, y_train)\n",
    "    print(\"Weight coefficients:\")\n",
    "    for c in range(1,len(Lreg.coef_)):\n",
    "        if(Lreg.coef_[c]>0.0):\n",
    "            print(x.columns[c],\":\",Lreg.coef_[c])\n",
    "    print('\\n')"
   ]
  },
  {
   "cell_type": "code",
   "execution_count": 30,
   "id": "signed-silence",
   "metadata": {},
   "outputs": [],
   "source": [
    "def LASSO(df):\n",
    "    df_x = df.drop(['Country', 'Population','Active','Recovered','Deaths','Confirmed'],axis=1)\n",
    "    #to help regression, drop some features that are probably highly correlated\n",
    "    #scale the data\n",
    "    x = MinMaxScaler().fit_transform(df_x)\n",
    "\n",
    "    #confirmed\n",
    "    print(\"Confirmed:\")\n",
    "    confirmed_index = -1\n",
    "    for c in range(0,len(df.columns)):\n",
    "        if(df.columns[c] == \"Confirmed\"):\n",
    "            confirmed_index = c\n",
    "    y = df.iloc[:,confirmed_index].values\n",
    "    print(\"R2\")\n",
    "    loop_lasso_r2(x,y, df_x)\n",
    "    print(\"RMSE\")\n",
    "    loop_lasso_rmse(x,y, df_x)\n",
    "    print(\"MSE\")\n",
    "    loop_lasso_mse(x,y, df_x)\n",
    "    \n",
    "    #deaths\n",
    "    print(\"Deaths:\")\n",
    "    deaths_index = -1\n",
    "    for c in range(0,len(df.columns)):\n",
    "        if(df.columns[c] == \"Deaths\"):\n",
    "            deaths_index = c\n",
    "    y = df.iloc[:,deaths_index].values*100\n",
    "    print(\"R2\")\n",
    "    loop_lasso_r2(x,y, df_x)\n",
    "    print(\"RMSE\")\n",
    "    loop_lasso_rmse(x,y, df_x)\n",
    "    print(\"MSE\")\n",
    "    loop_lasso_mse(x,y, df_x)\n",
    "    \n",
    "    #recovered\n",
    "    print(\"Recovered:\")\n",
    "    recovered_index = -1\n",
    "    for c in range(0,len(df.columns)):\n",
    "        if(df.columns[c] == \"Recovered\"):\n",
    "            recovered_index = c\n",
    "    y = df.iloc[:,recovered_index].values\n",
    "    print(\"R2\")\n",
    "    loop_lasso_r2(x,y, df_x)\n",
    "    print(\"RMSE\")\n",
    "    loop_lasso_rmse(x,y, df_x)\n",
    "    print(\"MSE\")\n",
    "    loop_lasso_mse(x,y, df_x)"
   ]
  },
  {
   "cell_type": "code",
   "execution_count": 31,
   "id": "intellectual-africa",
   "metadata": {},
   "outputs": [
    {
     "name": "stdout",
     "output_type": "stream",
     "text": [
      "0\n"
     ]
    },
    {
     "ename": "KeyError",
     "evalue": "\"['Population' 'Active' 'Recovered' 'Deaths' 'Confirmed'] not found in axis\"",
     "output_type": "error",
     "traceback": [
      "\u001b[0;31m--------------------------------------------------------------------\u001b[0m",
      "\u001b[0;31mKeyError\u001b[0m                           Traceback (most recent call last)",
      "\u001b[0;32m<ipython-input-31-7e073e03b066>\u001b[0m in \u001b[0;36m<module>\u001b[0;34m\u001b[0m\n\u001b[0;32m----> 1\u001b[0;31m \u001b[0mLASSO\u001b[0m\u001b[0;34m(\u001b[0m\u001b[0mprotein_df\u001b[0m\u001b[0;34m)\u001b[0m\u001b[0;34m\u001b[0m\u001b[0;34m\u001b[0m\u001b[0m\n\u001b[0m",
      "\u001b[0;32m<ipython-input-30-c8c0f46a0bb1>\u001b[0m in \u001b[0;36mLASSO\u001b[0;34m(df)\u001b[0m\n\u001b[1;32m      6\u001b[0m     \u001b[0mdf\u001b[0m \u001b[0;34m=\u001b[0m \u001b[0mpd\u001b[0m\u001b[0;34m.\u001b[0m\u001b[0mDataFrame\u001b[0m\u001b[0;34m(\u001b[0m\u001b[0mdf\u001b[0m\u001b[0;34m)\u001b[0m\u001b[0;34m\u001b[0m\u001b[0;34m\u001b[0m\u001b[0m\n\u001b[1;32m      7\u001b[0m     \u001b[0mprint\u001b[0m\u001b[0;34m(\u001b[0m\u001b[0mdf\u001b[0m\u001b[0;34m.\u001b[0m\u001b[0mcolumns\u001b[0m\u001b[0;34m[\u001b[0m\u001b[0;36m0\u001b[0m\u001b[0;34m]\u001b[0m\u001b[0;34m)\u001b[0m\u001b[0;34m\u001b[0m\u001b[0;34m\u001b[0m\u001b[0m\n\u001b[0;32m----> 8\u001b[0;31m     \u001b[0mx\u001b[0m \u001b[0;34m=\u001b[0m \u001b[0mdf\u001b[0m\u001b[0;34m.\u001b[0m\u001b[0mdrop\u001b[0m\u001b[0;34m(\u001b[0m\u001b[0;34m[\u001b[0m\u001b[0;34m'Population'\u001b[0m\u001b[0;34m,\u001b[0m\u001b[0;34m'Active'\u001b[0m\u001b[0;34m,\u001b[0m\u001b[0;34m'Recovered'\u001b[0m\u001b[0;34m,\u001b[0m\u001b[0;34m'Deaths'\u001b[0m\u001b[0;34m,\u001b[0m\u001b[0;34m'Confirmed'\u001b[0m\u001b[0;34m]\u001b[0m\u001b[0;34m,\u001b[0m\u001b[0maxis\u001b[0m\u001b[0;34m=\u001b[0m\u001b[0;36m1\u001b[0m\u001b[0;34m)\u001b[0m\u001b[0;34m\u001b[0m\u001b[0;34m\u001b[0m\u001b[0m\n\u001b[0m\u001b[1;32m      9\u001b[0m \u001b[0;34m\u001b[0m\u001b[0m\n\u001b[1;32m     10\u001b[0m     \u001b[0;31m#confirmed\u001b[0m\u001b[0;34m\u001b[0m\u001b[0;34m\u001b[0m\u001b[0;34m\u001b[0m\u001b[0m\n",
      "\u001b[0;32m~/.local/lib/python3.8/site-packages/pandas/core/frame.py\u001b[0m in \u001b[0;36mdrop\u001b[0;34m(self, labels, axis, index, columns, level, inplace, errors)\u001b[0m\n\u001b[1;32m   4161\u001b[0m                 \u001b[0mweight\u001b[0m  \u001b[0;36m1.0\u001b[0m     \u001b[0;36m0.8\u001b[0m\u001b[0;34m\u001b[0m\u001b[0;34m\u001b[0m\u001b[0m\n\u001b[1;32m   4162\u001b[0m         \"\"\"\n\u001b[0;32m-> 4163\u001b[0;31m         return super().drop(\n\u001b[0m\u001b[1;32m   4164\u001b[0m             \u001b[0mlabels\u001b[0m\u001b[0;34m=\u001b[0m\u001b[0mlabels\u001b[0m\u001b[0;34m,\u001b[0m\u001b[0;34m\u001b[0m\u001b[0;34m\u001b[0m\u001b[0m\n\u001b[1;32m   4165\u001b[0m             \u001b[0maxis\u001b[0m\u001b[0;34m=\u001b[0m\u001b[0maxis\u001b[0m\u001b[0;34m,\u001b[0m\u001b[0;34m\u001b[0m\u001b[0;34m\u001b[0m\u001b[0m\n",
      "\u001b[0;32m~/.local/lib/python3.8/site-packages/pandas/core/generic.py\u001b[0m in \u001b[0;36mdrop\u001b[0;34m(self, labels, axis, index, columns, level, inplace, errors)\u001b[0m\n\u001b[1;32m   3885\u001b[0m         \u001b[0;32mfor\u001b[0m \u001b[0maxis\u001b[0m\u001b[0;34m,\u001b[0m \u001b[0mlabels\u001b[0m \u001b[0;32min\u001b[0m \u001b[0maxes\u001b[0m\u001b[0;34m.\u001b[0m\u001b[0mitems\u001b[0m\u001b[0;34m(\u001b[0m\u001b[0;34m)\u001b[0m\u001b[0;34m:\u001b[0m\u001b[0;34m\u001b[0m\u001b[0;34m\u001b[0m\u001b[0m\n\u001b[1;32m   3886\u001b[0m             \u001b[0;32mif\u001b[0m \u001b[0mlabels\u001b[0m \u001b[0;32mis\u001b[0m \u001b[0;32mnot\u001b[0m \u001b[0;32mNone\u001b[0m\u001b[0;34m:\u001b[0m\u001b[0;34m\u001b[0m\u001b[0;34m\u001b[0m\u001b[0m\n\u001b[0;32m-> 3887\u001b[0;31m                 \u001b[0mobj\u001b[0m \u001b[0;34m=\u001b[0m \u001b[0mobj\u001b[0m\u001b[0;34m.\u001b[0m\u001b[0m_drop_axis\u001b[0m\u001b[0;34m(\u001b[0m\u001b[0mlabels\u001b[0m\u001b[0;34m,\u001b[0m \u001b[0maxis\u001b[0m\u001b[0;34m,\u001b[0m \u001b[0mlevel\u001b[0m\u001b[0;34m=\u001b[0m\u001b[0mlevel\u001b[0m\u001b[0;34m,\u001b[0m \u001b[0merrors\u001b[0m\u001b[0;34m=\u001b[0m\u001b[0merrors\u001b[0m\u001b[0;34m)\u001b[0m\u001b[0;34m\u001b[0m\u001b[0;34m\u001b[0m\u001b[0m\n\u001b[0m\u001b[1;32m   3888\u001b[0m \u001b[0;34m\u001b[0m\u001b[0m\n\u001b[1;32m   3889\u001b[0m         \u001b[0;32mif\u001b[0m \u001b[0minplace\u001b[0m\u001b[0;34m:\u001b[0m\u001b[0;34m\u001b[0m\u001b[0;34m\u001b[0m\u001b[0m\n",
      "\u001b[0;32m~/.local/lib/python3.8/site-packages/pandas/core/generic.py\u001b[0m in \u001b[0;36m_drop_axis\u001b[0;34m(self, labels, axis, level, errors)\u001b[0m\n\u001b[1;32m   3919\u001b[0m                 \u001b[0mnew_axis\u001b[0m \u001b[0;34m=\u001b[0m \u001b[0maxis\u001b[0m\u001b[0;34m.\u001b[0m\u001b[0mdrop\u001b[0m\u001b[0;34m(\u001b[0m\u001b[0mlabels\u001b[0m\u001b[0;34m,\u001b[0m \u001b[0mlevel\u001b[0m\u001b[0;34m=\u001b[0m\u001b[0mlevel\u001b[0m\u001b[0;34m,\u001b[0m \u001b[0merrors\u001b[0m\u001b[0;34m=\u001b[0m\u001b[0merrors\u001b[0m\u001b[0;34m)\u001b[0m\u001b[0;34m\u001b[0m\u001b[0;34m\u001b[0m\u001b[0m\n\u001b[1;32m   3920\u001b[0m             \u001b[0;32melse\u001b[0m\u001b[0;34m:\u001b[0m\u001b[0;34m\u001b[0m\u001b[0;34m\u001b[0m\u001b[0m\n\u001b[0;32m-> 3921\u001b[0;31m                 \u001b[0mnew_axis\u001b[0m \u001b[0;34m=\u001b[0m \u001b[0maxis\u001b[0m\u001b[0;34m.\u001b[0m\u001b[0mdrop\u001b[0m\u001b[0;34m(\u001b[0m\u001b[0mlabels\u001b[0m\u001b[0;34m,\u001b[0m \u001b[0merrors\u001b[0m\u001b[0;34m=\u001b[0m\u001b[0merrors\u001b[0m\u001b[0;34m)\u001b[0m\u001b[0;34m\u001b[0m\u001b[0;34m\u001b[0m\u001b[0m\n\u001b[0m\u001b[1;32m   3922\u001b[0m             \u001b[0mresult\u001b[0m \u001b[0;34m=\u001b[0m \u001b[0mself\u001b[0m\u001b[0;34m.\u001b[0m\u001b[0mreindex\u001b[0m\u001b[0;34m(\u001b[0m\u001b[0;34m**\u001b[0m\u001b[0;34m{\u001b[0m\u001b[0maxis_name\u001b[0m\u001b[0;34m:\u001b[0m \u001b[0mnew_axis\u001b[0m\u001b[0;34m}\u001b[0m\u001b[0;34m)\u001b[0m\u001b[0;34m\u001b[0m\u001b[0;34m\u001b[0m\u001b[0m\n\u001b[1;32m   3923\u001b[0m \u001b[0;34m\u001b[0m\u001b[0m\n",
      "\u001b[0;32m~/.local/lib/python3.8/site-packages/pandas/core/indexes/base.py\u001b[0m in \u001b[0;36mdrop\u001b[0;34m(self, labels, errors)\u001b[0m\n\u001b[1;32m   5280\u001b[0m         \u001b[0;32mif\u001b[0m \u001b[0mmask\u001b[0m\u001b[0;34m.\u001b[0m\u001b[0many\u001b[0m\u001b[0;34m(\u001b[0m\u001b[0;34m)\u001b[0m\u001b[0;34m:\u001b[0m\u001b[0;34m\u001b[0m\u001b[0;34m\u001b[0m\u001b[0m\n\u001b[1;32m   5281\u001b[0m             \u001b[0;32mif\u001b[0m \u001b[0merrors\u001b[0m \u001b[0;34m!=\u001b[0m \u001b[0;34m\"ignore\"\u001b[0m\u001b[0;34m:\u001b[0m\u001b[0;34m\u001b[0m\u001b[0;34m\u001b[0m\u001b[0m\n\u001b[0;32m-> 5282\u001b[0;31m                 \u001b[0;32mraise\u001b[0m \u001b[0mKeyError\u001b[0m\u001b[0;34m(\u001b[0m\u001b[0;34mf\"{labels[mask]} not found in axis\"\u001b[0m\u001b[0;34m)\u001b[0m\u001b[0;34m\u001b[0m\u001b[0;34m\u001b[0m\u001b[0m\n\u001b[0m\u001b[1;32m   5283\u001b[0m             \u001b[0mindexer\u001b[0m \u001b[0;34m=\u001b[0m \u001b[0mindexer\u001b[0m\u001b[0;34m[\u001b[0m\u001b[0;34m~\u001b[0m\u001b[0mmask\u001b[0m\u001b[0;34m]\u001b[0m\u001b[0;34m\u001b[0m\u001b[0;34m\u001b[0m\u001b[0m\n\u001b[1;32m   5284\u001b[0m         \u001b[0;32mreturn\u001b[0m \u001b[0mself\u001b[0m\u001b[0;34m.\u001b[0m\u001b[0mdelete\u001b[0m\u001b[0;34m(\u001b[0m\u001b[0mindexer\u001b[0m\u001b[0;34m)\u001b[0m\u001b[0;34m\u001b[0m\u001b[0;34m\u001b[0m\u001b[0m\n",
      "\u001b[0;31mKeyError\u001b[0m: \"['Population' 'Active' 'Recovered' 'Deaths' 'Confirmed'] not found in axis\""
     ]
    }
   ],
   "source": [
    "LASSO(protein_df)"
   ]
  },
  {
   "cell_type": "code",
   "execution_count": null,
   "id": "extended-choir",
   "metadata": {},
   "outputs": [],
   "source": [
    "LASSO(fat_df)"
   ]
  },
  {
   "cell_type": "code",
   "execution_count": null,
   "id": "standard-sharing",
   "metadata": {},
   "outputs": [],
   "source": [
    "LASSO(kg_df)"
   ]
  },
  {
   "cell_type": "code",
   "execution_count": null,
   "id": "appointed-badge",
   "metadata": {},
   "outputs": [],
   "source": [
    "LASSO(kcal_df)"
   ]
  },
  {
   "cell_type": "code",
   "execution_count": null,
   "id": "junior-french",
   "metadata": {},
   "outputs": [],
   "source": [
    "#stronger coefficients = more of an influence on the line of best fit"
   ]
  }
 ],
 "metadata": {
  "kernelspec": {
   "display_name": "Python 3",
   "language": "python",
   "name": "python3"
  },
  "language_info": {
   "codemirror_mode": {
    "name": "ipython",
    "version": 3
   },
   "file_extension": ".py",
   "mimetype": "text/x-python",
   "name": "python",
   "nbconvert_exporter": "python",
   "pygments_lexer": "ipython3",
   "version": "3.8.5"
  }
 },
 "nbformat": 4,
 "nbformat_minor": 5
}
