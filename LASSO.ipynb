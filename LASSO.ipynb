{
 "cells": [
  {
   "cell_type": "code",
   "execution_count": 21,
   "id": "settled-narrow",
   "metadata": {},
   "outputs": [],
   "source": [
    "#import stuff\n",
    "import numpy as np\n",
    "import pandas as pd\n",
    "import matplotlib.pyplot as plt\n",
    "from sklearn.model_selection import cross_val_score\n",
    "from sklearn.model_selection import train_test_split\n",
    "from sklearn import linear_model"
   ]
  },
  {
   "cell_type": "code",
   "execution_count": 7,
   "id": "defined-smoke",
   "metadata": {},
   "outputs": [],
   "source": [
    "#import cleaned up datasets\n",
    "protein_df = pd.read_csv(\"data/data_clean/protein_data_clean.csv\")\n",
    "kg_df = pd.read_csv(\"data/data_clean/kg_data_clean.csv\")\n",
    "kcal_df = pd.read_csv(\"data/data_clean/kcal_data_clean.csv\")\n",
    "fat_df = pd.read_csv(\"data/data_clean/fat_data_clean.csv\")"
   ]
  },
  {
   "cell_type": "code",
   "execution_count": 17,
   "id": "outstanding-kuwait",
   "metadata": {},
   "outputs": [],
   "source": [
    "#seperate each dataset into our y's and x's\n",
    "protein_x = protein_df.drop(['Country', 'Population','Active','Recovered','Deaths','Confirmed','Undernourished'],axis=1)\n",
    "kg_x = kg_df.drop(['Country', 'Population','Active','Recovered','Deaths','Confirmed','Undernourished'],axis=1)\n",
    "kcal_x = kcal_df.drop(['Country', 'Population','Active','Recovered','Deaths','Confirmed','Undernourished'],axis=1)\n",
    "fat_x = fat_df.drop(['Country','Population','Active','Recovered','Deaths','Confirmed','Undernourished'],axis=1)\n",
    "y = protein_df.iloc[:, 26].values"
   ]
  },
  {
   "cell_type": "code",
   "execution_count": 23,
   "id": "demographic-above",
   "metadata": {},
   "outputs": [],
   "source": [
    "#Create training sets\n",
    "X_protein_train, X_protein_test, y_protein_train, y_protein_test = train_test_split(protein_x, y, test_size = 0.2, random_state = 0)\n",
    "X_kg_train, X_kg_test, y_kg_train, y_kg_test = train_test_split(kg_x, y, test_size = 0.2, random_state = 0)\n",
    "X_kcal_train, X_kcal_test, y_kcal_train, y_kcal_test = train_test_split(kcal_x, y, test_size = 0.2, random_state = 0)\n",
    "X_fat_train, X_fat_test, y_fat_train, y_fat_test = train_test_split(fat_x, y, test_size = 0.2, random_state = 0)"
   ]
  },
  {
   "cell_type": "markdown",
   "id": "residential-frank",
   "metadata": {},
   "source": [
    "<h3>\n",
    "I want to figure out what the lambda best value to penalize our model is for LASSO, for each dataset set.\n",
    "I will also print out the weight vector, so we can determine what features LASSO determines are actually important.\n",
    "</h3>"
   ]
  },
  {
   "cell_type": "code",
   "execution_count": 45,
   "id": "pretty-sequence",
   "metadata": {
    "scrolled": true
   },
   "outputs": [
    {
     "name": "stdout",
     "output_type": "stream",
     "text": [
      "Score for alpha 1 : 0.31191278939877887\n",
      "Animal Products_p :\t 0.04603725393491274\n",
      "Milk - Excluding Butter_p :\t 0.16688377781531896\n",
      "Obesity :\t 0.06844044367942913\n",
      "Score for alpha 2 : 0.3275263394890625\n",
      "Animal Products_p :\t 0.049813757170649856\n",
      "Milk - Excluding Butter_p :\t 0.09725088024365224\n",
      "Obesity :\t 0.06875321896586162\n",
      "Score for alpha 3 : 0.31452513065074\n",
      "Animal Products_p :\t 0.05711870798874668\n",
      "Milk - Excluding Butter_p :\t 0.027617005567304925\n",
      "Obesity :\t 0.06905929520847628\n",
      "Score for alpha 4 : 0.29541136298762244\n",
      "Animal Products_p :\t 0.05144455769226609\n",
      "Obesity :\t 0.06526929050401058\n",
      "Score for alpha 5 : 0.25754600481441714\n",
      "Animal Products_p :\t 0.03860468756240013\n",
      "Obesity :\t 0.058785101394804314\n",
      "Score for alpha 6 : 0.20619863970564384\n",
      "Animal Products_p :\t 0.02576481743253424\n",
      "Obesity :\t 0.052300912285598036\n",
      "Score for alpha 7 : 0.14136929973383097\n",
      "Animal Products_p :\t 0.012924947302668318\n",
      "Obesity :\t 0.04581672317639176\n",
      "Score for alpha 8 : 0.07614248549569631\n",
      "Animal Products_p :\t 8.50771728024244e-05\n",
      "Obesity :\t 0.03933253406718543\n",
      "Score for alpha 9 : 0.0023766701326276563\n",
      "Obesity :\t 0.026814312022538176\n",
      "Score for alpha 10 : -0.08419053974780344\n",
      "Obesity :\t 0.01425584169910879\n"
     ]
    }
   ],
   "source": [
    "#protein\n",
    "for a in range (1,11):\n",
    "    Lreg = linear_model.Lasso(alpha = a)\n",
    "    Lreg.fit(X_protein_train, y_protein_train)\n",
    "    scores = cross_val_score(Lreg, X_protein_test, y_protein_test, cv=5)\n",
    "    print(\"Score for alpha\",a,\":\",np.average(scores))\n",
    "    for c in range(0,len(Lreg.coef_)):\n",
    "        if(Lreg.coef_[c]>0.0):\n",
    "            print(X_protein_test.columns[c],\":\\t\",Lreg.coef_[c])"
   ]
  },
  {
   "cell_type": "code",
   "execution_count": null,
   "id": "signed-silence",
   "metadata": {},
   "outputs": [],
   "source": []
  }
 ],
 "metadata": {
  "kernelspec": {
   "display_name": "Python 3",
   "language": "python",
   "name": "python3"
  },
  "language_info": {
   "codemirror_mode": {
    "name": "ipython",
    "version": 3
   },
   "file_extension": ".py",
   "mimetype": "text/x-python",
   "name": "python",
   "nbconvert_exporter": "python",
   "pygments_lexer": "ipython3",
   "version": "3.8.5"
  }
 },
 "nbformat": 4,
 "nbformat_minor": 5
}
