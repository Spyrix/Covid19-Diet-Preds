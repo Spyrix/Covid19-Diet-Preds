{
 "cells": [
  {
   "cell_type": "code",
   "execution_count": 2,
   "id": "structural-prime",
   "metadata": {},
   "outputs": [],
   "source": [
    "#import stuff\n",
    "import numpy as np\n",
    "import sklearn as sk\n",
    "import pandas as pd\n",
    "import statsmodels.api as sm\n",
    "import matplotlib.pyplot as plt\n",
    "from sklearn.model_selection import cross_val_score\n",
    "from sklearn.model_selection import train_test_split\n",
    "from sklearn.svm import SVR\n",
    "from sklearn.preprocessing import StandardScaler\n",
    "from sklearn.preprocessing import MinMaxScaler\n",
    "from sklearn.model_selection import GridSearchCV\n",
    "from sklearn.metrics import classification_report"
   ]
  },
  {
   "cell_type": "code",
   "execution_count": 3,
   "id": "available-element",
   "metadata": {},
   "outputs": [],
   "source": [
    "#import cleaned up datasets\n",
    "protein_df = pd.read_csv(\"data/data_clean/protein_data_clean.csv\")\n",
    "kg_df = pd.read_csv(\"data/data_clean/kg_data_clean.csv\")\n",
    "kcal_df = pd.read_csv(\"data/data_clean/kcal_data_clean.csv\")\n",
    "fat_df = pd.read_csv(\"data/data_clean/fat_data_clean.csv\")"
   ]
  },
  {
   "cell_type": "code",
   "execution_count": 4,
   "id": "wooden-southeast",
   "metadata": {},
   "outputs": [],
   "source": [
    "#We have absolutely no need for obesity and undernourishment because they have nothing to do with diet\n",
    "protein_df = protein_df.drop(['Obesity','Undernourished'],axis=1)\n",
    "kg_df = kg_df.drop(['Obesity','Undernourished'],axis=1)\n",
    "kcal_df = kcal_df.drop(['Obesity','Undernourished'],axis=1)\n",
    "fat_df = fat_df.drop(['Obesity','Undernourished'],axis=1)"
   ]
  },
  {
   "cell_type": "code",
   "execution_count": 5,
   "id": "modern-elimination",
   "metadata": {},
   "outputs": [],
   "source": [
    "def produce_x_y(df,y_var):\n",
    "    df_x = df.drop(['Country', 'Population','Active','Recovered','Deaths','Confirmed'],axis=1)\n",
    "    #df is the df that we are extracting x and y from\n",
    "    #y_var is the name of the y variable we're testing\n",
    "    #scale the data\n",
    "    x = StandardScaler().fit_transform(df_x)\n",
    "    \n",
    "    y_index = -1\n",
    "    for c in range(0,len(df.columns)):\n",
    "        if(df.columns[c] == y_var):\n",
    "            y_index = c\n",
    "    y = df.iloc[:,y_index].values\n",
    "    if(y_var == \"Deaths\"):\n",
    "        y = df.iloc[:,y_index].values*100\n",
    "    \n",
    "    return (x,y)"
   ]
  },
  {
   "cell_type": "code",
   "execution_count": 6,
   "id": "atmospheric-punishment",
   "metadata": {},
   "outputs": [],
   "source": [
    "def svr_gridsearch(df,y_var):\n",
    "    X_y = produce_x_y(df,y_var)\n",
    "    X = X_y[0]\n",
    "    y = X_y[1]\n",
    "    \n",
    "    c = np.arange(1,10,1)\n",
    "    ep = np.arange(0.1,1,0.1)\n",
    "    parameters = {'C': c, 'epsilon' : ep}\n",
    "    svr = SVR(kernel='linear')\n",
    "    clf = GridSearchCV(svr, parameters)\n",
    "    clf.fit(X,y)\n",
    "    \n",
    "    #how do i get the coefficients from svr using grid search??\n",
    "    #print(clf.coef_)\n",
    "    \n",
    "    mse = cross_val_score(clf, X, y, scoring='neg_mean_squared_error', cv=5)\n",
    "    rmse = cross_val_score(clf, X, y, scoring='neg_root_mean_squared_error', cv=5)\n",
    "    mae = cross_val_score(clf, X, y, scoring='neg_mean_absolute_error', cv=5)\n",
    "    r2 = cross_val_score(clf, X, y, scoring='r2', cv=5)\n",
    "\n",
    "    print(f\"R2: {r2.mean()} ({r2.std()})\")\n",
    "    print(f\"MSE: {-mse.mean()} ({mse.std()})\")\n",
    "    print(f\"RMSE: {-rmse.mean()} ({rmse.std()})\")\n",
    "    print(f\"MAE: {-mae.mean()} ({mae.std()})\")\n",
    "    print(\"\\n\")"
   ]
  },
  {
   "cell_type": "code",
   "execution_count": 7,
   "id": "stretch-builder",
   "metadata": {},
   "outputs": [],
   "source": [
    "def svr_baseline(df,y_var):\n",
    "    X_y = produce_x_y(df,y_var)\n",
    "    X = X_y[0]\n",
    "    y = X_y[1]\n",
    "    svr = SVR(kernel='linear')\n",
    "    svr.fit(X,y)\n",
    "    print(svr.coef_)\n",
    "    mse = cross_val_score(svr, X, y, scoring='neg_mean_squared_error', cv=5)\n",
    "    rmse = cross_val_score(svr, X, y, scoring='neg_root_mean_squared_error', cv=5)\n",
    "    mae = cross_val_score(svr, X, y, scoring='neg_mean_absolute_error', cv=5)\n",
    "    r2 = cross_val_score(svr, X, y, scoring='r2', cv=5)\n",
    "\n",
    "    print(f\"R2: {r2.mean()} ({r2.std()})\")\n",
    "    print(f\"MSE: {-mse.mean()} ({mse.std()})\")\n",
    "    print(f\"RMSE: {-rmse.mean()} ({rmse.std()})\")\n",
    "    print(f\"MAE: {-mae.mean()} ({mae.std()})\")\n",
    "    print(\"\\n\")"
   ]
  },
  {
   "cell_type": "markdown",
   "id": "enhanced-bahamas",
   "metadata": {},
   "source": [
    "<h1>Protein Dataframe</h1>"
   ]
  },
  {
   "cell_type": "code",
   "execution_count": 9,
   "id": "offensive-stupid",
   "metadata": {},
   "outputs": [
    {
     "name": "stdout",
     "output_type": "stream",
     "text": [
      "[[ 0.46867222  0.18880858 -0.00915033 -0.25910642 -0.08607218  0.25372624\n",
      "  -0.20873955  0.06370103  0.0820223   0.43254227 -0.48475917 -0.15020546\n",
      "  -0.37398893 -0.06545794  0.05940312  0.13199915  0.02726027  0.12550918\n",
      "   0.2679319  -0.17241836 -0.17826261 -0.00113729 -0.30191396]]\n",
      "R2: 0.34856350869780395 (0.09608435543879974)\n",
      "MSE: 3.54299638830388 (0.794373697476727)\n",
      "RMSE: 1.8706971126969454 (0.20853944675094963)\n",
      "MAE: 1.3708320620190122 (0.09538274879225696)\n",
      "\n",
      "\n",
      "[[ 0.72519735  0.2480765   0.21510156 -0.47671109 -0.07304125  0.69312476\n",
      "  -0.294961    0.08566335  0.26332027  0.3376224  -0.76750435 -0.25912194\n",
      "  -0.37608632 -0.25929769 -0.06569995  0.18321528  0.0200589   0.47618317\n",
      "   0.04641758 -0.23667281  0.3748038   0.01611176 -0.79870474]]\n",
      "R2: 0.3466419479203734 (0.15113681969332698)\n",
      "MSE: 15.376982872901905 (5.211512527059505)\n",
      "RMSE: 3.865572087026687 (0.6590412072868057)\n",
      "MAE: 2.7808090912455214 (0.4633742913260278)\n",
      "\n",
      "\n",
      "[[ 0.25772902  0.0386829   0.2728917  -0.17346291  0.0172703   0.34135201\n",
      "  -0.26304699  0.05875565 -0.00285953  0.19709768 -0.19317778 -0.14508383\n",
      "  -0.2266477   0.05103102  0.08619853  0.01076519 -0.04607399  0.18708061\n",
      "  -0.04629795 -0.02540096 -0.2025963   0.14884695 -0.03587712]]\n",
      "R2: 0.10389246087886148 (0.20762090187907406)\n",
      "MSE: 3.1744335675245963 (0.7522079515880091)\n",
      "RMSE: 1.7692447633941502 (0.21025350110515373)\n",
      "MAE: 1.188235741484867 (0.12154777812519799)\n",
      "\n",
      "\n"
     ]
    }
   ],
   "source": [
    "svr_baseline(protein_df,\"Confirmed\")\n",
    "svr_baseline(protein_df,\"Deaths\")\n",
    "svr_baseline(protein_df,\"Recovered\")"
   ]
  },
  {
   "cell_type": "code",
   "execution_count": 8,
   "id": "abandoned-crest",
   "metadata": {},
   "outputs": [
    {
     "name": "stdout",
     "output_type": "stream",
     "text": [
      "R2: 0.4126865206194221 (0.12103026315514252)\n",
      "MSE: 3.1700166488846238 (0.7815390759788677)\n",
      "RMSE: 1.7671842471915056 (0.21697116251431778)\n",
      "MAE: 1.296751395249779 (0.1201945642469059)\n",
      "\n",
      "\n",
      "R2: 0.36167786586503564 (0.136721882501284)\n",
      "MSE: 14.952174673644075 (4.650857117373263)\n",
      "RMSE: 3.8197474397593916 (0.6014184650438051)\n",
      "MAE: 2.7872125253023987 (0.37572738459872773)\n",
      "\n",
      "\n",
      "R2: 0.015076676243607867 (0.27911699780656335)\n",
      "MSE: 3.4529964949742054 (0.7906866341333355)\n",
      "RMSE: 1.8448952170806312 (0.2221669034019593)\n",
      "MAE: 1.2644858779372725 (0.13222021108510035)\n",
      "\n",
      "\n"
     ]
    }
   ],
   "source": [
    "svr_gridsearch(protein_df,\"Confirmed\")\n",
    "svr_gridsearch(protein_df,\"Deaths\")\n",
    "svr_gridsearch(protein_df,\"Recovered\")"
   ]
  },
  {
   "cell_type": "markdown",
   "id": "promotional-indianapolis",
   "metadata": {},
   "source": [
    "<h1>Kcal Dataframe</h1>"
   ]
  },
  {
   "cell_type": "code",
   "execution_count": 10,
   "id": "simple-hollywood",
   "metadata": {},
   "outputs": [
    {
     "name": "stdout",
     "output_type": "stream",
     "text": [
      "[[ 0.44273527  0.0726963   0.17217829 -0.13780645 -0.15428298  0.25412909\n",
      "  -0.09198685  0.11066151 -0.18342475  0.27193183 -0.43126837 -0.31612661\n",
      "  -0.09086371 -0.19048246 -0.05701045 -0.02683941  0.58974456  0.02906533\n",
      "   0.1479107   0.23140193 -0.07007021  0.01314394 -0.05549206]]\n",
      "R2: 0.37619142022499863 (0.0747162189926754)\n",
      "MSE: 3.399947358748368 (0.7289407427648311)\n",
      "RMSE: 1.8336153208341917 (0.19442791453516345)\n",
      "MAE: 1.3590090482672685 (0.07010937348153759)\n",
      "\n",
      "\n",
      "[[ 0.66380034  0.10723881  0.64473363 -0.29380878 -0.24806414  0.48364933\n",
      "  -0.48400015  0.14900724 -0.17847172  0.12576536 -0.88717196 -0.66572891\n",
      "  -0.11539186 -0.3774606  -0.44408095 -0.01291756  0.48165407  0.07712843\n",
      "   0.50063039  0.6834391  -0.12203682 -0.10398193  0.02691959]]\n",
      "R2: 0.3066329052886584 (0.14812972208171662)\n",
      "MSE: 15.98117492532682 (3.9586035133193733)\n",
      "RMSE: 3.9656810648414678 (0.5045281134730379)\n",
      "MAE: 2.8786277789585677 (0.3273979072269834)\n",
      "\n",
      "\n",
      "[[ 0.14497929 -0.09458003  0.51135455 -0.07648147  0.01026267  0.29632023\n",
      "  -0.21678376  0.14065532 -0.26680019 -0.07915963 -0.01271994  0.0365278\n",
      "  -0.03124638 -0.15276091 -0.00173257 -0.01001454  0.44688903 -0.1444231\n",
      "   0.11885312  0.05501992  0.04553483 -0.13619801  0.14097074]]\n",
      "R2: 0.24491637336876595 (0.15625494553734134)\n",
      "MSE: 2.7265039051915925 (0.7968537558596243)\n",
      "RMSE: 1.633242020930482 (0.24294939032338816)\n",
      "MAE: 1.0689832671510193 (0.12861593505517935)\n",
      "\n",
      "\n"
     ]
    }
   ],
   "source": [
    "svr_baseline(kcal_df,\"Confirmed\")\n",
    "svr_baseline(kcal_df,\"Deaths\")\n",
    "svr_baseline(kcal_df,\"Recovered\")"
   ]
  },
  {
   "cell_type": "code",
   "execution_count": 32,
   "id": "resident-plate",
   "metadata": {},
   "outputs": [
    {
     "name": "stdout",
     "output_type": "stream",
     "text": [
      "{'C': 9, 'epsilon': 1, 'kernel': 'rbf'}\n",
      "R2: 0.42690351683691113 (0.10373212849160368)\n",
      "MSE: 3.109570857475673 (0.7359387257771738)\n",
      "RMSE: 1.7511922359700178 (0.2071149684450696)\n",
      "MAE: 1.3232428068683055 (0.06072751022596069)\n",
      "{'C': 3, 'epsilon': 1, 'kernel': 'rbf'}\n",
      "R2: 0.3781865907515559 (0.11209931375795147)\n",
      "MSE: 14.613671386067733 (4.353817087256721)\n",
      "RMSE: 3.780264233380503 (0.5685716418287585)\n",
      "MAE: 2.912755168808105 (0.3596560498242433)\n",
      "{'C': 1, 'epsilon': 1, 'kernel': 'poly'}\n",
      "R2: 0.20207180063242833 (0.08359590025433526)\n",
      "MSE: 2.885548003739352 (0.737223001098452)\n",
      "RMSE: 1.6859622002897496 (0.20755592724251148)\n",
      "MAE: 1.2819096444405875 (0.08690999543862395)\n"
     ]
    }
   ],
   "source": [
    "svr_gridsearch(kcal_df,\"Confirmed\")\n",
    "svr_gridsearch(kcal_df,\"Deaths\")\n",
    "svr_gridsearch(kcal_df,\"Recovered\")"
   ]
  },
  {
   "cell_type": "markdown",
   "id": "civilian-chick",
   "metadata": {},
   "source": [
    "<h1>KG Dataframe</h1>"
   ]
  },
  {
   "cell_type": "code",
   "execution_count": 11,
   "id": "developed-damage",
   "metadata": {},
   "outputs": [
    {
     "name": "stdout",
     "output_type": "stream",
     "text": [
      "[[ 0.26485396  0.11781665  0.17636491 -0.12420927 -0.26773743  0.24631653\n",
      "  -0.20236988  0.05259303  0.00054344  0.24771131 -0.23200654 -0.41001778\n",
      "  -0.10810771 -0.27855623 -0.11029791 -0.02376906  0.13248838  0.21983288\n",
      "  -0.00364365  0.10185338 -0.05444453  0.0155192  -0.1840306 ]]\n",
      "R2: 0.20861112973571688 (0.28496549505119817)\n",
      "MSE: 4.255949815087734 (1.4420446157112699)\n",
      "RMSE: 2.035275310235033 (0.3370522609854813)\n",
      "MAE: 1.4847302533298685 (0.16162040480977466)\n",
      "\n",
      "\n",
      "[[ 0.52550044  0.53392182  0.27508367 -0.21293563 -0.26968567  0.62527981\n",
      "  -0.54543866 -0.00658204 -0.04730948  0.42464443 -0.47884186 -0.68224436\n",
      "  -0.09898605 -0.33338515 -0.3223396  -0.11433495  0.09720335  0.24436383\n",
      "   0.04984709  0.31235533 -0.17740023 -0.06289937 -0.29106478]]\n",
      "R2: 0.29478400687631046 (0.16933624648751247)\n",
      "MSE: 16.06476210022587 (3.622053580290898)\n",
      "RMSE: 3.981847617738849 (0.45787733000588193)\n",
      "MAE: 2.920205002832495 (0.3825852931389343)\n",
      "\n",
      "\n",
      "[[ 0.10100426  0.36325229 -0.02370797 -0.07074858 -0.13012671  0.28095354\n",
      "  -0.28299223  0.02264813 -0.18002729  0.06745952 -0.10147742 -0.0703247\n",
      "  -0.03583056 -0.20645663  0.00247421  0.00145566  0.00370951  0.38326658\n",
      "  -0.06807698  0.05584838 -0.05628715  0.08317169  0.01944076]]\n",
      "R2: 0.14835018093411081 (0.08487480264278877)\n",
      "MSE: 3.0884296364585424 (0.7608453219049119)\n",
      "RMSE: 1.7438776903387925 (0.21753215301922796)\n",
      "MAE: 1.1844847386967312 (0.08914300261291598)\n",
      "\n",
      "\n"
     ]
    }
   ],
   "source": [
    "svr_baseline(kg_df,\"Confirmed\")\n",
    "svr_baseline(kg_df,\"Deaths\")\n",
    "svr_baseline(kg_df,\"Recovered\")"
   ]
  },
  {
   "cell_type": "code",
   "execution_count": 34,
   "id": "rapid-invalid",
   "metadata": {},
   "outputs": [
    {
     "name": "stdout",
     "output_type": "stream",
     "text": [
      "{'C': 1, 'epsilon': 1, 'kernel': 'rbf'}\n",
      "R2: 0.4087925522410317 (0.07417539105337152)\n",
      "MSE: 3.2435653694955717 (0.7495614413894323)\n",
      "RMSE: 1.7884686919560235 (0.21200261174967114)\n",
      "MAE: 1.3586294458457047 (0.10112960359676307)\n",
      "{'C': 3, 'epsilon': 1, 'kernel': 'rbf'}\n",
      "R2: 0.45606642624296956 (0.0788680225240705)\n",
      "MSE: 12.830644187795054 (3.615949324520849)\n",
      "RMSE: 3.5448166473984566 (0.5147029474578734)\n",
      "MAE: 2.602818692423951 (0.3619364528973304)\n",
      "{'C': 3, 'epsilon': 1, 'kernel': 'poly'}\n",
      "R2: 0.11328391687658353 (0.06282163238716541)\n",
      "MSE: 3.2007288374641627 (0.7107380077967589)\n",
      "RMSE: 1.778321351202257 (0.1957089914192532)\n",
      "MAE: 1.3699305868010163 (0.07225745315805703)\n"
     ]
    }
   ],
   "source": [
    "svr_gridsearch(kg_df,\"Confirmed\")\n",
    "svr_gridsearch(kg_df,\"Deaths\")\n",
    "svr_gridsearch(kg_df,\"Recovered\")"
   ]
  },
  {
   "cell_type": "markdown",
   "id": "intimate-mandate",
   "metadata": {},
   "source": [
    "<h1>Fat Dataframe</h1>"
   ]
  },
  {
   "cell_type": "code",
   "execution_count": 12,
   "id": "connected-swiss",
   "metadata": {},
   "outputs": [
    {
     "name": "stdout",
     "output_type": "stream",
     "text": [
      "[[ 0.0860775   0.10142173  0.62571224 -0.195469   -0.18607403  0.22148279\n",
      "  -0.09270779  0.00177663 -0.29379553 -0.26693094  0.01134573 -0.05931249\n",
      "  -0.08341358  0.00443157 -0.03832982 -0.00362509  0.83429832 -0.01401349\n",
      "  -0.04680461  0.13609142 -0.11438332 -0.06033708  0.01450896]]\n",
      "R2: 0.303728397242183 (0.11580834774617685)\n",
      "MSE: 3.8926853391448533 (1.1773556499241244)\n",
      "RMSE: 1.9478990191478043 (0.31364749376947676)\n",
      "MAE: 1.398699871532965 (0.1707595419295335)\n",
      "\n",
      "\n",
      "[[ 0.06745848  0.36227768  1.31692653 -0.32463769 -0.22033012  0.23423815\n",
      "  -0.28860624  0.18186557 -0.32286589 -0.77307433  0.06563897 -0.68707017\n",
      "  -0.25415719 -0.30329661  0.00291041 -0.08800079  0.22900573 -0.16709075\n",
      "   0.03701174  0.10038886 -0.37212151 -0.18203062  0.07303668]]\n",
      "R2: 0.259030916340108 (0.09110793786287129)\n",
      "MSE: 17.45028994953394 (4.597858763179024)\n",
      "RMSE: 4.13805956901467 (0.5716230863252951)\n",
      "MAE: 2.9776777480790906 (0.3499194946643819)\n",
      "\n",
      "\n",
      "[[ 0.03353311  0.03633154  0.52690252 -0.12772238 -0.07378122  0.21347046\n",
      "  -0.05205119  0.04291988 -0.25242442 -0.06183801 -0.12426082  0.0393685\n",
      "  -0.06119857 -0.03736177  0.03678086 -0.03319093  0.50484316 -0.06778089\n",
      "  -0.05690768  0.03532132 -0.04758805 -0.01301844  0.0806575 ]]\n",
      "R2: 0.1880183249983274 (0.15649486017492706)\n",
      "MSE: 2.868805583621634 (0.6003738604303207)\n",
      "RMSE: 1.684683540985953 (0.17506270405961835)\n",
      "MAE: 1.1489740324634152 (0.12053062127363422)\n",
      "\n",
      "\n"
     ]
    }
   ],
   "source": [
    "svr_baseline(fat_df,\"Confirmed\")\n",
    "svr_baseline(fat_df,\"Deaths\")\n",
    "svr_baseline(fat_df,\"Recovered\")"
   ]
  },
  {
   "cell_type": "code",
   "execution_count": 36,
   "id": "effective-crash",
   "metadata": {},
   "outputs": [
    {
     "name": "stdout",
     "output_type": "stream",
     "text": [
      "{'C': 3, 'epsilon': 1, 'kernel': 'rbf'}\n",
      "R2: 0.4329666835352546 (0.10300610421084935)\n",
      "MSE: 3.036016111686531 (0.5214851498623707)\n",
      "RMSE: 1.7364233972532002 (0.14439493466941672)\n",
      "MAE: 1.3345244255371784 (0.048970678667243)\n",
      "{'C': 5, 'epsilon': 1, 'kernel': 'rbf'}\n",
      "R2: 0.41539882610409434 (0.12979753191790513)\n",
      "MSE: 13.939717692451051 (4.891217771008849)\n",
      "RMSE: 3.6723946761752932 (0.6732273277656008)\n",
      "MAE: 2.743911165552009 (0.4623424286428571)\n",
      "{'C': 1, 'epsilon': 1, 'kernel': 'rbf'}\n",
      "R2: 0.18922795603664697 (0.043045102394941345)\n",
      "MSE: 2.974358451649023 (0.8533047000270964)\n",
      "RMSE: 1.7077020787789858 (0.2410644349192832)\n",
      "MAE: 1.3051848984228027 (0.12800114122235284)\n"
     ]
    }
   ],
   "source": [
    "svr_gridsearch(fat_df,\"Confirmed\")\n",
    "svr_gridsearch(fat_df,\"Deaths\")\n",
    "svr_gridsearch(fat_df,\"Recovered\")"
   ]
  }
 ],
 "metadata": {
  "kernelspec": {
   "display_name": "Python 3",
   "language": "python",
   "name": "python3"
  },
  "language_info": {
   "codemirror_mode": {
    "name": "ipython",
    "version": 3
   },
   "file_extension": ".py",
   "mimetype": "text/x-python",
   "name": "python",
   "nbconvert_exporter": "python",
   "pygments_lexer": "ipython3",
   "version": "3.8.5"
  }
 },
 "nbformat": 4,
 "nbformat_minor": 5
}
