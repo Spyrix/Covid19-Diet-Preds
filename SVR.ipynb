{
 "cells": [
  {
   "cell_type": "code",
   "execution_count": null,
   "id": "structural-prime",
   "metadata": {},
   "outputs": [],
   "source": [
    "#import stuff\n",
    "import numpy as np\n",
    "import sklearn as sk\n",
    "import pandas as pd\n",
    "import statsmodels.api as sm\n",
    "import matplotlib.pyplot as plt\n",
    "from sklearn.model_selection import cross_val_score\n",
    "from sklearn.model_selection import train_test_split\n",
    "from sklearn.svm import SVR\n",
    "from sklearn.preprocessing import StandardScaler\n",
    "from sklearn.preprocessing import MinMaxScaler\n",
    "from sklearn.model_selection import GridSearchCV\n",
    "from sklearn.metrics import classification_report"
   ]
  },
  {
   "cell_type": "code",
   "execution_count": null,
   "id": "available-element",
   "metadata": {},
   "outputs": [],
   "source": [
    "#import cleaned up datasets\n",
    "protein_df = pd.read_csv(\"data/data_clean/protein_data_clean.csv\")\n",
    "kg_df = pd.read_csv(\"data/data_clean/kg_data_clean.csv\")\n",
    "kcal_df = pd.read_csv(\"data/data_clean/kcal_data_clean.csv\")\n",
    "fat_df = pd.read_csv(\"data/data_clean/fat_data_clean.csv\")"
   ]
  },
  {
   "cell_type": "code",
   "execution_count": null,
   "id": "wooden-southeast",
   "metadata": {},
   "outputs": [],
   "source": [
    "#We have absolutely no need for obesity and undernourishment because \n",
    "protein_df = protein_df.drop(['Obesity','Undernourished'],axis=1)\n",
    "kg_df = kg_df.drop(['Obesity','Undernourished'],axis=1)\n",
    "kcal_df = kcal_df.drop(['Obesity','Undernourished'],axis=1)\n",
    "fat_df = fat_df.drop(['Obesity','Undernourished'],axis=1)"
   ]
  },
  {
   "cell_type": "code",
   "execution_count": null,
   "id": "modern-elimination",
   "metadata": {},
   "outputs": [],
   "source": [
    "def produce_x_y(df,y_var):\n",
    "    df_x = df.drop(['Country', 'Population','Active','Recovered','Deaths','Confirmed'],axis=1)\n",
    "    #df is the df that we are extracting x and y from\n",
    "    #y_var is the name of the y variable we're testing\n",
    "    #scale the data\n",
    "    x = StandardScaler().fit_transform(df_x)\n",
    "    \n",
    "    y_index = -1\n",
    "    for c in range(0,len(df.columns)):\n",
    "        if(df.columns[c] == y_var):\n",
    "            y_index = c\n",
    "    y = df.iloc[:,y_index].values\n",
    "    \n",
    "    return (x,y)"
   ]
  },
  {
   "cell_type": "code",
   "execution_count": 147,
   "id": "atmospheric-punishment",
   "metadata": {},
   "outputs": [],
   "source": [
    "def svr_function(df,y_var):\n",
    "    X_y = produce_x_y(df,y_var)\n",
    "    X = X_y[0]\n",
    "    y = X_y[1]\n",
    "    parameters = {'kernel':('linear', 'rbf', 'poly'), 'C': range(1,10,2), 'epsilon' : range(1,10,1)}\n",
    "    svr = SVR()\n",
    "    clf = GridSearchCV(svr, parameters)\n",
    "    clf.fit(X,y)\n",
    "    print(clf.best_params_)\n",
    "    mse = cross_val_score(clf, X, y, scoring='neg_mean_squared_error', cv=5)\n",
    "    rmse = cross_val_score(clf, X, y, scoring='neg_root_mean_squared_error', cv=5)\n",
    "    mae = cross_val_score(clf, X, y, scoring='neg_mean_absolute_error', cv=5)\n",
    "    r2 = cross_val_score(clf, X, y, scoring='r2', cv=5)\n",
    "\n",
    "    print(f\"R2: {r2.mean()} ({r2.std()})\")\n",
    "    print(f\"MSE: {-mse.mean()} ({mse.std()})\")\n",
    "    print(f\"RMSE: {-rmse.mean()} ({rmse.std()})\")\n",
    "    print(f\"MAE: {-mae.mean()} ({mae.std()})\")"
   ]
  },
  {
   "cell_type": "code",
   "execution_count": 150,
   "id": "offensive-stupid",
   "metadata": {},
   "outputs": [
    {
     "name": "stdout",
     "output_type": "stream",
     "text": [
      "{'C': 1, 'epsilon': 1, 'kernel': 'linear'}\n",
      "R2: 0.377791972689192 (0.05087127462451293)\n",
      "MSE: 3.395345465435601 (0.6584440880437257)\n",
      "RMSE: 1.8340559951984496 (0.1777190814522348)\n",
      "MAE: 1.3721300606154276 (0.11477317140869739)\n",
      "{'C': 1, 'epsilon': 3, 'kernel': 'linear'}\n",
      "R2: -1.2885597775869848 (0.5810482959146844)\n",
      "MSE: 0.0050919736293602 (0.0005037779428054839)\n",
      "RMSE: 0.07126949870464691 (0.003554178350692612)\n",
      "MAE: 0.06547535881224328 (0.004033095727608879)\n",
      "{'C': 1, 'epsilon': 1, 'kernel': 'linear'}\n",
      "R2: 0.18015316325366945 (0.02956506485213783)\n",
      "MSE: 2.9870044024016567 (0.7428428787806893)\n",
      "RMSE: 1.7148335240838886 (0.2152914003848918)\n",
      "MAE: 1.2899007568024703 (0.08194930821114942)\n"
     ]
    }
   ],
   "source": [
    "svr_function(protein_df,\"Confirmed\")\n",
    "svr_function(protein_df,\"Deaths\")\n",
    "svr_function(protein_df,\"Recovered\")"
   ]
  },
  {
   "cell_type": "code",
   "execution_count": 152,
   "id": "simple-hollywood",
   "metadata": {},
   "outputs": [
    {
     "name": "stdout",
     "output_type": "stream",
     "text": [
      "{'C': 11, 'epsilon': 1, 'kernel': 'rbf'}\n",
      "R2: 0.4132218776986208 (0.08348351369017303)\n",
      "MSE: 3.2010885560744406 (0.7080505526134732)\n",
      "RMSE: 1.7779758677124782 (0.19972573671537577)\n",
      "MAE: 1.3623639072240232 (0.08196637585829922)\n",
      "{'C': 1, 'epsilon': 3, 'kernel': 'linear'}\n",
      "R2: -1.2885597775869848 (0.5810482959146844)\n",
      "MSE: 0.0050919736293602 (0.0005037779428054839)\n",
      "RMSE: 0.07126949870464691 (0.003554178350692612)\n",
      "MAE: 0.06547535881224328 (0.004033095727608879)\n",
      "{'C': 1, 'epsilon': 1, 'kernel': 'poly'}\n",
      "R2: 0.19463943830350722 (0.09058651902561238)\n",
      "MSE: 2.9060863066437044 (0.7244582762544153)\n",
      "RMSE: 1.692534568349706 (0.20350194491694512)\n",
      "MAE: 1.2973900630350133 (0.09029820939587778)\n"
     ]
    }
   ],
   "source": [
    "svr_function(kcal_df,\"Confirmed\")\n",
    "svr_function(kcal_df,\"Deaths\")\n",
    "svr_function(kcal_df,\"Recovered\")"
   ]
  },
  {
   "cell_type": "code",
   "execution_count": 153,
   "id": "developed-damage",
   "metadata": {},
   "outputs": [
    {
     "name": "stdout",
     "output_type": "stream",
     "text": [
      "{'C': 1, 'epsilon': 1, 'kernel': 'rbf'}\n",
      "R2: 0.4087925522410317 (0.07417539105337152)\n",
      "MSE: 3.2435653694955717 (0.7495614413894323)\n",
      "RMSE: 1.7884686919560235 (0.21200261174967114)\n",
      "MAE: 1.3586294458457047 (0.10112960359676307)\n",
      "{'C': 1, 'epsilon': 3, 'kernel': 'linear'}\n",
      "R2: -1.2885597775869848 (0.5810482959146844)\n",
      "MSE: 0.0050919736293602 (0.0005037779428054839)\n",
      "RMSE: 0.07126949870464691 (0.003554178350692612)\n",
      "MAE: 0.06547535881224328 (0.004033095727608879)\n",
      "{'C': 6, 'epsilon': 1, 'kernel': 'poly'}\n",
      "R2: 0.11328391687658353 (0.06282163238716541)\n",
      "MSE: 3.2007288374641627 (0.7107380077967589)\n",
      "RMSE: 1.778321351202257 (0.1957089914192532)\n",
      "MAE: 1.3699305868010163 (0.07225745315805703)\n"
     ]
    }
   ],
   "source": [
    "svr_function(kg_df,\"Confirmed\")\n",
    "svr_function(kg_df,\"Deaths\")\n",
    "svr_function(kg_df,\"Recovered\")"
   ]
  },
  {
   "cell_type": "code",
   "execution_count": 154,
   "id": "connected-swiss",
   "metadata": {},
   "outputs": [
    {
     "name": "stdout",
     "output_type": "stream",
     "text": [
      "{'C': 6, 'epsilon': 1, 'kernel': 'rbf'}\n",
      "R2: 0.45025116194882636 (0.11446594392794239)\n",
      "MSE: 2.9243828836557126 (0.49397293244486423)\n",
      "RMSE: 1.7042929629583043 (0.14060007136028443)\n",
      "MAE: 1.3027202229242278 (0.06471439268961382)\n",
      "{'C': 1, 'epsilon': 3, 'kernel': 'linear'}\n",
      "R2: -1.2885597775869848 (0.5810482959146844)\n",
      "MSE: 0.0050919736293602 (0.0005037779428054839)\n",
      "RMSE: 0.07126949870464691 (0.003554178350692612)\n",
      "MAE: 0.06547535881224328 (0.004033095727608879)\n",
      "{'C': 1, 'epsilon': 1, 'kernel': 'rbf'}\n",
      "R2: 0.17973623511851072 (0.044262620583771145)\n",
      "MSE: 3.000587506513812 (0.8309280943632213)\n",
      "RMSE: 1.7164092385676741 (0.23350981194234355)\n",
      "MAE: 1.3039768908094502 (0.1285025701339657)\n"
     ]
    }
   ],
   "source": [
    "svr_function(fat_df,\"Confirmed\")\n",
    "svr_function(fat_df,\"Deaths\")\n",
    "svr_function(fat_df,\"Recovered\")"
   ]
  },
  {
   "cell_type": "code",
   "execution_count": null,
   "id": "effective-crash",
   "metadata": {},
   "outputs": [],
   "source": []
  }
 ],
 "metadata": {
  "kernelspec": {
   "display_name": "Python 3",
   "language": "python",
   "name": "python3"
  },
  "language_info": {
   "codemirror_mode": {
    "name": "ipython",
    "version": 3
   },
   "file_extension": ".py",
   "mimetype": "text/x-python",
   "name": "python",
   "nbconvert_exporter": "python",
   "pygments_lexer": "ipython3",
   "version": "3.8.5"
  }
 },
 "nbformat": 4,
 "nbformat_minor": 5
}
